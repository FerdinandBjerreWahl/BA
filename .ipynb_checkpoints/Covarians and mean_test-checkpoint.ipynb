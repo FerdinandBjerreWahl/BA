{
 "cells": [
  {
   "cell_type": "markdown",
   "id": "9a23ba7c",
   "metadata": {},
   "source": [
    "### Import data"
   ]
  },
  {
   "cell_type": "code",
   "execution_count": 1,
   "id": "63ab10e7",
   "metadata": {},
   "outputs": [],
   "source": [
    "import numpy as np\n",
    "import pandas as pd\n",
    "import matplotlib.pyplot as plt\n",
    "from sympy import symbols, solve\n",
    "import itertools\n",
    "import yfinance as yf\n",
    "from sklearn.linear_model import LinearRegression\n",
    "import math"
   ]
  },
  {
   "cell_type": "code",
   "execution_count": 2,
   "id": "331196e9",
   "metadata": {},
   "outputs": [
    {
     "name": "stdout",
     "output_type": "stream",
     "text": [
      "[*********************100%***********************]  4 of 4 completed\n"
     ]
    }
   ],
   "source": [
    "indexes = yf.download(\"TSLA KO V SHEL\", start=\"2011-02-01\", end=\"2022-02-01\")"
   ]
  },
  {
   "cell_type": "markdown",
   "id": "52fbfa28",
   "metadata": {},
   "source": [
    "### Middelværdi formel"
   ]
  },
  {
   "attachments": {
    "image.png": {
     "image/png": "[encoded data removed]"
    }
   },
   "cell_type": "markdown",
   "id": "95b43828",
   "metadata": {},
   "source": [
    "![image.png](attachment:image.png)"
   ]
  },
  {
   "cell_type": "code",
   "execution_count": 3,
   "id": "3cd9a9ac",
   "metadata": {},
   "outputs": [
    {
     "data": {
      "text/html": [
       "<div>\n",
       "<style scoped>\n",
       "    .dataframe tbody tr th:only-of-type {\n",
       "        vertical-align: middle;\n",
       "    }\n",
       "\n",
       "    .dataframe tbody tr th {\n",
       "        vertical-align: top;\n",
       "    }\n",
       "\n",
       "    .dataframe thead th {\n",
       "        text-align: right;\n",
       "    }\n",
       "</style>\n",
       "<table border=\"1\" class=\"dataframe\">\n",
       "  <thead>\n",
       "    <tr style=\"text-align: right;\">\n",
       "      <th></th>\n",
       "      <th>KO</th>\n",
       "      <th>SHEL</th>\n",
       "      <th>TSLA</th>\n",
       "      <th>V</th>\n",
       "    </tr>\n",
       "    <tr>\n",
       "      <th>Date</th>\n",
       "      <th></th>\n",
       "      <th></th>\n",
       "      <th></th>\n",
       "      <th></th>\n",
       "    </tr>\n",
       "  </thead>\n",
       "  <tbody>\n",
       "    <tr>\n",
       "      <th>2011-12-31 00:00:00-05:00</th>\n",
       "      <td>NaN</td>\n",
       "      <td>NaN</td>\n",
       "      <td>NaN</td>\n",
       "      <td>NaN</td>\n",
       "    </tr>\n",
       "    <tr>\n",
       "      <th>2012-12-31 00:00:00-05:00</th>\n",
       "      <td>0.065276</td>\n",
       "      <td>-0.009087</td>\n",
       "      <td>0.185924</td>\n",
       "      <td>0.504669</td>\n",
       "    </tr>\n",
       "    <tr>\n",
       "      <th>2013-12-31 00:00:00-05:00</th>\n",
       "      <td>0.172331</td>\n",
       "      <td>0.090379</td>\n",
       "      <td>3.441394</td>\n",
       "      <td>0.480564</td>\n",
       "    </tr>\n",
       "    <tr>\n",
       "      <th>2014-12-31 00:00:00-05:00</th>\n",
       "      <td>0.052661</td>\n",
       "      <td>-0.012650</td>\n",
       "      <td>0.478495</td>\n",
       "      <td>0.186358</td>\n",
       "    </tr>\n",
       "    <tr>\n",
       "      <th>2015-12-31 00:00:00-05:00</th>\n",
       "      <td>0.051399</td>\n",
       "      <td>-0.271207</td>\n",
       "      <td>0.079133</td>\n",
       "      <td>0.191374</td>\n",
       "    </tr>\n",
       "    <tr>\n",
       "      <th>2016-12-31 00:00:00-05:00</th>\n",
       "      <td>-0.003571</td>\n",
       "      <td>0.282596</td>\n",
       "      <td>-0.109662</td>\n",
       "      <td>0.013712</td>\n",
       "    </tr>\n",
       "    <tr>\n",
       "      <th>2017-12-31 00:00:00-05:00</th>\n",
       "      <td>0.143821</td>\n",
       "      <td>0.310230</td>\n",
       "      <td>0.457017</td>\n",
       "      <td>0.471765</td>\n",
       "    </tr>\n",
       "    <tr>\n",
       "      <th>2018-12-31 00:00:00-05:00</th>\n",
       "      <td>0.067735</td>\n",
       "      <td>-0.075133</td>\n",
       "      <td>0.068894</td>\n",
       "      <td>0.164876</td>\n",
       "    </tr>\n",
       "    <tr>\n",
       "      <th>2019-12-31 00:00:00-05:00</th>\n",
       "      <td>0.205994</td>\n",
       "      <td>0.077085</td>\n",
       "      <td>0.257001</td>\n",
       "      <td>0.433270</td>\n",
       "    </tr>\n",
       "    <tr>\n",
       "      <th>2020-12-31 00:00:00-05:00</th>\n",
       "      <td>0.024691</td>\n",
       "      <td>-0.374393</td>\n",
       "      <td>7.434370</td>\n",
       "      <td>0.171242</td>\n",
       "    </tr>\n",
       "    <tr>\n",
       "      <th>2021-12-31 00:00:00-05:00</th>\n",
       "      <td>0.113725</td>\n",
       "      <td>0.284254</td>\n",
       "      <td>0.497556</td>\n",
       "      <td>-0.003149</td>\n",
       "    </tr>\n",
       "    <tr>\n",
       "      <th>2022-12-31 00:00:00-05:00</th>\n",
       "      <td>0.030400</td>\n",
       "      <td>0.184332</td>\n",
       "      <td>-0.113609</td>\n",
       "      <td>0.043653</td>\n",
       "    </tr>\n",
       "  </tbody>\n",
       "</table>\n",
       "</div>"
      ],
      "text/plain": [
       "                                 KO      SHEL      TSLA         V\n",
       "Date                                                             \n",
       "2011-12-31 00:00:00-05:00       NaN       NaN       NaN       NaN\n",
       "2012-12-31 00:00:00-05:00  0.065276 -0.009087  0.185924  0.504669\n",
       "2013-12-31 00:00:00-05:00  0.172331  0.090379  3.441394  0.480564\n",
       "2014-12-31 00:00:00-05:00  0.052661 -0.012650  0.478495  0.186358\n",
       "2015-12-31 00:00:00-05:00  0.051399 -0.271207  0.079133  0.191374\n",
       "2016-12-31 00:00:00-05:00 -0.003571  0.282596 -0.109662  0.013712\n",
       "2017-12-31 00:00:00-05:00  0.143821  0.310230  0.457017  0.471765\n",
       "2018-12-31 00:00:00-05:00  0.067735 -0.075133  0.068894  0.164876\n",
       "2019-12-31 00:00:00-05:00  0.205994  0.077085  0.257001  0.433270\n",
       "2020-12-31 00:00:00-05:00  0.024691 -0.374393  7.434370  0.171242\n",
       "2021-12-31 00:00:00-05:00  0.113725  0.284254  0.497556 -0.003149\n",
       "2022-12-31 00:00:00-05:00  0.030400  0.184332 -0.113609  0.043653"
      ]
     },
     "execution_count": 3,
     "metadata": {},
     "output_type": "execute_result"
    }
   ],
   "source": [
    "returns = indexes['Adj Close'].resample('y').ffill().pct_change()\n",
    "returns"
   ]
  },
  {
   "cell_type": "code",
   "execution_count": 4,
   "id": "6d9ecf9b",
   "metadata": {},
   "outputs": [
    {
     "data": {
      "text/html": [
       "<div>\n",
       "<style scoped>\n",
       "    .dataframe tbody tr th:only-of-type {\n",
       "        vertical-align: middle;\n",
       "    }\n",
       "\n",
       "    .dataframe tbody tr th {\n",
       "        vertical-align: top;\n",
       "    }\n",
       "\n",
       "    .dataframe thead th {\n",
       "        text-align: right;\n",
       "    }\n",
       "</style>\n",
       "<table border=\"1\" class=\"dataframe\">\n",
       "  <thead>\n",
       "    <tr style=\"text-align: right;\">\n",
       "      <th></th>\n",
       "      <th>KO</th>\n",
       "      <th>SHEL</th>\n",
       "      <th>TSLA</th>\n",
       "      <th>V</th>\n",
       "    </tr>\n",
       "    <tr>\n",
       "      <th>Date</th>\n",
       "      <th></th>\n",
       "      <th></th>\n",
       "      <th></th>\n",
       "      <th></th>\n",
       "    </tr>\n",
       "  </thead>\n",
       "  <tbody>\n",
       "    <tr>\n",
       "      <th>2012-12-31 00:00:00-05:00</th>\n",
       "      <td>0.065276</td>\n",
       "      <td>-0.009087</td>\n",
       "      <td>0.185924</td>\n",
       "      <td>0.504669</td>\n",
       "    </tr>\n",
       "    <tr>\n",
       "      <th>2013-12-31 00:00:00-05:00</th>\n",
       "      <td>0.172331</td>\n",
       "      <td>0.090379</td>\n",
       "      <td>3.441394</td>\n",
       "      <td>0.480564</td>\n",
       "    </tr>\n",
       "    <tr>\n",
       "      <th>2014-12-31 00:00:00-05:00</th>\n",
       "      <td>0.052661</td>\n",
       "      <td>-0.012650</td>\n",
       "      <td>0.478495</td>\n",
       "      <td>0.186358</td>\n",
       "    </tr>\n",
       "    <tr>\n",
       "      <th>2015-12-31 00:00:00-05:00</th>\n",
       "      <td>0.051399</td>\n",
       "      <td>-0.271207</td>\n",
       "      <td>0.079133</td>\n",
       "      <td>0.191374</td>\n",
       "    </tr>\n",
       "    <tr>\n",
       "      <th>2016-12-31 00:00:00-05:00</th>\n",
       "      <td>-0.003571</td>\n",
       "      <td>0.282596</td>\n",
       "      <td>-0.109662</td>\n",
       "      <td>0.013712</td>\n",
       "    </tr>\n",
       "    <tr>\n",
       "      <th>2017-12-31 00:00:00-05:00</th>\n",
       "      <td>0.143821</td>\n",
       "      <td>0.310230</td>\n",
       "      <td>0.457017</td>\n",
       "      <td>0.471765</td>\n",
       "    </tr>\n",
       "    <tr>\n",
       "      <th>2018-12-31 00:00:00-05:00</th>\n",
       "      <td>0.067735</td>\n",
       "      <td>-0.075133</td>\n",
       "      <td>0.068894</td>\n",
       "      <td>0.164876</td>\n",
       "    </tr>\n",
       "    <tr>\n",
       "      <th>2019-12-31 00:00:00-05:00</th>\n",
       "      <td>0.205994</td>\n",
       "      <td>0.077085</td>\n",
       "      <td>0.257001</td>\n",
       "      <td>0.433270</td>\n",
       "    </tr>\n",
       "    <tr>\n",
       "      <th>2020-12-31 00:00:00-05:00</th>\n",
       "      <td>0.024691</td>\n",
       "      <td>-0.374393</td>\n",
       "      <td>7.434370</td>\n",
       "      <td>0.171242</td>\n",
       "    </tr>\n",
       "    <tr>\n",
       "      <th>2021-12-31 00:00:00-05:00</th>\n",
       "      <td>0.113725</td>\n",
       "      <td>0.284254</td>\n",
       "      <td>0.497556</td>\n",
       "      <td>-0.003149</td>\n",
       "    </tr>\n",
       "    <tr>\n",
       "      <th>2022-12-31 00:00:00-05:00</th>\n",
       "      <td>0.030400</td>\n",
       "      <td>0.184332</td>\n",
       "      <td>-0.113609</td>\n",
       "      <td>0.043653</td>\n",
       "    </tr>\n",
       "  </tbody>\n",
       "</table>\n",
       "</div>"
      ],
      "text/plain": [
       "                                 KO      SHEL      TSLA         V\n",
       "Date                                                             \n",
       "2012-12-31 00:00:00-05:00  0.065276 -0.009087  0.185924  0.504669\n",
       "2013-12-31 00:00:00-05:00  0.172331  0.090379  3.441394  0.480564\n",
       "2014-12-31 00:00:00-05:00  0.052661 -0.012650  0.478495  0.186358\n",
       "2015-12-31 00:00:00-05:00  0.051399 -0.271207  0.079133  0.191374\n",
       "2016-12-31 00:00:00-05:00 -0.003571  0.282596 -0.109662  0.013712\n",
       "2017-12-31 00:00:00-05:00  0.143821  0.310230  0.457017  0.471765\n",
       "2018-12-31 00:00:00-05:00  0.067735 -0.075133  0.068894  0.164876\n",
       "2019-12-31 00:00:00-05:00  0.205994  0.077085  0.257001  0.433270\n",
       "2020-12-31 00:00:00-05:00  0.024691 -0.374393  7.434370  0.171242\n",
       "2021-12-31 00:00:00-05:00  0.113725  0.284254  0.497556 -0.003149\n",
       "2022-12-31 00:00:00-05:00  0.030400  0.184332 -0.113609  0.043653"
      ]
     },
     "execution_count": 4,
     "metadata": {},
     "output_type": "execute_result"
    }
   ],
   "source": [
    "returns = returns[1:]\n",
    "returns"
   ]
  },
  {
   "cell_type": "markdown",
   "id": "28a75f80",
   "metadata": {},
   "source": [
    "### Test af numpy cov() og mean() Middelværdi"
   ]
  },
  {
   "cell_type": "code",
   "execution_count": 5,
   "id": "169007db",
   "metadata": {},
   "outputs": [
    {
     "data": {
      "text/html": [
       "<div>\n",
       "<style scoped>\n",
       "    .dataframe tbody tr th:only-of-type {\n",
       "        vertical-align: middle;\n",
       "    }\n",
       "\n",
       "    .dataframe tbody tr th {\n",
       "        vertical-align: top;\n",
       "    }\n",
       "\n",
       "    .dataframe thead th {\n",
       "        text-align: right;\n",
       "    }\n",
       "</style>\n",
       "<table border=\"1\" class=\"dataframe\">\n",
       "  <thead>\n",
       "    <tr style=\"text-align: right;\">\n",
       "      <th></th>\n",
       "      <th>KO</th>\n",
       "      <th>SHEL</th>\n",
       "      <th>TSLA</th>\n",
       "      <th>V</th>\n",
       "    </tr>\n",
       "    <tr>\n",
       "      <th>Date</th>\n",
       "      <th></th>\n",
       "      <th></th>\n",
       "      <th></th>\n",
       "      <th></th>\n",
       "    </tr>\n",
       "  </thead>\n",
       "  <tbody>\n",
       "    <tr>\n",
       "      <th>2012-12-31 00:00:00-05:00</th>\n",
       "      <td>0.065276</td>\n",
       "      <td>-0.009087</td>\n",
       "      <td>0.185924</td>\n",
       "      <td>0.504669</td>\n",
       "    </tr>\n",
       "    <tr>\n",
       "      <th>2013-12-31 00:00:00-05:00</th>\n",
       "      <td>0.172331</td>\n",
       "      <td>0.090379</td>\n",
       "      <td>3.441394</td>\n",
       "      <td>0.480564</td>\n",
       "    </tr>\n",
       "    <tr>\n",
       "      <th>2014-12-31 00:00:00-05:00</th>\n",
       "      <td>0.052661</td>\n",
       "      <td>-0.012650</td>\n",
       "      <td>0.478495</td>\n",
       "      <td>0.186358</td>\n",
       "    </tr>\n",
       "    <tr>\n",
       "      <th>2015-12-31 00:00:00-05:00</th>\n",
       "      <td>0.051399</td>\n",
       "      <td>-0.271207</td>\n",
       "      <td>0.079133</td>\n",
       "      <td>0.191374</td>\n",
       "    </tr>\n",
       "    <tr>\n",
       "      <th>2016-12-31 00:00:00-05:00</th>\n",
       "      <td>-0.003571</td>\n",
       "      <td>0.282596</td>\n",
       "      <td>-0.109662</td>\n",
       "      <td>0.013712</td>\n",
       "    </tr>\n",
       "    <tr>\n",
       "      <th>2017-12-31 00:00:00-05:00</th>\n",
       "      <td>0.143821</td>\n",
       "      <td>0.310230</td>\n",
       "      <td>0.457017</td>\n",
       "      <td>0.471765</td>\n",
       "    </tr>\n",
       "    <tr>\n",
       "      <th>2018-12-31 00:00:00-05:00</th>\n",
       "      <td>0.067735</td>\n",
       "      <td>-0.075133</td>\n",
       "      <td>0.068894</td>\n",
       "      <td>0.164876</td>\n",
       "    </tr>\n",
       "    <tr>\n",
       "      <th>2019-12-31 00:00:00-05:00</th>\n",
       "      <td>0.205994</td>\n",
       "      <td>0.077085</td>\n",
       "      <td>0.257001</td>\n",
       "      <td>0.433270</td>\n",
       "    </tr>\n",
       "    <tr>\n",
       "      <th>2020-12-31 00:00:00-05:00</th>\n",
       "      <td>0.024691</td>\n",
       "      <td>-0.374393</td>\n",
       "      <td>7.434370</td>\n",
       "      <td>0.171242</td>\n",
       "    </tr>\n",
       "    <tr>\n",
       "      <th>2021-12-31 00:00:00-05:00</th>\n",
       "      <td>0.113725</td>\n",
       "      <td>0.284254</td>\n",
       "      <td>0.497556</td>\n",
       "      <td>-0.003149</td>\n",
       "    </tr>\n",
       "    <tr>\n",
       "      <th>2022-12-31 00:00:00-05:00</th>\n",
       "      <td>0.030400</td>\n",
       "      <td>0.184332</td>\n",
       "      <td>-0.113609</td>\n",
       "      <td>0.043653</td>\n",
       "    </tr>\n",
       "  </tbody>\n",
       "</table>\n",
       "</div>"
      ],
      "text/plain": [
       "                                 KO      SHEL      TSLA         V\n",
       "Date                                                             \n",
       "2012-12-31 00:00:00-05:00  0.065276 -0.009087  0.185924  0.504669\n",
       "2013-12-31 00:00:00-05:00  0.172331  0.090379  3.441394  0.480564\n",
       "2014-12-31 00:00:00-05:00  0.052661 -0.012650  0.478495  0.186358\n",
       "2015-12-31 00:00:00-05:00  0.051399 -0.271207  0.079133  0.191374\n",
       "2016-12-31 00:00:00-05:00 -0.003571  0.282596 -0.109662  0.013712\n",
       "2017-12-31 00:00:00-05:00  0.143821  0.310230  0.457017  0.471765\n",
       "2018-12-31 00:00:00-05:00  0.067735 -0.075133  0.068894  0.164876\n",
       "2019-12-31 00:00:00-05:00  0.205994  0.077085  0.257001  0.433270\n",
       "2020-12-31 00:00:00-05:00  0.024691 -0.374393  7.434370  0.171242\n",
       "2021-12-31 00:00:00-05:00  0.113725  0.284254  0.497556 -0.003149\n",
       "2022-12-31 00:00:00-05:00  0.030400  0.184332 -0.113609  0.043653"
      ]
     },
     "execution_count": 5,
     "metadata": {},
     "output_type": "execute_result"
    }
   ],
   "source": [
    "returns = indexes['Adj Close'].resample('y').ffill().pct_change()\n",
    "returns = returns[1:]\n",
    "returns"
   ]
  },
  {
   "cell_type": "code",
   "execution_count": 6,
   "id": "6c889b47",
   "metadata": {},
   "outputs": [
    {
     "data": {
      "text/plain": [
       "KO      0.084042\n",
       "SHEL    0.044219\n",
       "TSLA    1.152410\n",
       "V       0.241667\n",
       "dtype: float64"
      ]
     },
     "execution_count": 6,
     "metadata": {},
     "output_type": "execute_result"
    }
   ],
   "source": [
    "returns.mean()"
   ]
  },
  {
   "cell_type": "code",
   "execution_count": 7,
   "id": "73373f9e",
   "metadata": {},
   "outputs": [
    {
     "data": {
      "text/plain": [
       "array([[ 6.52756520e-02, -9.08664550e-03,  1.85924288e-01,\n",
       "         5.04669355e-01],\n",
       "       [ 1.72330511e-01,  9.03788750e-02,  3.44139411e+00,\n",
       "         4.80563997e-01],\n",
       "       [ 5.26608594e-02, -1.26496372e-02,  4.78494877e-01,\n",
       "         1.86357803e-01],\n",
       "       [ 5.13985195e-02, -2.71207260e-01,  7.91331850e-02,\n",
       "         1.91373911e-01],\n",
       "       [-3.57125265e-03,  2.82596074e-01, -1.09662130e-01,\n",
       "         1.37121256e-02],\n",
       "       [ 1.43821049e-01,  3.10229579e-01,  4.57017111e-01,\n",
       "         4.71764867e-01],\n",
       "       [ 6.77348395e-02, -7.51325172e-02,  6.88935445e-02,\n",
       "         1.64876001e-01],\n",
       "       [ 2.05994402e-01,  7.70849173e-02,  2.57001189e-01,\n",
       "         4.33269964e-01],\n",
       "       [ 2.46913477e-02, -3.74392635e-01,  7.43436995e+00,\n",
       "         1.71242089e-01],\n",
       "       [ 1.13724689e-01,  2.84254100e-01,  4.97555592e-01,\n",
       "        -3.14924922e-03],\n",
       "       [ 3.04002988e-02,  1.84331785e-01, -1.13609318e-01,\n",
       "         4.36528646e-02]])"
      ]
     },
     "execution_count": 7,
     "metadata": {},
     "output_type": "execute_result"
    }
   ],
   "source": [
    "np_returns = returns.to_numpy()\n",
    "np_returns"
   ]
  },
  {
   "cell_type": "code",
   "execution_count": 8,
   "id": "3c511d6a",
   "metadata": {},
   "outputs": [
    {
     "data": {
      "text/plain": [
       "0.17233051099810148"
      ]
     },
     "execution_count": 8,
     "metadata": {},
     "output_type": "execute_result"
    }
   ],
   "source": [
    "np_returns[1,0]"
   ]
  },
  {
   "cell_type": "code",
   "execution_count": 9,
   "id": "2a4baa46",
   "metadata": {},
   "outputs": [
    {
     "name": "stdout",
     "output_type": "stream",
     "text": [
      "11\n",
      "4\n"
     ]
    }
   ],
   "source": [
    "a,b = np.shape(np_returns)\n",
    "print(a)\n",
    "print(b)"
   ]
  },
  {
   "cell_type": "code",
   "execution_count": 10,
   "id": "61f9b0d5",
   "metadata": {},
   "outputs": [
    {
     "data": {
      "text/plain": [
       "array([[0., 0., 0., 0.]])"
      ]
     },
     "execution_count": 10,
     "metadata": {},
     "output_type": "execute_result"
    }
   ],
   "source": [
    "test = np.zeros((1,4))\n",
    "test"
   ]
  },
  {
   "cell_type": "code",
   "execution_count": 11,
   "id": "fb299178",
   "metadata": {},
   "outputs": [
    {
     "data": {
      "text/plain": [
       "0.0"
      ]
     },
     "execution_count": 11,
     "metadata": {},
     "output_type": "execute_result"
    }
   ],
   "source": [
    "test[0,1]"
   ]
  },
  {
   "cell_type": "code",
   "execution_count": 12,
   "id": "45c8b454",
   "metadata": {},
   "outputs": [],
   "source": [
    "def mean_value(x):\n",
    "    \"\"\" Takes a dataframe x as input, assuming columns are indexes and rows are values\n",
    "    Returns a columns vector of mean values for each index\n",
    "    \"\"\"\n",
    "    rows, columns = np.shape(x)\n",
    "    mean_matrix = np.zeros(columns)\n",
    "    \n",
    "    x = x.to_numpy()\n",
    "    for i in range(columns):\n",
    "        result = 0\n",
    "        for j in range(rows):\n",
    "            result += x[j,i]\n",
    "        result = result*(1/rows)\n",
    "        \n",
    "        mean_matrix[i] = result\n",
    "    \n",
    "    return mean_matrix"
   ]
  },
  {
   "cell_type": "code",
   "execution_count": 13,
   "id": "7f176a6e",
   "metadata": {},
   "outputs": [
    {
     "data": {
      "text/plain": [
       "array([0.0840419 , 0.04421879, 1.15241022, 0.2416667 ])"
      ]
     },
     "execution_count": 13,
     "metadata": {},
     "output_type": "execute_result"
    }
   ],
   "source": [
    "mean_value(returns)"
   ]
  },
  {
   "cell_type": "code",
   "execution_count": 14,
   "id": "6e8ad3e2",
   "metadata": {},
   "outputs": [
    {
     "data": {
      "text/plain": [
       "KO      0.084042\n",
       "SHEL    0.044219\n",
       "TSLA    1.152410\n",
       "V       0.241667\n",
       "dtype: float64"
      ]
     },
     "execution_count": 14,
     "metadata": {},
     "output_type": "execute_result"
    }
   ],
   "source": [
    "returns.mean()"
   ]
  },
  {
   "cell_type": "code",
   "execution_count": 15,
   "id": "f13b763c",
   "metadata": {},
   "outputs": [
    {
     "data": {
      "text/plain": [
       "array([0.0840419 , 0.04421879, 1.15241022, 0.2416667 ])"
      ]
     },
     "execution_count": 15,
     "metadata": {},
     "output_type": "execute_result"
    }
   ],
   "source": [
    "test1 = returns.mean().to_numpy()\n",
    "test1"
   ]
  },
  {
   "cell_type": "code",
   "execution_count": 16,
   "id": "11483c6f",
   "metadata": {},
   "outputs": [
    {
     "data": {
      "text/plain": [
       "array([0.0840419 , 0.04421879, 1.15241022, 0.2416667 ])"
      ]
     },
     "execution_count": 16,
     "metadata": {},
     "output_type": "execute_result"
    }
   ],
   "source": [
    "test2 = mean_value(returns)\n",
    "test2"
   ]
  },
  {
   "cell_type": "code",
   "execution_count": 17,
   "id": "80caa6a3",
   "metadata": {},
   "outputs": [
    {
     "name": "stdout",
     "output_type": "stream",
     "text": [
      "True\n",
      "True\n",
      "True\n",
      "True\n"
     ]
    }
   ],
   "source": [
    "for i in range(len(test1)):\n",
    "    print(math.isclose(test1[i], test2[i]))"
   ]
  },
  {
   "cell_type": "markdown",
   "id": "f88086e4",
   "metadata": {},
   "source": [
    "#### Covariance matrix"
   ]
  },
  {
   "cell_type": "code",
   "execution_count": 18,
   "id": "69a39432",
   "metadata": {},
   "outputs": [],
   "source": [
    "def cov_matrix(stock_prices):\n",
    "    \"\"\"Takes an numpy array of prices as input then calculates the covariance matrix between the columns\n",
    "       Returns a covariance matrix between the columns\n",
    "    \"\"\"\n",
    "    \n",
    "    # Calculate the mean of each stock\n",
    "    means = np.mean(stock_prices, axis=0)\n",
    "    \n",
    "    # Center the data by subtracting the mean from each data point\n",
    "    centered_data = stock_prices - means\n",
    "    \n",
    "    # Calculate the covariance matrix\n",
    "    covariance_matrix = np.dot(centered_data.T, centered_data) / (centered_data.shape[0] - 1)\n",
    "    \n",
    "    return covariance_matrix"
   ]
  },
  {
   "cell_type": "code",
   "execution_count": 19,
   "id": "eecd1e9e",
   "metadata": {},
   "outputs": [],
   "source": [
    "manualcov = cov_matrix(returns.to_numpy())"
   ]
  },
  {
   "cell_type": "code",
   "execution_count": 20,
   "id": "e4fba846",
   "metadata": {},
   "outputs": [],
   "source": [
    "pdcov = returns.cov()"
   ]
  },
  {
   "cell_type": "code",
   "execution_count": 21,
   "id": "0c16f8e4",
   "metadata": {},
   "outputs": [
    {
     "data": {
      "text/plain": [
       "True"
      ]
     },
     "execution_count": 21,
     "metadata": {},
     "output_type": "execute_result"
    }
   ],
   "source": [
    "np.allclose(manualcov,pdcov)"
   ]
  }
 ],
 "metadata": {
  "kernelspec": {
   "display_name": "Python 3 (ipykernel)",
   "language": "python",
   "name": "python3"
  },
  "language_info": {
   "codemirror_mode": {
    "name": "ipython",
    "version": 3
   },
   "file_extension": ".py",
   "mimetype": "text/x-python",
   "name": "python",
   "nbconvert_exporter": "python",
   "pygments_lexer": "ipython3",
   "version": "3.8.5"
  }
 },
 "nbformat": 4,
 "nbformat_minor": 5
}
