{
 "cells": [
  {
   "cell_type": "code",
   "execution_count": 1,
   "id": "33bdc7dc",
   "metadata": {},
   "outputs": [],
   "source": [
    "from DATA import get_filtered_stock_data as gfs\n",
    "from DATA import read_data\n",
    "from DATA import delete_pickle_file\n",
    "from backtest import backtest"
   ]
  },
  {
   "cell_type": "code",
   "execution_count": 2,
   "id": "24112531",
   "metadata": {},
   "outputs": [
    {
     "name": "stdout",
     "output_type": "stream",
     "text": [
      "File 'ESG_US.csv.pickle' has been deleted.\n"
     ]
    }
   ],
   "source": [
    "#delete_pickle_file('ESG_US.csv.pickle')\n",
    "#delete_pickle_file('ESG_DATA.csv.pickle')"
   ]
  },
  {
   "cell_type": "code",
   "execution_count": 3,
   "id": "88c2be4b",
   "metadata": {},
   "outputs": [],
   "source": [
    "file_path = \"ESG_US.csv\"\n",
    "esg = read_data(file_path)\n",
    "column_name = 'environment_score'\n",
    "column_value = 'High'\n",
    "threshold = 0\n",
    "operator = 'geq'\n",
    "prefixes= ['US']\n",
    "#time = 'M' #If you want montly\n",
    "#time = 'y' #If you want yearly\n",
    "time = 'W-MON' #If you want weekyl\n",
    "start_date = '2000-01-01'\n",
    "end_date = '2020-01-01'"
   ]
  },
  {
   "cell_type": "code",
   "execution_count": 4,
   "id": "2844fbde",
   "metadata": {},
   "outputs": [
    {
     "name": "stdout",
     "output_type": "stream",
     "text": [
      "[*********************100%***********************]  175 of 175 completed\n",
      "\n",
      "2 Failed downloads:\n",
      "- : No timezone found, symbol may be delisted\n",
      "- CARR: Data doesn't exist for startDate = 946702800, endDate = 1577854800\n"
     ]
    },
    {
     "ename": "KeyError",
     "evalue": "'Adj Close'",
     "output_type": "error",
     "traceback": [
      "\u001b[1;31m---------------------------------------------------------------------------\u001b[0m",
      "\u001b[1;31mKeyError\u001b[0m                                  Traceback (most recent call last)",
      "Input \u001b[1;32mIn [4]\u001b[0m, in \u001b[0;36m<module>\u001b[1;34m\u001b[0m\n\u001b[1;32m----> 1\u001b[0m returns \u001b[38;5;241m=\u001b[39m \u001b[43mgfs\u001b[49m\u001b[43m(\u001b[49m\u001b[43mfile_path\u001b[49m\u001b[43m,\u001b[49m\u001b[43m \u001b[49m\u001b[43mcolumn_name\u001b[49m\u001b[43m,\u001b[49m\u001b[43m \u001b[49m\u001b[43mcolumn_value\u001b[49m\u001b[43m,\u001b[49m\u001b[43m \u001b[49m\u001b[43mprefixes\u001b[49m\u001b[43m,\u001b[49m\u001b[43m \u001b[49m\u001b[43mstart_date\u001b[49m\u001b[43m,\u001b[49m\u001b[43m \u001b[49m\u001b[43mend_date\u001b[49m\u001b[43m,\u001b[49m\u001b[43m \u001b[49m\u001b[43mtime\u001b[49m\u001b[38;5;241;43m=\u001b[39;49m\u001b[43mtime\u001b[49m\u001b[43m,\u001b[49m\u001b[43m \u001b[49m\u001b[43mthreshold\u001b[49m\u001b[38;5;241;43m=\u001b[39;49m\u001b[43mthreshold\u001b[49m\u001b[43m,\u001b[49m\u001b[43m \u001b[49m\u001b[43moperator\u001b[49m\u001b[38;5;241;43m=\u001b[39;49m\u001b[43moperator\u001b[49m\u001b[43m)\u001b[49m\n",
      "File \u001b[1;32m~\\OneDrive\\Documents\\Afleveringer UNI\\Bachelorprojekt\\BA\\DATA.py:227\u001b[0m, in \u001b[0;36mget_filtered_stock_data\u001b[1;34m(file_path, column_name, column_value, prefixes, start_date, end_date, time, threshold, operator)\u001b[0m\n\u001b[0;32m    207\u001b[0m \u001b[38;5;124;03m'''\u001b[39;00m\n\u001b[0;32m    208\u001b[0m \u001b[38;5;124;03mGet filtered stock data based on specified criteria.\u001b[39;00m\n\u001b[0;32m    209\u001b[0m \n\u001b[1;32m   (...)\u001b[0m\n\u001b[0;32m    224\u001b[0m \u001b[38;5;124;03m    The filtered stock data as dataframe\u001b[39;00m\n\u001b[0;32m    225\u001b[0m \u001b[38;5;124;03m'''\u001b[39;00m\n\u001b[0;32m    226\u001b[0m data, isins, stock_data \u001b[38;5;241m=\u001b[39m load_or_process_data(file_path, prefixes, start_date, end_date,time)\n\u001b[1;32m--> 227\u001b[0m stock_data \u001b[38;5;241m=\u001b[39m \u001b[43mstock_data\u001b[49m\u001b[43m[\u001b[49m\u001b[38;5;124;43m'\u001b[39;49m\u001b[38;5;124;43mAdj Close\u001b[39;49m\u001b[38;5;124;43m'\u001b[39;49m\u001b[43m]\u001b[49m\n\u001b[0;32m    229\u001b[0m \u001b[38;5;28;01mif\u001b[39;00m \u001b[38;5;28misinstance\u001b[39m(threshold, \u001b[38;5;28mint\u001b[39m):\n\u001b[0;32m    230\u001b[0m     filtered_data \u001b[38;5;241m=\u001b[39m filter_by_value(stock_data, data, column_name, threshold, operator)\n",
      "File \u001b[1;32m~\\AppData\\Roaming\\Python\\Python38\\site-packages\\pandas\\core\\frame.py:3804\u001b[0m, in \u001b[0;36mDataFrame.__getitem__\u001b[1;34m(self, key)\u001b[0m\n\u001b[0;32m   3802\u001b[0m \u001b[38;5;28;01mif\u001b[39;00m is_single_key:\n\u001b[0;32m   3803\u001b[0m     \u001b[38;5;28;01mif\u001b[39;00m \u001b[38;5;28mself\u001b[39m\u001b[38;5;241m.\u001b[39mcolumns\u001b[38;5;241m.\u001b[39mnlevels \u001b[38;5;241m>\u001b[39m \u001b[38;5;241m1\u001b[39m:\n\u001b[1;32m-> 3804\u001b[0m         \u001b[38;5;28;01mreturn\u001b[39;00m \u001b[38;5;28;43mself\u001b[39;49m\u001b[38;5;241;43m.\u001b[39;49m\u001b[43m_getitem_multilevel\u001b[49m\u001b[43m(\u001b[49m\u001b[43mkey\u001b[49m\u001b[43m)\u001b[49m\n\u001b[0;32m   3805\u001b[0m     indexer \u001b[38;5;241m=\u001b[39m \u001b[38;5;28mself\u001b[39m\u001b[38;5;241m.\u001b[39mcolumns\u001b[38;5;241m.\u001b[39mget_loc(key)\n\u001b[0;32m   3806\u001b[0m     \u001b[38;5;28;01mif\u001b[39;00m is_integer(indexer):\n",
      "File \u001b[1;32m~\\AppData\\Roaming\\Python\\Python38\\site-packages\\pandas\\core\\frame.py:3855\u001b[0m, in \u001b[0;36mDataFrame._getitem_multilevel\u001b[1;34m(self, key)\u001b[0m\n\u001b[0;32m   3853\u001b[0m \u001b[38;5;28;01mdef\u001b[39;00m \u001b[38;5;21m_getitem_multilevel\u001b[39m(\u001b[38;5;28mself\u001b[39m, key):\n\u001b[0;32m   3854\u001b[0m     \u001b[38;5;66;03m# self.columns is a MultiIndex\u001b[39;00m\n\u001b[1;32m-> 3855\u001b[0m     loc \u001b[38;5;241m=\u001b[39m \u001b[38;5;28;43mself\u001b[39;49m\u001b[38;5;241;43m.\u001b[39;49m\u001b[43mcolumns\u001b[49m\u001b[38;5;241;43m.\u001b[39;49m\u001b[43mget_loc\u001b[49m\u001b[43m(\u001b[49m\u001b[43mkey\u001b[49m\u001b[43m)\u001b[49m\n\u001b[0;32m   3856\u001b[0m     \u001b[38;5;28;01mif\u001b[39;00m \u001b[38;5;28misinstance\u001b[39m(loc, (\u001b[38;5;28mslice\u001b[39m, np\u001b[38;5;241m.\u001b[39mndarray)):\n\u001b[0;32m   3857\u001b[0m         new_columns \u001b[38;5;241m=\u001b[39m \u001b[38;5;28mself\u001b[39m\u001b[38;5;241m.\u001b[39mcolumns[loc]\n",
      "File \u001b[1;32m~\\AppData\\Roaming\\Python\\Python38\\site-packages\\pandas\\core\\indexes\\multi.py:2915\u001b[0m, in \u001b[0;36mMultiIndex.get_loc\u001b[1;34m(self, key, method)\u001b[0m\n\u001b[0;32m   2912\u001b[0m     \u001b[38;5;28;01mreturn\u001b[39;00m mask\n\u001b[0;32m   2914\u001b[0m \u001b[38;5;28;01mif\u001b[39;00m \u001b[38;5;129;01mnot\u001b[39;00m \u001b[38;5;28misinstance\u001b[39m(key, \u001b[38;5;28mtuple\u001b[39m):\n\u001b[1;32m-> 2915\u001b[0m     loc \u001b[38;5;241m=\u001b[39m \u001b[38;5;28;43mself\u001b[39;49m\u001b[38;5;241;43m.\u001b[39;49m\u001b[43m_get_level_indexer\u001b[49m\u001b[43m(\u001b[49m\u001b[43mkey\u001b[49m\u001b[43m,\u001b[49m\u001b[43m \u001b[49m\u001b[43mlevel\u001b[49m\u001b[38;5;241;43m=\u001b[39;49m\u001b[38;5;241;43m0\u001b[39;49m\u001b[43m)\u001b[49m\n\u001b[0;32m   2916\u001b[0m     \u001b[38;5;28;01mreturn\u001b[39;00m _maybe_to_slice(loc)\n\u001b[0;32m   2918\u001b[0m keylen \u001b[38;5;241m=\u001b[39m \u001b[38;5;28mlen\u001b[39m(key)\n",
      "File \u001b[1;32m~\\AppData\\Roaming\\Python\\Python38\\site-packages\\pandas\\core\\indexes\\multi.py:3289\u001b[0m, in \u001b[0;36mMultiIndex._get_level_indexer\u001b[1;34m(self, key, level, indexer)\u001b[0m\n\u001b[0;32m   3285\u001b[0m     end \u001b[38;5;241m=\u001b[39m algos\u001b[38;5;241m.\u001b[39msearchsorted(level_codes, idx, side\u001b[38;5;241m=\u001b[39m\u001b[38;5;124m\"\u001b[39m\u001b[38;5;124mright\u001b[39m\u001b[38;5;124m\"\u001b[39m)\n\u001b[0;32m   3287\u001b[0m \u001b[38;5;28;01mif\u001b[39;00m start \u001b[38;5;241m==\u001b[39m end:\n\u001b[0;32m   3288\u001b[0m     \u001b[38;5;66;03m# The label is present in self.levels[level] but unused:\u001b[39;00m\n\u001b[1;32m-> 3289\u001b[0m     \u001b[38;5;28;01mraise\u001b[39;00m \u001b[38;5;167;01mKeyError\u001b[39;00m(key)\n\u001b[0;32m   3290\u001b[0m \u001b[38;5;28;01mreturn\u001b[39;00m \u001b[38;5;28mslice\u001b[39m(start, end)\n",
      "\u001b[1;31mKeyError\u001b[0m: 'Adj Close'"
     ]
    }
   ],
   "source": [
    "returns = gfs(file_path, column_name, column_value, prefixes, start_date, end_date, time=time, threshold=threshold, operator=operator)"
   ]
  },
  {
   "cell_type": "code",
   "execution_count": null,
   "id": "8eab390c",
   "metadata": {},
   "outputs": [],
   "source": [
    "returns"
   ]
  },
  {
   "cell_type": "code",
   "execution_count": null,
   "id": "a5f0b03a",
   "metadata": {},
   "outputs": [],
   "source": [
    "rf = 0.00\n",
    "score = 'environment_score'\n",
    "window = 12\n",
    "num = 10"
   ]
  },
  {
   "cell_type": "code",
   "execution_count": null,
   "id": "cce39413",
   "metadata": {
    "scrolled": false
   },
   "outputs": [],
   "source": [
    "BacktestDF = backtest(rf, esg, returns, score, window,num=num)"
   ]
  },
  {
   "cell_type": "code",
   "execution_count": null,
   "id": "3b7c5a83",
   "metadata": {},
   "outputs": [],
   "source": [
    "display(BacktestDF)"
   ]
  },
  {
   "cell_type": "code",
   "execution_count": null,
   "id": "ae52f68e",
   "metadata": {
    "scrolled": false
   },
   "outputs": [],
   "source": [
    "display(BacktestDF.mean())"
   ]
  }
 ],
 "metadata": {
  "kernelspec": {
   "display_name": "Python 3 (ipykernel)",
   "language": "python",
   "name": "python3"
  },
  "language_info": {
   "codemirror_mode": {
    "name": "ipython",
    "version": 3
   },
   "file_extension": ".py",
   "mimetype": "text/x-python",
   "name": "python",
   "nbconvert_exporter": "python",
   "pygments_lexer": "ipython3",
   "version": "3.8.5"
  }
 },
 "nbformat": 4,
 "nbformat_minor": 5
}
