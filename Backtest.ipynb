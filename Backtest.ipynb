{
 "cells": [
  {
   "cell_type": "code",
   "execution_count": 1,
   "id": "83f829a8",
   "metadata": {},
   "outputs": [],
   "source": [
    "from DATA import get_filtered_stock_data as gfs\n",
    "from DATA import read_data\n",
    "from DATA import delete_pickle_file\n",
    "from backtest import backtest"
   ]
  },
  {
   "cell_type": "code",
   "execution_count": 2,
   "id": "453a068b",
   "metadata": {},
   "outputs": [],
   "source": [
    "#delete_pickle_file('ESG_US.csv.pickle')\n",
    "#delete_pickle_file('ESG_DATA.csv.pickle')"
   ]
  },
  {
   "cell_type": "code",
   "execution_count": 3,
   "id": "3cd49ed3",
   "metadata": {},
   "outputs": [],
   "source": [
    "file_path = \"ESG_US.csv\"\n",
    "esg = read_data(file_path)\n",
    "column_name = 'environment_score'\n",
    "column_value = 'High'\n",
    "threshold = 0\n",
    "operator = 'geq'\n",
    "prefixes= ['US']\n",
    "\n",
    "#If you want montly\n",
    "time = 'M'\n",
    "\n",
    "#If you want yearly\n",
    "#time = 'y'\n",
    "\n",
    "start_date = '2000-01-01'\n",
    "end_date = '2020-01-01'"
   ]
  },
  {
   "cell_type": "code",
   "execution_count": 4,
   "id": "4d931e5c",
   "metadata": {},
   "outputs": [
    {
     "name": "stdout",
     "output_type": "stream",
     "text": [
      "[*********************100%***********************]  1 of 1 completed\n",
      "\n",
      "1 Failed download:\n",
      "- : No timezone found, symbol may be delisted\n"
     ]
    },
    {
     "ename": "KeyError",
     "evalue": "'US98978V1035'",
     "output_type": "error",
     "traceback": [
      "\u001b[1;31m---------------------------------------------------------------------------\u001b[0m",
      "\u001b[1;31mKeyError\u001b[0m                                  Traceback (most recent call last)",
      "Cell \u001b[1;32mIn[4], line 1\u001b[0m\n\u001b[1;32m----> 1\u001b[0m returns \u001b[38;5;241m=\u001b[39m \u001b[43mgfs\u001b[49m\u001b[43m(\u001b[49m\u001b[43mfile_path\u001b[49m\u001b[43m,\u001b[49m\u001b[43m \u001b[49m\u001b[43mcolumn_name\u001b[49m\u001b[43m,\u001b[49m\u001b[43m \u001b[49m\u001b[43mcolumn_value\u001b[49m\u001b[43m,\u001b[49m\u001b[43m \u001b[49m\u001b[43mprefixes\u001b[49m\u001b[43m,\u001b[49m\u001b[43m \u001b[49m\u001b[43mstart_date\u001b[49m\u001b[43m,\u001b[49m\u001b[43m \u001b[49m\u001b[43mend_date\u001b[49m\u001b[43m,\u001b[49m\u001b[43m \u001b[49m\u001b[43mtime\u001b[49m\u001b[38;5;241;43m=\u001b[39;49m\u001b[43mtime\u001b[49m\u001b[43m,\u001b[49m\u001b[43m \u001b[49m\u001b[43mthreshold\u001b[49m\u001b[38;5;241;43m=\u001b[39;49m\u001b[43mthreshold\u001b[49m\u001b[43m,\u001b[49m\u001b[43m \u001b[49m\u001b[43moperator\u001b[49m\u001b[38;5;241;43m=\u001b[39;49m\u001b[43moperator\u001b[49m\u001b[43m)\u001b[49m\n",
      "File \u001b[1;32m~\\OneDrive - University of Copenhagen\\Bachelor\\BA\\DATA.py:226\u001b[0m, in \u001b[0;36mget_filtered_stock_data\u001b[1;34m(file_path, column_name, column_value, prefixes, start_date, end_date, time, threshold, operator)\u001b[0m\n\u001b[0;32m    206\u001b[0m \u001b[38;5;28;01mdef\u001b[39;00m \u001b[38;5;21mget_filtered_stock_data\u001b[39m(file_path, column_name, column_value, prefixes, start_date, end_date, time\u001b[38;5;241m=\u001b[39m\u001b[38;5;124m'\u001b[39m\u001b[38;5;124my\u001b[39m\u001b[38;5;124m'\u001b[39m, threshold\u001b[38;5;241m=\u001b[39m\u001b[38;5;28;01mNone\u001b[39;00m, operator\u001b[38;5;241m=\u001b[39m\u001b[38;5;28;01mNone\u001b[39;00m):\n\u001b[0;32m    207\u001b[0m     \u001b[38;5;124;03m'''\u001b[39;00m\n\u001b[0;32m    208\u001b[0m \u001b[38;5;124;03m    Get filtered stock data based on specified criteria.\u001b[39;00m\n\u001b[0;32m    209\u001b[0m \n\u001b[1;32m   (...)\u001b[0m\n\u001b[0;32m    224\u001b[0m \u001b[38;5;124;03m        The filtered stock data as dataframe\u001b[39;00m\n\u001b[0;32m    225\u001b[0m \u001b[38;5;124;03m    '''\u001b[39;00m\n\u001b[1;32m--> 226\u001b[0m     data, isins, stock_data \u001b[38;5;241m=\u001b[39m \u001b[43mload_or_process_data\u001b[49m\u001b[43m(\u001b[49m\u001b[43mfile_path\u001b[49m\u001b[43m,\u001b[49m\u001b[43m \u001b[49m\u001b[43mprefixes\u001b[49m\u001b[43m,\u001b[49m\u001b[43m \u001b[49m\u001b[43mstart_date\u001b[49m\u001b[43m,\u001b[49m\u001b[43m \u001b[49m\u001b[43mend_date\u001b[49m\u001b[43m,\u001b[49m\u001b[43mtime\u001b[49m\u001b[43m)\u001b[49m\n\u001b[0;32m    227\u001b[0m     stock_data \u001b[38;5;241m=\u001b[39m stock_data[\u001b[38;5;124m'\u001b[39m\u001b[38;5;124mAdj Close\u001b[39m\u001b[38;5;124m'\u001b[39m]\n\u001b[0;32m    229\u001b[0m     \u001b[38;5;28;01mif\u001b[39;00m \u001b[38;5;28misinstance\u001b[39m(threshold, \u001b[38;5;28mint\u001b[39m):\n",
      "File \u001b[1;32m~\\OneDrive - University of Copenhagen\\Bachelor\\BA\\DATA.py:175\u001b[0m, in \u001b[0;36mload_or_process_data\u001b[1;34m(file_path, prefixes, start_date, end_date, time)\u001b[0m\n\u001b[0;32m    173\u001b[0m data \u001b[38;5;241m=\u001b[39m read_data(file_path)\n\u001b[0;32m    174\u001b[0m isins \u001b[38;5;241m=\u001b[39m get_isins(data)\n\u001b[1;32m--> 175\u001b[0m stock_data \u001b[38;5;241m=\u001b[39m \u001b[43mconcatenate_data\u001b[49m\u001b[43m(\u001b[49m\u001b[43mprefixes\u001b[49m\u001b[43m,\u001b[49m\u001b[43m \u001b[49m\u001b[43misins\u001b[49m\u001b[43m,\u001b[49m\u001b[43m \u001b[49m\u001b[43mstart_date\u001b[49m\u001b[43m,\u001b[49m\u001b[43m \u001b[49m\u001b[43mend_date\u001b[49m\u001b[43m)\u001b[49m\n\u001b[0;32m    176\u001b[0m stock_data \u001b[38;5;241m=\u001b[39m to_date(stock_data, time)\n\u001b[0;32m    177\u001b[0m stock_data \u001b[38;5;241m=\u001b[39m remove_null_columns(stock_data)\n",
      "File \u001b[1;32m~\\OneDrive - University of Copenhagen\\Bachelor\\BA\\DATA.py:52\u001b[0m, in \u001b[0;36mconcatenate_data\u001b[1;34m(prefixes, isindata, start_date, end_date)\u001b[0m\n\u001b[0;32m     50\u001b[0m         \u001b[38;5;28;01mif\u001b[39;00m isindata[i][:\u001b[38;5;28mlen\u001b[39m(prefix)] \u001b[38;5;241m==\u001b[39m prefix:\n\u001b[0;32m     51\u001b[0m             filtered_isin\u001b[38;5;241m.\u001b[39mappend(isindata[i])\n\u001b[1;32m---> 52\u001b[0m     data \u001b[38;5;241m=\u001b[39m \u001b[43mpdr\u001b[49m\u001b[38;5;241;43m.\u001b[39;49m\u001b[43mget_data_yahoo\u001b[49m\u001b[43m(\u001b[49m\u001b[43mfiltered_isin\u001b[49m\u001b[43m,\u001b[49m\u001b[43m \u001b[49m\u001b[43mstart\u001b[49m\u001b[38;5;241;43m=\u001b[39;49m\u001b[43mstart_date\u001b[49m\u001b[43m,\u001b[49m\u001b[43m \u001b[49m\u001b[43mend\u001b[49m\u001b[38;5;241;43m=\u001b[39;49m\u001b[43mend_date\u001b[49m\u001b[43m)\u001b[49m\n\u001b[0;32m     53\u001b[0m     data_list\u001b[38;5;241m.\u001b[39mappend(data)\n\u001b[0;32m     54\u001b[0m combined_data \u001b[38;5;241m=\u001b[39m pd\u001b[38;5;241m.\u001b[39mconcat(data_list, sort\u001b[38;5;241m=\u001b[39m\u001b[38;5;28;01mFalse\u001b[39;00m, axis\u001b[38;5;241m=\u001b[39m\u001b[38;5;241m1\u001b[39m, join\u001b[38;5;241m=\u001b[39m\u001b[38;5;124m'\u001b[39m\u001b[38;5;124minner\u001b[39m\u001b[38;5;124m'\u001b[39m)\n",
      "File \u001b[1;32m~\\AppData\\Roaming\\Python\\Python38\\site-packages\\yfinance\\multi.py:153\u001b[0m, in \u001b[0;36mdownload\u001b[1;34m(tickers, start, end, actions, threads, ignore_tz, group_by, auto_adjust, back_adjust, repair, keepna, progress, period, show_errors, interval, prepost, proxy, rounding, timeout)\u001b[0m\n\u001b[0;32m    151\u001b[0m \u001b[38;5;28;01mif\u001b[39;00m \u001b[38;5;28mlen\u001b[39m(tickers) \u001b[38;5;241m==\u001b[39m \u001b[38;5;241m1\u001b[39m:\n\u001b[0;32m    152\u001b[0m     ticker \u001b[38;5;241m=\u001b[39m tickers[\u001b[38;5;241m0\u001b[39m]\n\u001b[1;32m--> 153\u001b[0m     \u001b[38;5;28;01mreturn\u001b[39;00m \u001b[43mshared\u001b[49m\u001b[38;5;241;43m.\u001b[39;49m\u001b[43m_DFS\u001b[49m\u001b[43m[\u001b[49m\u001b[43mshared\u001b[49m\u001b[38;5;241;43m.\u001b[39;49m\u001b[43m_ISINS\u001b[49m\u001b[38;5;241;43m.\u001b[39;49m\u001b[43mget\u001b[49m\u001b[43m(\u001b[49m\u001b[43mticker\u001b[49m\u001b[43m,\u001b[49m\u001b[43m \u001b[49m\u001b[43mticker\u001b[49m\u001b[43m)\u001b[49m\u001b[43m]\u001b[49m\n\u001b[0;32m    155\u001b[0m \u001b[38;5;28;01mtry\u001b[39;00m:\n\u001b[0;32m    156\u001b[0m     data \u001b[38;5;241m=\u001b[39m _pd\u001b[38;5;241m.\u001b[39mconcat(shared\u001b[38;5;241m.\u001b[39m_DFS\u001b[38;5;241m.\u001b[39mvalues(), axis\u001b[38;5;241m=\u001b[39m\u001b[38;5;241m1\u001b[39m, sort\u001b[38;5;241m=\u001b[39m\u001b[38;5;28;01mTrue\u001b[39;00m,\n\u001b[0;32m    157\u001b[0m                       keys\u001b[38;5;241m=\u001b[39mshared\u001b[38;5;241m.\u001b[39m_DFS\u001b[38;5;241m.\u001b[39mkeys())\n",
      "\u001b[1;31mKeyError\u001b[0m: 'US98978V1035'"
     ]
    }
   ],
   "source": [
    "returns = gfs(file_path, column_name, column_value, prefixes, start_date, end_date, time=time, threshold=threshold, operator=operator)"
   ]
  },
  {
   "cell_type": "code",
   "execution_count": null,
   "id": "adc34b9b",
   "metadata": {},
   "outputs": [],
   "source": [
    "returns"
   ]
  },
  {
   "cell_type": "code",
   "execution_count": null,
   "id": "83d14ca4",
   "metadata": {},
   "outputs": [],
   "source": [
    "rf = 0.00\n",
    "score = 'environment_score'\n",
    "window = 12\n",
    "num = 10"
   ]
  },
  {
   "cell_type": "code",
   "execution_count": null,
   "id": "0b5cd242",
   "metadata": {
    "scrolled": false
   },
   "outputs": [],
   "source": [
    "BacktestDF = backtest(rf, esg, returns, score, window,num=num)"
   ]
  },
  {
   "cell_type": "code",
   "execution_count": null,
   "id": "1c21432a",
   "metadata": {},
   "outputs": [],
   "source": [
    "display(BacktestDF)"
   ]
  },
  {
   "cell_type": "code",
   "execution_count": null,
   "id": "42a4eb41",
   "metadata": {
    "scrolled": false
   },
   "outputs": [],
   "source": [
    "display(BacktestDF.mean())"
   ]
  }
 ],
 "metadata": {
  "kernelspec": {
   "display_name": "Python 3 (ipykernel)",
   "language": "python",
   "name": "python3"
  },
  "language_info": {
   "codemirror_mode": {
    "name": "ipython",
    "version": 3
   },
   "file_extension": ".py",
   "mimetype": "text/x-python",
   "name": "python",
   "nbconvert_exporter": "python",
   "pygments_lexer": "ipython3",
   "version": "3.8.5"
  }
 },
 "nbformat": 4,
 "nbformat_minor": 5
}
