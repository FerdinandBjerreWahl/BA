{
 "cells": [
  {
   "cell_type": "markdown",
   "id": "70a271e5",
   "metadata": {},
   "source": [
    " #### Single Index model"
   ]
  },
  {
   "cell_type": "code",
   "execution_count": 1,
   "id": "ae42c434",
   "metadata": {},
   "outputs": [],
   "source": [
    "import numpy as np\n",
    "import pandas as pd\n",
    "import matplotlib.pyplot as plt\n",
    "from sympy import symbols, solve\n",
    "import itertools\n",
    "import yfinance as yf\n",
    "from sklearn.linear_model import LinearRegression\n",
    "import math"
   ]
  },
  {
   "cell_type": "markdown",
   "id": "29807ab1",
   "metadata": {},
   "source": [
    " #### Import data\n",
    " "
   ]
  },
  {
   "cell_type": "code",
   "execution_count": 2,
   "id": "b7158135",
   "metadata": {},
   "outputs": [
    {
     "name": "stdout",
     "output_type": "stream",
     "text": [
      "[*********************100%***********************]  4 of 4 completed\n"
     ]
    }
   ],
   "source": [
    "indexes = yf.download(\"TSLA KO V SHEL\", start=\"2011-02-01\", end=\"2022-02-01\")"
   ]
  },
  {
   "cell_type": "code",
   "execution_count": 3,
   "id": "e6b4e016",
   "metadata": {},
   "outputs": [
    {
     "data": {
      "text/html": [
       "<div>\n",
       "<style scoped>\n",
       "    .dataframe tbody tr th:only-of-type {\n",
       "        vertical-align: middle;\n",
       "    }\n",
       "\n",
       "    .dataframe tbody tr th {\n",
       "        vertical-align: top;\n",
       "    }\n",
       "\n",
       "    .dataframe thead th {\n",
       "        text-align: right;\n",
       "    }\n",
       "</style>\n",
       "<table border=\"1\" class=\"dataframe\">\n",
       "  <thead>\n",
       "    <tr style=\"text-align: right;\">\n",
       "      <th></th>\n",
       "      <th>KO</th>\n",
       "      <th>SHEL</th>\n",
       "      <th>TSLA</th>\n",
       "      <th>V</th>\n",
       "    </tr>\n",
       "    <tr>\n",
       "      <th>Date</th>\n",
       "      <th></th>\n",
       "      <th></th>\n",
       "      <th></th>\n",
       "      <th></th>\n",
       "    </tr>\n",
       "  </thead>\n",
       "  <tbody>\n",
       "    <tr>\n",
       "      <th>2011-12-31 00:00:00-05:00</th>\n",
       "      <td>NaN</td>\n",
       "      <td>NaN</td>\n",
       "      <td>NaN</td>\n",
       "      <td>NaN</td>\n",
       "    </tr>\n",
       "    <tr>\n",
       "      <th>2012-12-31 00:00:00-05:00</th>\n",
       "      <td>0.065276</td>\n",
       "      <td>-0.009087</td>\n",
       "      <td>0.185924</td>\n",
       "      <td>0.504669</td>\n",
       "    </tr>\n",
       "    <tr>\n",
       "      <th>2013-12-31 00:00:00-05:00</th>\n",
       "      <td>0.172330</td>\n",
       "      <td>0.090379</td>\n",
       "      <td>3.441394</td>\n",
       "      <td>0.480565</td>\n",
       "    </tr>\n",
       "    <tr>\n",
       "      <th>2014-12-31 00:00:00-05:00</th>\n",
       "      <td>0.052661</td>\n",
       "      <td>-0.012650</td>\n",
       "      <td>0.478495</td>\n",
       "      <td>0.186358</td>\n",
       "    </tr>\n",
       "    <tr>\n",
       "      <th>2015-12-31 00:00:00-05:00</th>\n",
       "      <td>0.051399</td>\n",
       "      <td>-0.271207</td>\n",
       "      <td>0.079133</td>\n",
       "      <td>0.191373</td>\n",
       "    </tr>\n",
       "    <tr>\n",
       "      <th>2016-12-31 00:00:00-05:00</th>\n",
       "      <td>-0.003571</td>\n",
       "      <td>0.282595</td>\n",
       "      <td>-0.109662</td>\n",
       "      <td>0.013712</td>\n",
       "    </tr>\n",
       "    <tr>\n",
       "      <th>2017-12-31 00:00:00-05:00</th>\n",
       "      <td>0.143821</td>\n",
       "      <td>0.310230</td>\n",
       "      <td>0.457017</td>\n",
       "      <td>0.471765</td>\n",
       "    </tr>\n",
       "    <tr>\n",
       "      <th>2018-12-31 00:00:00-05:00</th>\n",
       "      <td>0.067735</td>\n",
       "      <td>-0.075133</td>\n",
       "      <td>0.068894</td>\n",
       "      <td>0.164876</td>\n",
       "    </tr>\n",
       "    <tr>\n",
       "      <th>2019-12-31 00:00:00-05:00</th>\n",
       "      <td>0.205994</td>\n",
       "      <td>0.077085</td>\n",
       "      <td>0.257001</td>\n",
       "      <td>0.433271</td>\n",
       "    </tr>\n",
       "    <tr>\n",
       "      <th>2020-12-31 00:00:00-05:00</th>\n",
       "      <td>0.024691</td>\n",
       "      <td>-0.374393</td>\n",
       "      <td>7.434370</td>\n",
       "      <td>0.171242</td>\n",
       "    </tr>\n",
       "    <tr>\n",
       "      <th>2021-12-31 00:00:00-05:00</th>\n",
       "      <td>0.113725</td>\n",
       "      <td>0.284254</td>\n",
       "      <td>0.497556</td>\n",
       "      <td>-0.003149</td>\n",
       "    </tr>\n",
       "    <tr>\n",
       "      <th>2022-12-31 00:00:00-05:00</th>\n",
       "      <td>0.030400</td>\n",
       "      <td>0.184332</td>\n",
       "      <td>-0.113609</td>\n",
       "      <td>0.043653</td>\n",
       "    </tr>\n",
       "  </tbody>\n",
       "</table>\n",
       "</div>"
      ],
      "text/plain": [
       "                                 KO      SHEL      TSLA         V\n",
       "Date                                                             \n",
       "2011-12-31 00:00:00-05:00       NaN       NaN       NaN       NaN\n",
       "2012-12-31 00:00:00-05:00  0.065276 -0.009087  0.185924  0.504669\n",
       "2013-12-31 00:00:00-05:00  0.172330  0.090379  3.441394  0.480565\n",
       "2014-12-31 00:00:00-05:00  0.052661 -0.012650  0.478495  0.186358\n",
       "2015-12-31 00:00:00-05:00  0.051399 -0.271207  0.079133  0.191373\n",
       "2016-12-31 00:00:00-05:00 -0.003571  0.282595 -0.109662  0.013712\n",
       "2017-12-31 00:00:00-05:00  0.143821  0.310230  0.457017  0.471765\n",
       "2018-12-31 00:00:00-05:00  0.067735 -0.075133  0.068894  0.164876\n",
       "2019-12-31 00:00:00-05:00  0.205994  0.077085  0.257001  0.433271\n",
       "2020-12-31 00:00:00-05:00  0.024691 -0.374393  7.434370  0.171242\n",
       "2021-12-31 00:00:00-05:00  0.113725  0.284254  0.497556 -0.003149\n",
       "2022-12-31 00:00:00-05:00  0.030400  0.184332 -0.113609  0.043653"
      ]
     },
     "execution_count": 3,
     "metadata": {},
     "output_type": "execute_result"
    }
   ],
   "source": [
    "returns = indexes['Adj Close'].resample('y').ffill().pct_change()\n",
    "returns"
   ]
  },
  {
   "cell_type": "code",
   "execution_count": 4,
   "id": "4d93b1eb",
   "metadata": {},
   "outputs": [
    {
     "data": {
      "text/html": [
       "<div>\n",
       "<style scoped>\n",
       "    .dataframe tbody tr th:only-of-type {\n",
       "        vertical-align: middle;\n",
       "    }\n",
       "\n",
       "    .dataframe tbody tr th {\n",
       "        vertical-align: top;\n",
       "    }\n",
       "\n",
       "    .dataframe thead th {\n",
       "        text-align: right;\n",
       "    }\n",
       "</style>\n",
       "<table border=\"1\" class=\"dataframe\">\n",
       "  <thead>\n",
       "    <tr style=\"text-align: right;\">\n",
       "      <th></th>\n",
       "      <th>KO</th>\n",
       "      <th>SHEL</th>\n",
       "      <th>TSLA</th>\n",
       "      <th>V</th>\n",
       "    </tr>\n",
       "    <tr>\n",
       "      <th>Date</th>\n",
       "      <th></th>\n",
       "      <th></th>\n",
       "      <th></th>\n",
       "      <th></th>\n",
       "    </tr>\n",
       "  </thead>\n",
       "  <tbody>\n",
       "    <tr>\n",
       "      <th>2012-12-31 00:00:00-05:00</th>\n",
       "      <td>0.065276</td>\n",
       "      <td>-0.009087</td>\n",
       "      <td>0.185924</td>\n",
       "      <td>0.504669</td>\n",
       "    </tr>\n",
       "    <tr>\n",
       "      <th>2013-12-31 00:00:00-05:00</th>\n",
       "      <td>0.172330</td>\n",
       "      <td>0.090379</td>\n",
       "      <td>3.441394</td>\n",
       "      <td>0.480565</td>\n",
       "    </tr>\n",
       "    <tr>\n",
       "      <th>2014-12-31 00:00:00-05:00</th>\n",
       "      <td>0.052661</td>\n",
       "      <td>-0.012650</td>\n",
       "      <td>0.478495</td>\n",
       "      <td>0.186358</td>\n",
       "    </tr>\n",
       "    <tr>\n",
       "      <th>2015-12-31 00:00:00-05:00</th>\n",
       "      <td>0.051399</td>\n",
       "      <td>-0.271207</td>\n",
       "      <td>0.079133</td>\n",
       "      <td>0.191373</td>\n",
       "    </tr>\n",
       "    <tr>\n",
       "      <th>2016-12-31 00:00:00-05:00</th>\n",
       "      <td>-0.003571</td>\n",
       "      <td>0.282595</td>\n",
       "      <td>-0.109662</td>\n",
       "      <td>0.013712</td>\n",
       "    </tr>\n",
       "    <tr>\n",
       "      <th>2017-12-31 00:00:00-05:00</th>\n",
       "      <td>0.143821</td>\n",
       "      <td>0.310230</td>\n",
       "      <td>0.457017</td>\n",
       "      <td>0.471765</td>\n",
       "    </tr>\n",
       "    <tr>\n",
       "      <th>2018-12-31 00:00:00-05:00</th>\n",
       "      <td>0.067735</td>\n",
       "      <td>-0.075133</td>\n",
       "      <td>0.068894</td>\n",
       "      <td>0.164876</td>\n",
       "    </tr>\n",
       "    <tr>\n",
       "      <th>2019-12-31 00:00:00-05:00</th>\n",
       "      <td>0.205994</td>\n",
       "      <td>0.077085</td>\n",
       "      <td>0.257001</td>\n",
       "      <td>0.433271</td>\n",
       "    </tr>\n",
       "    <tr>\n",
       "      <th>2020-12-31 00:00:00-05:00</th>\n",
       "      <td>0.024691</td>\n",
       "      <td>-0.374393</td>\n",
       "      <td>7.434370</td>\n",
       "      <td>0.171242</td>\n",
       "    </tr>\n",
       "    <tr>\n",
       "      <th>2021-12-31 00:00:00-05:00</th>\n",
       "      <td>0.113725</td>\n",
       "      <td>0.284254</td>\n",
       "      <td>0.497556</td>\n",
       "      <td>-0.003149</td>\n",
       "    </tr>\n",
       "    <tr>\n",
       "      <th>2022-12-31 00:00:00-05:00</th>\n",
       "      <td>0.030400</td>\n",
       "      <td>0.184332</td>\n",
       "      <td>-0.113609</td>\n",
       "      <td>0.043653</td>\n",
       "    </tr>\n",
       "  </tbody>\n",
       "</table>\n",
       "</div>"
      ],
      "text/plain": [
       "                                 KO      SHEL      TSLA         V\n",
       "Date                                                             \n",
       "2012-12-31 00:00:00-05:00  0.065276 -0.009087  0.185924  0.504669\n",
       "2013-12-31 00:00:00-05:00  0.172330  0.090379  3.441394  0.480565\n",
       "2014-12-31 00:00:00-05:00  0.052661 -0.012650  0.478495  0.186358\n",
       "2015-12-31 00:00:00-05:00  0.051399 -0.271207  0.079133  0.191373\n",
       "2016-12-31 00:00:00-05:00 -0.003571  0.282595 -0.109662  0.013712\n",
       "2017-12-31 00:00:00-05:00  0.143821  0.310230  0.457017  0.471765\n",
       "2018-12-31 00:00:00-05:00  0.067735 -0.075133  0.068894  0.164876\n",
       "2019-12-31 00:00:00-05:00  0.205994  0.077085  0.257001  0.433271\n",
       "2020-12-31 00:00:00-05:00  0.024691 -0.374393  7.434370  0.171242\n",
       "2021-12-31 00:00:00-05:00  0.113725  0.284254  0.497556 -0.003149\n",
       "2022-12-31 00:00:00-05:00  0.030400  0.184332 -0.113609  0.043653"
      ]
     },
     "execution_count": 4,
     "metadata": {},
     "output_type": "execute_result"
    }
   ],
   "source": [
    "returns = returns[1:]\n",
    "returns"
   ]
  },
  {
   "cell_type": "code",
   "execution_count": 5,
   "id": "c1e81ee4",
   "metadata": {},
   "outputs": [],
   "source": [
    "cov_matrix = returns.cov()"
   ]
  },
  {
   "cell_type": "code",
   "execution_count": 6,
   "id": "6457d172",
   "metadata": {},
   "outputs": [
    {
     "data": {
      "text/plain": [
       "KO      0.084042\n",
       "SHEL    0.044219\n",
       "TSLA    1.152410\n",
       "V       0.241667\n",
       "dtype: float64"
      ]
     },
     "execution_count": 6,
     "metadata": {},
     "output_type": "execute_result"
    }
   ],
   "source": [
    "returns.mean()"
   ]
  },
  {
   "cell_type": "code",
   "execution_count": 7,
   "id": "64bf8b1c",
   "metadata": {},
   "outputs": [
    {
     "data": {
      "text/plain": [
       "4"
      ]
     },
     "execution_count": 7,
     "metadata": {},
     "output_type": "execute_result"
    }
   ],
   "source": [
    "len(returns.mean())"
   ]
  },
  {
   "cell_type": "markdown",
   "id": "35715bca",
   "metadata": {},
   "source": [
    " #### Single index model"
   ]
  },
  {
   "cell_type": "code",
   "execution_count": 8,
   "id": "1649e298",
   "metadata": {},
   "outputs": [
    {
     "name": "stdout",
     "output_type": "stream",
     "text": [
      "[*********************100%***********************]  1 of 1 completed\n"
     ]
    }
   ],
   "source": [
    "market = yf.download(\"^GSPC\", start=\"2011-02-01\", end=\"2022-02-01\")"
   ]
  },
  {
   "cell_type": "code",
   "execution_count": 9,
   "id": "8c08d7e1",
   "metadata": {},
   "outputs": [
    {
     "data": {
      "text/plain": [
       "Date\n",
       "2011-12-31 00:00:00-05:00         NaN\n",
       "2012-12-31 00:00:00-05:00    0.134057\n",
       "2013-12-31 00:00:00-05:00    0.296012\n",
       "2014-12-31 00:00:00-05:00    0.113906\n",
       "2015-12-31 00:00:00-05:00   -0.007266\n",
       "2016-12-31 00:00:00-05:00    0.095350\n",
       "2017-12-31 00:00:00-05:00    0.194200\n",
       "2018-12-31 00:00:00-05:00   -0.062373\n",
       "2019-12-31 00:00:00-05:00    0.288781\n",
       "2020-12-31 00:00:00-05:00    0.162589\n",
       "2021-12-31 00:00:00-05:00    0.268927\n",
       "2022-12-31 00:00:00-05:00   -0.052585\n",
       "Freq: A-DEC, Name: Adj Close, dtype: float64"
      ]
     },
     "execution_count": 9,
     "metadata": {},
     "output_type": "execute_result"
    }
   ],
   "source": [
    "mreturns = market['Adj Close'].resample('y').ffill().pct_change()\n",
    "mreturns"
   ]
  },
  {
   "cell_type": "code",
   "execution_count": 10,
   "id": "7aad9f20",
   "metadata": {},
   "outputs": [
    {
     "data": {
      "text/plain": [
       "Date\n",
       "2012-12-31 00:00:00-05:00    0.134057\n",
       "2013-12-31 00:00:00-05:00    0.296012\n",
       "2014-12-31 00:00:00-05:00    0.113906\n",
       "2015-12-31 00:00:00-05:00   -0.007266\n",
       "2016-12-31 00:00:00-05:00    0.095350\n",
       "2017-12-31 00:00:00-05:00    0.194200\n",
       "2018-12-31 00:00:00-05:00   -0.062373\n",
       "2019-12-31 00:00:00-05:00    0.288781\n",
       "2020-12-31 00:00:00-05:00    0.162589\n",
       "2021-12-31 00:00:00-05:00    0.268927\n",
       "2022-12-31 00:00:00-05:00   -0.052585\n",
       "Freq: A-DEC, Name: Adj Close, dtype: float64"
      ]
     },
     "execution_count": 10,
     "metadata": {},
     "output_type": "execute_result"
    }
   ],
   "source": [
    "mreturns = mreturns[1:]\n",
    "mreturns"
   ]
  },
  {
   "cell_type": "code",
   "execution_count": 11,
   "id": "d50866ae",
   "metadata": {},
   "outputs": [],
   "source": [
    "mreturns = mreturns.to_numpy()"
   ]
  },
  {
   "cell_type": "code",
   "execution_count": 12,
   "id": "97487a85",
   "metadata": {},
   "outputs": [
    {
     "data": {
      "text/plain": [
       "array([[ 0.13405691],\n",
       "       [ 0.2960125 ],\n",
       "       [ 0.11390634],\n",
       "       [-0.007266  ],\n",
       "       [ 0.09535023],\n",
       "       [ 0.19419966],\n",
       "       [-0.0623726 ],\n",
       "       [ 0.2887807 ],\n",
       "       [ 0.16258923],\n",
       "       [ 0.26892739],\n",
       "       [-0.05258517]])"
      ]
     },
     "execution_count": 12,
     "metadata": {},
     "output_type": "execute_result"
    }
   ],
   "source": [
    "mreturns = mreturns.reshape(-1,1)\n",
    "mreturns"
   ]
  },
  {
   "cell_type": "code",
   "execution_count": 13,
   "id": "ba15c762",
   "metadata": {},
   "outputs": [],
   "source": [
    "returns = returns.to_numpy()"
   ]
  },
  {
   "cell_type": "code",
   "execution_count": 14,
   "id": "02ad7944",
   "metadata": {},
   "outputs": [
    {
     "data": {
      "text/plain": [
       "array([ 0.50466895,  0.48056453,  0.18635825,  0.1913733 ,  0.01371213,\n",
       "        0.47176527,  0.16487564,  0.43327054,  0.17124181, -0.00314918,\n",
       "        0.04365279])"
      ]
     },
     "execution_count": 14,
     "metadata": {},
     "output_type": "execute_result"
    }
   ],
   "source": [
    "returns[:,3]"
   ]
  },
  {
   "cell_type": "code",
   "execution_count": 15,
   "id": "bf389e36",
   "metadata": {},
   "outputs": [
    {
     "data": {
      "text/plain": [
       "4"
      ]
     },
     "execution_count": 15,
     "metadata": {},
     "output_type": "execute_result"
    }
   ],
   "source": [
    "returns.shape[1]"
   ]
  },
  {
   "cell_type": "code",
   "execution_count": 16,
   "id": "27938ad9",
   "metadata": {},
   "outputs": [],
   "source": [
    "reg = LinearRegression()"
   ]
  },
  {
   "cell_type": "code",
   "execution_count": 17,
   "id": "6b9aa99c",
   "metadata": {},
   "outputs": [],
   "source": [
    "def alpha_beta_calc(returns,RM):\n",
    "    alphas = []\n",
    "    betas = []\n",
    "    reg = LinearRegression()\n",
    "    for i in range(returns.shape[1]):\n",
    "        reg.fit(RM,returns[:,i].reshape(-1,1))\n",
    "        betas.append(reg.coef_[0][0])\n",
    "        alphas.append(reg.intercept_[0])\n",
    "    return alphas,betas"
   ]
  },
  {
   "cell_type": "code",
   "execution_count": 18,
   "id": "438af99c",
   "metadata": {},
   "outputs": [
    {
     "data": {
      "text/plain": [
       "[0.036822139666264735,\n",
       " -0.01993892010857154,\n",
       " 0.4203703665787406,\n",
       " 0.15157882502822084]"
      ]
     },
     "execution_count": 18,
     "metadata": {},
     "output_type": "execute_result"
    }
   ],
   "source": [
    "alphas, betas = alpha_beta_calc(returns,mreturns)\n",
    "alphas"
   ]
  },
  {
   "cell_type": "code",
   "execution_count": 19,
   "id": "18602a90",
   "metadata": {},
   "outputs": [
    {
     "data": {
      "text/plain": [
       "[0.36282313474667083,\n",
       " 0.4929693890871753,\n",
       " 5.6247855259928325,\n",
       " 0.6922097867866197]"
      ]
     },
     "execution_count": 19,
     "metadata": {},
     "output_type": "execute_result"
    }
   ],
   "source": [
    "betas"
   ]
  },
  {
   "cell_type": "markdown",
   "id": "3a78161e",
   "metadata": {},
   "source": [
    " #### Ranking the stocks"
   ]
  },
  {
   "cell_type": "code",
   "execution_count": 20,
   "id": "8a6397fe",
   "metadata": {},
   "outputs": [
    {
     "data": {
      "text/plain": [
       "array([0.08404189, 0.04421877, 1.15241022, 0.24166673])"
      ]
     },
     "execution_count": 20,
     "metadata": {},
     "output_type": "execute_result"
    }
   ],
   "source": [
    "returns.mean(0)"
   ]
  },
  {
   "cell_type": "code",
   "execution_count": 21,
   "id": "8220cb6c",
   "metadata": {},
   "outputs": [],
   "source": [
    "rf = 0.01"
   ]
  },
  {
   "cell_type": "code",
   "execution_count": 22,
   "id": "f661c57e",
   "metadata": {},
   "outputs": [
    {
     "data": {
      "text/plain": [
       "array([0.20407159, 0.06941358, 0.20310289, 0.33467705])"
      ]
     },
     "execution_count": 22,
     "metadata": {},
     "output_type": "execute_result"
    }
   ],
   "source": [
    "(returns.mean(0)-rf)/betas\n"
   ]
  },
  {
   "attachments": {
    "image.png": {
     "image/png": "[encoded data removed]"
    }
   },
   "cell_type": "markdown",
   "id": "ff570cc3",
   "metadata": {},
   "source": [
    "![image.png](attachment:image.png)"
   ]
  },
  {
   "cell_type": "code",
   "execution_count": 23,
   "id": "95c9c1b3",
   "metadata": {},
   "outputs": [],
   "source": [
    "Systematic_var = (betas[0]*mreturns.std())**2"
   ]
  },
  {
   "cell_type": "code",
   "execution_count": 24,
   "id": "fb272c26",
   "metadata": {},
   "outputs": [
    {
     "data": {
      "text/plain": [
       "0.003987832492137289"
      ]
     },
     "execution_count": 24,
     "metadata": {},
     "output_type": "execute_result"
    }
   ],
   "source": [
    "returns.var(0)[0]"
   ]
  },
  {
   "cell_type": "code",
   "execution_count": 25,
   "id": "a4b07b2f",
   "metadata": {},
   "outputs": [
    {
     "data": {
      "text/plain": [
       "0.04447807339406118"
      ]
     },
     "execution_count": 25,
     "metadata": {},
     "output_type": "execute_result"
    }
   ],
   "source": [
    "UnsystematicRisk = np.sqrt(returns.var(0)[0]-Systematic_var)\n",
    "UnsystematicRisk"
   ]
  },
  {
   "cell_type": "code",
   "execution_count": 26,
   "id": "092d3054",
   "metadata": {},
   "outputs": [
    {
     "data": {
      "text/plain": [
       "4"
      ]
     },
     "execution_count": 26,
     "metadata": {},
     "output_type": "execute_result"
    }
   ],
   "source": [
    "returns.shape[1]"
   ]
  },
  {
   "cell_type": "code",
   "execution_count": 27,
   "id": "cad69c60",
   "metadata": {},
   "outputs": [
    {
     "data": {
      "text/plain": [
       "0.6922097867866197"
      ]
     },
     "execution_count": 27,
     "metadata": {},
     "output_type": "execute_result"
    }
   ],
   "source": [
    "betas[3]"
   ]
  },
  {
   "cell_type": "code",
   "execution_count": 28,
   "id": "7d6f74da",
   "metadata": {},
   "outputs": [
    {
     "data": {
      "text/plain": [
       "0.015265298589395878"
      ]
     },
     "execution_count": 28,
     "metadata": {},
     "output_type": "execute_result"
    }
   ],
   "source": [
    "mreturns.var()"
   ]
  },
  {
   "cell_type": "code",
   "execution_count": 29,
   "id": "cb2d824e",
   "metadata": {},
   "outputs": [],
   "source": [
    "def cutoff(returns,RM,Betas,rf):\n",
    "    cutoffs = []\n",
    "    unsystematic_var = []\n",
    "    sum1 = 0\n",
    "    sum2 = 0\n",
    "    for j in range(returns.shape[1]):\n",
    "        systematic_var = betas[j]**2*RM.var()\n",
    "        unsys_var = returns.var(0)[j]-systematic_var\n",
    "        \n",
    "        unsystematic_var.append(unsys_var)\n",
    "        \n",
    "        sum1 += (returns.mean(0)[j]-rf)*betas[j]/unsys_var\n",
    "        \n",
    "        sum2 += betas[j]**2/unsys_var\n",
    "        \n",
    "        cutoff = (RM.var()*sum1)/(1+RM.var()*sum2)\n",
    "        cutoffs.append(cutoff)\n",
    "    \n",
    "    return cutoffs,unsystematic_var"
   ]
  },
  {
   "cell_type": "code",
   "execution_count": 30,
   "id": "ccfabf2f",
   "metadata": {},
   "outputs": [
    {
     "data": {
      "text/plain": [
       "[0.1028349851735852,\n",
       " 0.1014328404189077,\n",
       " 0.10651232946470064,\n",
       " 0.13094056836683185]"
      ]
     },
     "execution_count": 30,
     "metadata": {},
     "output_type": "execute_result"
    }
   ],
   "source": [
    "cutoffs, unsystematic_var = cutoff(returns,mreturns,betas,rf)\n",
    "cutoffs"
   ]
  },
  {
   "cell_type": "code",
   "execution_count": 31,
   "id": "937da544",
   "metadata": {},
   "outputs": [
    {
     "data": {
      "text/plain": [
       "-0.04083998787970095"
      ]
     },
     "execution_count": 31,
     "metadata": {},
     "output_type": "execute_result"
    }
   ],
   "source": [
    "systematic_var = betas[0]*mreturns.std()\n",
    "unsys_var = returns.var(0)[0]-systematic_var\n",
    "unsys_var"
   ]
  },
  {
   "cell_type": "code",
   "execution_count": 32,
   "id": "1509e5d3",
   "metadata": {},
   "outputs": [
    {
     "data": {
      "text/plain": [
       "0.0019782990128474937"
      ]
     },
     "execution_count": 32,
     "metadata": {},
     "output_type": "execute_result"
    }
   ],
   "source": [
    "returns.var(0)[0]-(betas[0]**2*mreturns.var())"
   ]
  },
  {
   "cell_type": "code",
   "execution_count": 33,
   "id": "ac590385",
   "metadata": {},
   "outputs": [
    {
     "data": {
      "text/plain": [
       "array([0.08404189, 0.04421877, 1.15241022, 0.24166673])"
      ]
     },
     "execution_count": 33,
     "metadata": {},
     "output_type": "execute_result"
    }
   ],
   "source": [
    "returns.mean(0)"
   ]
  },
  {
   "cell_type": "code",
   "execution_count": 34,
   "id": "d56d2e48",
   "metadata": {},
   "outputs": [],
   "source": [
    "def weightcalc(betas,unsystematic_var,returns,rf,cutoffs):\n",
    "    zi = []\n",
    "    for i in range(returns.shape[1]):\n",
    "        z = (betas[i]/unsystematic_var[i])*(((returns.mean(0)[i]-rf)/betas[i])-cutoffs[3])\n",
    "        zi.append(z)\n",
    "    weights = []\n",
    "    for i in range(returns.shape[1]):\n",
    "        xi = zi[i]/np.sum(zi)\n",
    "        weights.append(xi)\n",
    "    return weights"
   ]
  },
  {
   "cell_type": "code",
   "execution_count": 35,
   "id": "c6452550",
   "metadata": {},
   "outputs": [
    {
     "data": {
      "text/plain": [
       "[0.7491435518822882,\n",
       " -0.04031134312371769,\n",
       " 0.005194016369337717,\n",
       " 0.28597377487209175]"
      ]
     },
     "execution_count": 35,
     "metadata": {},
     "output_type": "execute_result"
    }
   ],
   "source": [
    "weights = weightcalc(betas,unsystematic_var,returns,rf,cutoffs)\n",
    "weights"
   ]
  },
  {
   "cell_type": "code",
   "execution_count": 36,
   "id": "e2a555bc",
   "metadata": {},
   "outputs": [
    {
     "data": {
      "text/plain": [
       "array([ 0.74914355, -0.04031134,  0.00519402,  0.28597377])"
      ]
     },
     "execution_count": 36,
     "metadata": {},
     "output_type": "execute_result"
    }
   ],
   "source": [
    "weights = np.array(weights)\n",
    "weights"
   ]
  },
  {
   "cell_type": "code",
   "execution_count": 37,
   "id": "04c45b7f",
   "metadata": {},
   "outputs": [
    {
     "data": {
      "text/plain": [
       "array([[ 6.52758067e-02, -9.08655020e-03,  1.85924288e-01,\n",
       "         5.04668949e-01],\n",
       "       [ 1.72330050e-01,  9.03789625e-02,  3.44139411e+00,\n",
       "         4.80564529e-01],\n",
       "       [ 5.26612442e-02, -1.26498114e-02,  4.78494877e-01,\n",
       "         1.86358254e-01],\n",
       "       [ 5.13985134e-02, -2.71206903e-01,  7.91331850e-02,\n",
       "         1.91373298e-01],\n",
       "       [-3.57125225e-03,  2.82595445e-01, -1.09662130e-01,\n",
       "         1.37121284e-02],\n",
       "       [ 1.43820921e-01,  3.10229866e-01,  4.57017111e-01,\n",
       "         4.71765269e-01],\n",
       "       [ 6.77350359e-02, -7.51325008e-02,  6.88935445e-02,\n",
       "         1.64875644e-01],\n",
       "       [ 2.05994180e-01,  7.70847413e-02,  2.57001189e-01,\n",
       "         4.33270543e-01],\n",
       "       [ 2.46913477e-02, -3.74392681e-01,  7.43436995e+00,\n",
       "         1.71241812e-01],\n",
       "       [ 1.13724763e-01,  2.84254100e-01,  4.97555592e-01,\n",
       "        -3.14917858e-03],\n",
       "       [ 3.04002299e-02,  1.84331785e-01, -1.13609318e-01,\n",
       "         4.36527936e-02]])"
      ]
     },
     "execution_count": 37,
     "metadata": {},
     "output_type": "execute_result"
    }
   ],
   "source": [
    "returns"
   ]
  },
  {
   "cell_type": "markdown",
   "id": "744d7038",
   "metadata": {},
   "source": [
    " #### Test"
   ]
  },
  {
   "cell_type": "code",
   "execution_count": 38,
   "id": "ef8827f6",
   "metadata": {},
   "outputs": [
    {
     "name": "stdout",
     "output_type": "stream",
     "text": [
      "0.09720323979781326\n"
     ]
    }
   ],
   "source": [
    "V = np.sqrt(weights.T @ cov_matrix @ weights)\n",
    "print(V)"
   ]
  },
  {
   "cell_type": "code",
   "execution_count": 39,
   "id": "9b9b8d11",
   "metadata": {},
   "outputs": [
    {
     "data": {
      "text/plain": [
       "0.13627291027931887"
      ]
     },
     "execution_count": 39,
     "metadata": {},
     "output_type": "execute_result"
    }
   ],
   "source": [
    "R = np.sum(returns.mean(0) * weights)\n",
    "R"
   ]
  },
  {
   "cell_type": "code",
   "execution_count": 40,
   "id": "66d12cf0",
   "metadata": {},
   "outputs": [],
   "source": [
    "def test(weights,alphas,betas,RM):\n",
    "    Rp = 0\n",
    "    sum1 = 0\n",
    "    sum2 = 0\n",
    "    for i in range(len(weights)):\n",
    "        sum1 += weights[i]*alphas[i]\n",
    "        sum2 += weights[i]*betas[i]\n",
    "    Rp = sum1+sum2*RM.mean()\n",
    "    return Rp"
   ]
  },
  {
   "cell_type": "code",
   "execution_count": 41,
   "id": "ef279095",
   "metadata": {},
   "outputs": [
    {
     "data": {
      "text/plain": [
       "0.13627291027931887"
      ]
     },
     "execution_count": 41,
     "metadata": {},
     "output_type": "execute_result"
    }
   ],
   "source": [
    "test(weights,alphas,betas,mreturns)"
   ]
  }
 ],
 "metadata": {
  "kernelspec": {
   "display_name": "Python 3 (ipykernel)",
   "language": "python",
   "name": "python3"
  },
  "language_info": {
   "codemirror_mode": {
    "name": "ipython",
    "version": 3
   },
   "file_extension": ".py",
   "mimetype": "text/x-python",
   "name": "python",
   "nbconvert_exporter": "python",
   "pygments_lexer": "ipython3",
   "version": "3.9.12"
  }
 },
 "nbformat": 4,
 "nbformat_minor": 5
}
