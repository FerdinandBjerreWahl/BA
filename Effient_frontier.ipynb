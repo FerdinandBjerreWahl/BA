{
 "cells": [
  {
   "cell_type": "code",
   "execution_count": 1,
   "id": "99caf6df",
   "metadata": {},
   "outputs": [],
   "source": [
    "import numpy as np\n",
    "import matplotlib.pyplot as plt\n",
    "from DATA import get_filtered_stock_data as gfs\n",
    "from DATA import read_data\n",
    "from DATA import delete_pickle_file\n",
    "from Effient_Frontier import efficient_frontier \n",
    "from Effient_Frontier import get_mean_matrices\n",
    "from Effient_Frontier import get_cov_matrices\n",
    "from Get_name import get_company_names"
   ]
  },
  {
   "cell_type": "code",
   "execution_count": 2,
   "id": "054abe27",
   "metadata": {},
   "outputs": [],
   "source": [
    "#delete_pickle_file('ESG_US.csv.pickle')\n",
    "#delete_pickle_file('ESG_DATA.csv.pickle')S"
   ]
  },
  {
   "cell_type": "code",
   "execution_count": 3,
   "id": "5f59f1a7",
   "metadata": {},
   "outputs": [],
   "source": [
    "file_path = \"ESG_US.csv\"\n",
    "esg = read_data(file_path)\n",
    "column_name = 'environment_score'\n",
    "column_value = 'High'\n",
    "threshold = 0\n",
    "operator = 'geq'\n",
    "prefixes= ['US']\n",
    "start_date = '2000-01-01'\n",
    "end_date = '2020-01-01'"
   ]
  },
  {
   "cell_type": "code",
   "execution_count": 4,
   "id": "1bf475dc",
   "metadata": {},
   "outputs": [],
   "source": [
    "returns = gfs(file_path, column_name, column_value, prefixes, start_date, end_date, time='y', threshold=threshold, operator=operator)"
   ]
  },
  {
   "cell_type": "code",
   "execution_count": 5,
   "id": "0588018f",
   "metadata": {},
   "outputs": [
    {
     "data": {
      "text/plain": [
       "(20, 334)"
      ]
     },
     "execution_count": 5,
     "metadata": {},
     "output_type": "execute_result"
    }
   ],
   "source": [
    "returns.shape"
   ]
  },
  {
   "cell_type": "code",
   "execution_count": 7,
   "id": "9f5c8a54",
   "metadata": {},
   "outputs": [],
   "source": [
    "mu = get_mean_matrices(returns)\n",
    "cov =  get_cov_matrices(returns)[1]\n",
    "target = np.linspace(np.min(mu), np.max(mu), 100)\n",
    "rf = 0.00\n",
    "bounds = [(0, 1) for _ in range(len(mu))]\n",
    "score = 'environment_score'\n",
    "get_plots = False"
   ]
  },
  {
   "cell_type": "code",
   "execution_count": 16,
   "id": "6dc7228f",
   "metadata": {},
   "outputs": [
    {
     "name": "stdout",
     "output_type": "stream",
     "text": [
      "Optimization terminated successfully    (Exit mode 0)\n",
      "            Current function value: -4.332520049010508\n",
      "            Iterations: 59\n",
      "            Function evaluations: 19836\n",
      "            Gradient evaluations: 59\n"
     ]
    }
   ],
   "source": [
    "max_sharpe_ret, max_sharpe_vol, max_sharpe_sr, portfolio_esg, frontier, mu, stdevs , w_opt = efficient_frontier(mu, cov, target, rf, bounds, returns, esg=esg, score=score,get_plots = False)"
   ]
  },
  {
   "cell_type": "code",
   "execution_count": 17,
   "id": "95bc825e",
   "metadata": {},
   "outputs": [
    {
     "data": {
      "text/html": [
       "<div>\n",
       "<style scoped>\n",
       "    .dataframe tbody tr th:only-of-type {\n",
       "        vertical-align: middle;\n",
       "    }\n",
       "\n",
       "    .dataframe tbody tr th {\n",
       "        vertical-align: top;\n",
       "    }\n",
       "\n",
       "    .dataframe thead th {\n",
       "        text-align: right;\n",
       "    }\n",
       "</style>\n",
       "<table border=\"1\" class=\"dataframe\">\n",
       "  <thead>\n",
       "    <tr style=\"text-align: right;\">\n",
       "      <th></th>\n",
       "      <th>Column</th>\n",
       "      <th>Weights</th>\n",
       "    </tr>\n",
       "  </thead>\n",
       "  <tbody>\n",
       "    <tr>\n",
       "      <th>0</th>\n",
       "      <td>Aflac Incorporated</td>\n",
       "      <td>3.286350e-12</td>\n",
       "    </tr>\n",
       "    <tr>\n",
       "      <th>1</th>\n",
       "      <td>The AES Corporation</td>\n",
       "      <td>1.783192e-11</td>\n",
       "    </tr>\n",
       "    <tr>\n",
       "      <th>2</th>\n",
       "      <td>AT&amp;T Inc.</td>\n",
       "      <td>3.948255e-12</td>\n",
       "    </tr>\n",
       "    <tr>\n",
       "      <th>3</th>\n",
       "      <td>Abbott Laboratories</td>\n",
       "      <td>8.231727e-03</td>\n",
       "    </tr>\n",
       "    <tr>\n",
       "      <th>4</th>\n",
       "      <td>Activision Blizzard, Inc.</td>\n",
       "      <td>2.607643e-12</td>\n",
       "    </tr>\n",
       "    <tr>\n",
       "      <th>...</th>\n",
       "      <td>...</td>\n",
       "      <td>...</td>\n",
       "    </tr>\n",
       "    <tr>\n",
       "      <th>329</th>\n",
       "      <td>The Williams Companies, Inc.</td>\n",
       "      <td>2.132805e-11</td>\n",
       "    </tr>\n",
       "    <tr>\n",
       "      <th>330</th>\n",
       "      <td>Xcel Energy Inc.</td>\n",
       "      <td>1.399724e-12</td>\n",
       "    </tr>\n",
       "    <tr>\n",
       "      <th>331</th>\n",
       "      <td>Yum! Brands, Inc.</td>\n",
       "      <td>4.291229e-03</td>\n",
       "    </tr>\n",
       "    <tr>\n",
       "      <th>332</th>\n",
       "      <td>Zebra Technologies Corporation</td>\n",
       "      <td>5.318904e-13</td>\n",
       "    </tr>\n",
       "    <tr>\n",
       "      <th>333</th>\n",
       "      <td>Zions Bancorporation, National Association</td>\n",
       "      <td>7.569864e-12</td>\n",
       "    </tr>\n",
       "  </tbody>\n",
       "</table>\n",
       "<p>334 rows × 2 columns</p>\n",
       "</div>"
      ],
      "text/plain": [
       "                                         Column       Weights\n",
       "0                            Aflac Incorporated  3.286350e-12\n",
       "1                           The AES Corporation  1.783192e-11\n",
       "2                                     AT&T Inc.  3.948255e-12\n",
       "3                           Abbott Laboratories  8.231727e-03\n",
       "4                     Activision Blizzard, Inc.  2.607643e-12\n",
       "..                                          ...           ...\n",
       "329                The Williams Companies, Inc.  2.132805e-11\n",
       "330                            Xcel Energy Inc.  1.399724e-12\n",
       "331                           Yum! Brands, Inc.  4.291229e-03\n",
       "332              Zebra Technologies Corporation  5.318904e-13\n",
       "333  Zions Bancorporation, National Association  7.569864e-12\n",
       "\n",
       "[334 rows x 2 columns]"
      ]
     },
     "metadata": {},
     "output_type": "display_data"
    }
   ],
   "source": [
    "combined_data = pd.DataFrame({'Column': get_company_names(returns.columns.to_numpy(), pd.read_csv(\"ESG_US.csv\")), 'Weights': w_opt})\n",
    "display(combined_data)"
   ]
  },
  {
   "cell_type": "code",
   "execution_count": 14,
   "id": "e1c7be3d",
   "metadata": {},
   "outputs": [
    {
     "name": "stdout",
     "output_type": "stream",
     "text": [
      "Optimization terminated successfully    (Exit mode 0)\n",
      "            Current function value: -4.332520049010508\n",
      "            Iterations: 59\n",
      "            Function evaluations: 19836\n",
      "            Gradient evaluations: 59\n"
     ]
    },
    {
     "data": {
      "image/png": "[encoded data removed]",
      "text/plain": [
       "<Figure size 432x288 with 1 Axes>"
      ]
     },
     "metadata": {
      "needs_background": "light"
     },
     "output_type": "display_data"
    }
   ],
   "source": [
    "#Get the mean return of the stocks and the covariance matrix\n",
    "mean = get_mean_matrices(returns)\n",
    "cov = get_cov_matrices(returns)[1]\n",
    "        \n",
    "#Set the target, used for the efficient frontier module \n",
    "target = np.linspace(np.min(mean), np.max(mean), 100)\n",
    "        \n",
    "#Create the bounds\n",
    "bounds = [(0, 1) for _ in range(len(mean))]\n",
    "        \n",
    "#Alot of computation here is unessecary for the backtest. \n",
    "max_sharpe_ret, max_sharpe_vol, max_sharpe_sr, portfolio_esg, frontier, mu, stdevs , w_opt  = efficient_frontier(mean, cov, target, rf, bounds, returns, esg=esg, score=score,get_plots=True)\n",
    "\n",
    "plt.plot(frontier[:,1], frontier[:,0], label='High')\n",
    "plt.plot(stdevs, mu, '*', color='orange')\n",
    "plt.xlabel('Volatility')\n",
    "plt.ylabel('Expected Return')\n",
    "plt.legend()\n",
    "\n",
    "# Plot a red dot at the portfolio with the highest Sharpe ratio\n",
    "plt.scatter(max_sharpe_vol, max_sharpe_ret, marker='o', color='g', s=50, label='Max Sharpe Ratio')\n",
    "plt.show()\n",
    "#plt.savefig('Effient frontier')"
   ]
  },
  {
   "cell_type": "code",
   "execution_count": 13,
   "id": "ab9b801c",
   "metadata": {},
   "outputs": [
    {
     "name": "stdout",
     "output_type": "stream",
     "text": [
      "Optimization terminated successfully    (Exit mode 0)\n",
      "            Current function value: -1.6563010735729353\n",
      "            Iterations: 13\n",
      "            Function evaluations: 246\n",
      "            Gradient evaluations: 13\n",
      "Optimization terminated successfully    (Exit mode 0)\n",
      "            Current function value: -3.7655332753041737\n",
      "            Iterations: 54\n",
      "            Function evaluations: 13289\n",
      "            Gradient evaluations: 54\n",
      "Optimization terminated successfully    (Exit mode 0)\n",
      "            Current function value: -2.5815273224064823\n",
      "            Iterations: 25\n",
      "            Function evaluations: 1850\n",
      "            Gradient evaluations: 25\n",
      "Optimization terminated successfully    (Exit mode 0)\n",
      "            Current function value: -0.7671083245127377\n",
      "            Iterations: 1\n",
      "            Function evaluations: 2\n",
      "            Gradient evaluations: 1\n"
     ]
    },
    {
     "data": {
      "image/png": "[encoded data removed]",
      "text/plain": [
       "<Figure size 432x288 with 1 Axes>"
      ]
     },
     "metadata": {
      "needs_background": "light"
     },
     "output_type": "display_data"
    }
   ],
   "source": [
    "column_name = 'environment_level'\n",
    "\n",
    "# Get returns \n",
    "\n",
    "returns1 = gfs(file_path, column_name, 'Excellent', prefixes, start_date, end_date, time='y', threshold=None, operator=operator)\n",
    "returns2 = gfs(file_path, column_name, 'High' , prefixes, start_date, end_date, time='y', threshold=None, operator=operator)\n",
    "returns3 = gfs(file_path, column_name, 'Medium' , prefixes, start_date, end_date, time='y', threshold=None, operator=operator)\n",
    "returns4 = gfs(file_path, column_name, 'Low', prefixes, start_date, end_date, time='y', threshold=None, operator=operator)\n",
    "\n",
    "\n",
    "#Get the mean return of the stocks and the covariance matrix\n",
    "mean1 = get_mean_matrices(returns1)\n",
    "cov1 = get_cov_matrices(returns1)[1]\n",
    "mean2 = get_mean_matrices(returns2)\n",
    "cov2 = get_cov_matrices(returns2)[1]\n",
    "mean3 = get_mean_matrices(returns3)\n",
    "cov3 = get_cov_matrices(returns3)[1]\n",
    "mean4 = get_mean_matrices(returns4)\n",
    "cov4 = get_cov_matrices(returns4)[1]\n",
    "        \n",
    "#Set the target, used for the efficient frontier module \n",
    "target1 = np.linspace(np.min(mean1), np.max(mean1), 100)\n",
    "target2 = np.linspace(np.min(mean2), np.max(mean2), 100)\n",
    "target3 = np.linspace(np.min(mean3), np.max(mean3), 100)\n",
    "target4 = np.linspace(np.min(mean4), np.max(mean4), 100)\n",
    "        \n",
    "#Create the bounds\n",
    "bounds1 = [(0, 1) for _ in range(len(mean1))]\n",
    "bounds2 = [(0, 1) for _ in range(len(mean2))]\n",
    "bounds3 = [(0, 1) for _ in range(len(mean3))]\n",
    "bounds4 = [(0, 1) for _ in range(len(mean4))]\n",
    "        \n",
    "#Alot of computation here is unessecary for the backtest. \n",
    "max_sharpe_ret1, max_sharpe_vol1, max_sharpe_sr1, portfolio_esg1, frontier1, mu1, stdevs1 , w_opt1  = efficient_frontier(mean1, cov1, target1, rf, bounds1, returns1 , esg=esg, score=score,get_plots=True)\n",
    "max_sharpe_ret2, max_sharpe_vol2, max_sharpe_sr2, portfolio_esg2, frontier2, mu2, stdevs2 , w_opt2  = efficient_frontier(mean2, cov2, target2, rf, bounds2, returns2 , esg=esg, score=score,get_plots=True)\n",
    "max_sharpe_ret3, max_sharpe_vol3, max_sharpe_sr3, portfolio_esg3, frontier3, mu3, stdevs3 , w_opt3  = efficient_frontier(mean3, cov3, target3, rf, bounds3, returns3 , esg=esg, score=score,get_plots=True)\n",
    "max_sharpe_ret4, max_sharpe_vol4, max_sharpe_sr4, portfolio_esg4, frontier4, mu4, stdevs4 , w_opt4  = efficient_frontier(mean4, cov4, target4, rf, bounds4, returns4 , esg=esg, score=score,get_plots=True)\n",
    "\n",
    "plt.plot(frontier1[:,1], frontier1[:,0], label='Excellent', color='red')\n",
    "plt.plot(stdevs1, mu1, '*', color='red')\n",
    "plt.plot(frontier2[:,1], frontier2[:,0], label='High', color='green')\n",
    "plt.plot(stdevs2, mu2, '*', color='green')\n",
    "plt.plot(frontier3[:,1], frontier3[:,0], label='Medium', color='blue')\n",
    "plt.plot(stdevs3, mu3, '*', color='blue')\n",
    "plt.plot(frontier4[:,1], frontier4[:,0], label='Low', color='yellow')\n",
    "plt.plot(stdevs4, mu4, '*', color='yellow')\n",
    "plt.xlabel('Volatility')\n",
    "plt.ylabel('Expected Return')\n",
    "plt.legend()\n",
    "\n",
    "# Plot a red dot at the portfolio with the highest Sharpe ratio\n",
    "plt.scatter(max_sharpe_vol1, max_sharpe_ret1, marker='o', color='red', s=50, label='Max Sharpe Ratio Excellent')\n",
    "plt.scatter(max_sharpe_vol2, max_sharpe_ret2, marker='o', color='green', s=50, label='Max Sharpe Ratio High')\n",
    "plt.scatter(max_sharpe_vol3, max_sharpe_ret3, marker='o', color='blue', s=50, label='Max Sharpe Ratio Medium')\n",
    "plt.scatter(max_sharpe_vol4, max_sharpe_ret4, marker='o', color='yellow', s=50, label='Max Sharpe Ratio Low')\n",
    "plt.show()\n",
    "#plt.savefig('Effient frontier_levels')"
   ]
  },
  {
   "cell_type": "code",
   "execution_count": null,
   "id": "687d681f",
   "metadata": {},
   "outputs": [],
   "source": []
  }
 ],
 "metadata": {
  "kernelspec": {
   "display_name": "Python 3 (ipykernel)",
   "language": "python",
   "name": "python3"
  },
  "language_info": {
   "codemirror_mode": {
    "name": "ipython",
    "version": 3
   },
   "file_extension": ".py",
   "mimetype": "text/x-python",
   "name": "python",
   "nbconvert_exporter": "python",
   "pygments_lexer": "ipython3",
   "version": "3.9.12"
  }
 },
 "nbformat": 4,
 "nbformat_minor": 5
}
