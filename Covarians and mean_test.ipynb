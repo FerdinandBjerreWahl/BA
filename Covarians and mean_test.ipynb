{
 "cells": [
  {
   "cell_type": "markdown",
   "id": "60473d53",
   "metadata": {},
   "source": [
    "### Import data"
   ]
  },
  {
   "cell_type": "code",
   "execution_count": 1,
   "id": "0f2ba3b6",
   "metadata": {},
   "outputs": [],
   "source": [
    "import numpy as np\n",
    "import pandas as pd\n",
    "import matplotlib.pyplot as plt\n",
    "from sympy import symbols, solve\n",
    "import itertools\n",
    "import yfinance as yf\n",
    "from sklearn.linear_model import LinearRegression\n",
    "import math"
   ]
  },
  {
   "cell_type": "code",
   "execution_count": 6,
   "id": "9dd4256b",
   "metadata": {},
   "outputs": [
    {
     "name": "stdout",
     "output_type": "stream",
     "text": [
      "[*********************100%***********************]  4 of 4 completed\n"
     ]
    }
   ],
   "source": [
    "indexes = yf.download(\"TSLA KO V SHEL\", start=\"2011-01-01\", end=\"2022-01-01\")"
   ]
  },
  {
   "cell_type": "markdown",
   "id": "ab36d5ef",
   "metadata": {},
   "source": [
    "# Test af 'Adj Close' pct_change() giver procentvis ændring"
   ]
  },
  {
   "cell_type": "code",
   "execution_count": 42,
   "id": "ca6e071d",
   "metadata": {
    "scrolled": false
   },
   "outputs": [
    {
     "data": {
      "text/html": [
       "<div>\n",
       "<style scoped>\n",
       "    .dataframe tbody tr th:only-of-type {\n",
       "        vertical-align: middle;\n",
       "    }\n",
       "\n",
       "    .dataframe tbody tr th {\n",
       "        vertical-align: top;\n",
       "    }\n",
       "\n",
       "    .dataframe thead th {\n",
       "        text-align: right;\n",
       "    }\n",
       "</style>\n",
       "<table border=\"1\" class=\"dataframe\">\n",
       "  <thead>\n",
       "    <tr style=\"text-align: right;\">\n",
       "      <th></th>\n",
       "      <th>KO</th>\n",
       "      <th>SHEL</th>\n",
       "      <th>TSLA</th>\n",
       "      <th>V</th>\n",
       "    </tr>\n",
       "    <tr>\n",
       "      <th>Date</th>\n",
       "      <th></th>\n",
       "      <th></th>\n",
       "      <th></th>\n",
       "      <th></th>\n",
       "    </tr>\n",
       "  </thead>\n",
       "  <tbody>\n",
       "    <tr>\n",
       "      <th>2011-12-31</th>\n",
       "      <td>24.652576</td>\n",
       "      <td>40.026295</td>\n",
       "      <td>1.904000</td>\n",
       "      <td>23.441568</td>\n",
       "    </tr>\n",
       "    <tr>\n",
       "      <th>2012-12-31</th>\n",
       "      <td>26.261791</td>\n",
       "      <td>39.662590</td>\n",
       "      <td>2.258000</td>\n",
       "      <td>35.271816</td>\n",
       "    </tr>\n",
       "    <tr>\n",
       "      <th>2013-12-31</th>\n",
       "      <td>30.787483</td>\n",
       "      <td>43.247238</td>\n",
       "      <td>10.028667</td>\n",
       "      <td>52.222176</td>\n",
       "    </tr>\n",
       "    <tr>\n",
       "      <th>2014-12-31</th>\n",
       "      <td>32.408794</td>\n",
       "      <td>42.700188</td>\n",
       "      <td>14.827333</td>\n",
       "      <td>61.954193</td>\n",
       "    </tr>\n",
       "    <tr>\n",
       "      <th>2015-12-31</th>\n",
       "      <td>34.074558</td>\n",
       "      <td>31.119593</td>\n",
       "      <td>16.000668</td>\n",
       "      <td>73.810593</td>\n",
       "    </tr>\n",
       "    <tr>\n",
       "      <th>2016-12-31</th>\n",
       "      <td>33.952881</td>\n",
       "      <td>39.913860</td>\n",
       "      <td>14.246000</td>\n",
       "      <td>74.822685</td>\n",
       "    </tr>\n",
       "    <tr>\n",
       "      <th>2017-12-31</th>\n",
       "      <td>38.836006</td>\n",
       "      <td>52.296314</td>\n",
       "      <td>20.756666</td>\n",
       "      <td>110.121429</td>\n",
       "    </tr>\n",
       "    <tr>\n",
       "      <th>2018-12-31</th>\n",
       "      <td>41.466545</td>\n",
       "      <td>48.367165</td>\n",
       "      <td>22.186666</td>\n",
       "      <td>128.277771</td>\n",
       "    </tr>\n",
       "    <tr>\n",
       "      <th>2019-12-31</th>\n",
       "      <td>50.008430</td>\n",
       "      <td>52.095539</td>\n",
       "      <td>27.888666</td>\n",
       "      <td>183.856720</td>\n",
       "    </tr>\n",
       "    <tr>\n",
       "      <th>2020-12-31</th>\n",
       "      <td>51.243202</td>\n",
       "      <td>32.591351</td>\n",
       "      <td>235.223328</td>\n",
       "      <td>215.340744</td>\n",
       "    </tr>\n",
       "    <tr>\n",
       "      <th>2021-12-31</th>\n",
       "      <td>57.070831</td>\n",
       "      <td>41.855576</td>\n",
       "      <td>352.260010</td>\n",
       "      <td>214.662582</td>\n",
       "    </tr>\n",
       "  </tbody>\n",
       "</table>\n",
       "</div>"
      ],
      "text/plain": [
       "                   KO       SHEL        TSLA           V\n",
       "Date                                                    \n",
       "2011-12-31  24.652576  40.026295    1.904000   23.441568\n",
       "2012-12-31  26.261791  39.662590    2.258000   35.271816\n",
       "2013-12-31  30.787483  43.247238   10.028667   52.222176\n",
       "2014-12-31  32.408794  42.700188   14.827333   61.954193\n",
       "2015-12-31  34.074558  31.119593   16.000668   73.810593\n",
       "2016-12-31  33.952881  39.913860   14.246000   74.822685\n",
       "2017-12-31  38.836006  52.296314   20.756666  110.121429\n",
       "2018-12-31  41.466545  48.367165   22.186666  128.277771\n",
       "2019-12-31  50.008430  52.095539   27.888666  183.856720\n",
       "2020-12-31  51.243202  32.591351  235.223328  215.340744\n",
       "2021-12-31  57.070831  41.855576  352.260010  214.662582"
      ]
     },
     "execution_count": 42,
     "metadata": {},
     "output_type": "execute_result"
    }
   ],
   "source": [
    "returns =  indexes['Adj Close']\n",
    "returns_ffill = indexes['Adj Close'].resample('y').ffill()\n",
    "returns_ffill"
   ]
  },
  {
   "cell_type": "code",
   "execution_count": 16,
   "id": "34415224",
   "metadata": {
    "scrolled": true
   },
   "outputs": [
    {
     "data": {
      "text/plain": [
       "array([[ 22.33393669,  35.03116989,   1.77466702,  16.15329933],\n",
       "       [ 21.87164116,  35.22961807,   1.778     ,  16.17161942],\n",
       "       [ 21.74150658,  34.91106796,   1.78866696,  16.5129261 ],\n",
       "       ...,\n",
       "       [ 56.82022095,  42.12561035, 362.06332397, 216.10876465],\n",
       "       [ 56.65635681,  41.85557556, 356.77999878, 215.81159973],\n",
       "       [ 57.0708313 ,  41.85557556, 352.26000977, 214.6625824 ]])"
      ]
     },
     "execution_count": 16,
     "metadata": {},
     "output_type": "execute_result"
    }
   ],
   "source": [
    "returns_np = returns.to_numpy()\n",
    "returns_np"
   ]
  },
  {
   "cell_type": "code",
   "execution_count": 19,
   "id": "d503b35e",
   "metadata": {
    "scrolled": true
   },
   "outputs": [
    {
     "data": {
      "text/plain": [
       "array([22.33393669, 21.87164116, 21.74150658, ..., 56.82022095,\n",
       "       56.65635681, 57.0708313 ])"
      ]
     },
     "execution_count": 19,
     "metadata": {},
     "output_type": "execute_result"
    }
   ],
   "source": [
    "returns_np[:,0]"
   ]
  },
  {
   "cell_type": "code",
   "execution_count": 24,
   "id": "edb567fe",
   "metadata": {},
   "outputs": [
    {
     "name": "stdout",
     "output_type": "stream",
     "text": [
      "(2769, 4)\n",
      "(2769, 4)\n"
     ]
    }
   ],
   "source": [
    "result_array = np.empty_like(returns_np)\n",
    "print(np.shape(returns_np))\n",
    "print(np.shape(result_array))"
   ]
  },
  {
   "cell_type": "code",
   "execution_count": 26,
   "id": "06bab5c7",
   "metadata": {},
   "outputs": [
    {
     "name": "stdout",
     "output_type": "stream",
     "text": [
      "2769\n",
      "4\n"
     ]
    }
   ],
   "source": [
    "x,y = np.shape(result_array)\n",
    "print(x)\n",
    "print(y)"
   ]
  },
  {
   "cell_type": "code",
   "execution_count": 27,
   "id": "6fd8238d",
   "metadata": {},
   "outputs": [
    {
     "data": {
      "text/plain": [
       "array([[ 21.87164116,  35.22961807,   1.778     ,  16.17161942],\n",
       "       [ 21.74150658,  34.91106796,   1.78866696,  16.5129261 ],\n",
       "       [ 21.58398056,  34.33137894,   1.85866702,  16.7603054 ],\n",
       "       ...,\n",
       "       [ 56.82022095,  42.12561035, 362.06332397, 216.10876465],\n",
       "       [ 56.65635681,  41.85557556, 356.77999878, 215.81159973],\n",
       "       [ 57.0708313 ,  41.85557556, 352.26000977, 214.6625824 ]])"
      ]
     },
     "execution_count": 27,
     "metadata": {},
     "output_type": "execute_result"
    }
   ],
   "source": [
    "test = np.delete(returns_np, 0, 0)\n",
    "test"
   ]
  },
  {
   "cell_type": "code",
   "execution_count": 33,
   "id": "e0713a17",
   "metadata": {},
   "outputs": [],
   "source": [
    "def calc_percent(x):\n",
    "    result_array = np.empty_like(x)\n",
    "    result_array = np.delete(result_array, 0, 0)\n",
    "    \n",
    "    rows, col = np.shape(x)\n",
    "    \n",
    "    for i in range(col):\n",
    "        for j in range(rows-1):\n",
    "            increase = x[j+1,i]-x[j,i]\n",
    "            pct_change = (increase/x[j,i])\n",
    "            result_array[j,i] = pct_change\n",
    "    \n",
    "    return result_array"
   ]
  },
  {
   "cell_type": "code",
   "execution_count": 34,
   "id": "95821421",
   "metadata": {},
   "outputs": [
    {
     "name": "stdout",
     "output_type": "stream",
     "text": [
      "[[-0.02069924  0.0056649   0.00187808  0.00113414]\n",
      " [-0.00594992 -0.00904211  0.00599942  0.02110529]\n",
      " [-0.0072454  -0.01660473  0.03913532  0.01498095]\n",
      " ...\n",
      " [ 0.00118878 -0.00772374 -0.00209471  0.00055019]\n",
      " [-0.00288391 -0.00641023 -0.01459227 -0.00137507]\n",
      " [ 0.00731559  0.         -0.01266884 -0.00532417]]\n"
     ]
    }
   ],
   "source": [
    "print(calc_percent(returns_np))"
   ]
  },
  {
   "cell_type": "code",
   "execution_count": 35,
   "id": "6c1de5fe",
   "metadata": {
    "scrolled": false
   },
   "outputs": [
    {
     "data": {
      "text/html": [
       "<div>\n",
       "<style scoped>\n",
       "    .dataframe tbody tr th:only-of-type {\n",
       "        vertical-align: middle;\n",
       "    }\n",
       "\n",
       "    .dataframe tbody tr th {\n",
       "        vertical-align: top;\n",
       "    }\n",
       "\n",
       "    .dataframe thead th {\n",
       "        text-align: right;\n",
       "    }\n",
       "</style>\n",
       "<table border=\"1\" class=\"dataframe\">\n",
       "  <thead>\n",
       "    <tr style=\"text-align: right;\">\n",
       "      <th></th>\n",
       "      <th>KO</th>\n",
       "      <th>SHEL</th>\n",
       "      <th>TSLA</th>\n",
       "      <th>V</th>\n",
       "    </tr>\n",
       "    <tr>\n",
       "      <th>Date</th>\n",
       "      <th></th>\n",
       "      <th></th>\n",
       "      <th></th>\n",
       "      <th></th>\n",
       "    </tr>\n",
       "  </thead>\n",
       "  <tbody>\n",
       "    <tr>\n",
       "      <th>2011-01-04</th>\n",
       "      <td>-0.020699</td>\n",
       "      <td>0.005665</td>\n",
       "      <td>0.001878</td>\n",
       "      <td>0.001134</td>\n",
       "    </tr>\n",
       "    <tr>\n",
       "      <th>2011-01-05</th>\n",
       "      <td>-0.005950</td>\n",
       "      <td>-0.009042</td>\n",
       "      <td>0.005999</td>\n",
       "      <td>0.021105</td>\n",
       "    </tr>\n",
       "    <tr>\n",
       "      <th>2011-01-06</th>\n",
       "      <td>-0.007245</td>\n",
       "      <td>-0.016605</td>\n",
       "      <td>0.039135</td>\n",
       "      <td>0.014981</td>\n",
       "    </tr>\n",
       "    <tr>\n",
       "      <th>2011-01-07</th>\n",
       "      <td>-0.001745</td>\n",
       "      <td>0.000152</td>\n",
       "      <td>0.012912</td>\n",
       "      <td>-0.002870</td>\n",
       "    </tr>\n",
       "    <tr>\n",
       "      <th>2011-01-10</th>\n",
       "      <td>0.002225</td>\n",
       "      <td>0.012928</td>\n",
       "      <td>0.007436</td>\n",
       "      <td>-0.015762</td>\n",
       "    </tr>\n",
       "    <tr>\n",
       "      <th>...</th>\n",
       "      <td>...</td>\n",
       "      <td>...</td>\n",
       "      <td>...</td>\n",
       "      <td>...</td>\n",
       "    </tr>\n",
       "    <tr>\n",
       "      <th>2021-12-27</th>\n",
       "      <td>0.007386</td>\n",
       "      <td>0.011177</td>\n",
       "      <td>0.025248</td>\n",
       "      <td>0.004663</td>\n",
       "    </tr>\n",
       "    <tr>\n",
       "      <th>2021-12-28</th>\n",
       "      <td>0.003922</td>\n",
       "      <td>-0.006993</td>\n",
       "      <td>-0.005000</td>\n",
       "      <td>0.001930</td>\n",
       "    </tr>\n",
       "    <tr>\n",
       "      <th>2021-12-29</th>\n",
       "      <td>0.001189</td>\n",
       "      <td>-0.007724</td>\n",
       "      <td>-0.002095</td>\n",
       "      <td>0.000550</td>\n",
       "    </tr>\n",
       "    <tr>\n",
       "      <th>2021-12-30</th>\n",
       "      <td>-0.002884</td>\n",
       "      <td>-0.006410</td>\n",
       "      <td>-0.014592</td>\n",
       "      <td>-0.001375</td>\n",
       "    </tr>\n",
       "    <tr>\n",
       "      <th>2021-12-31</th>\n",
       "      <td>0.007316</td>\n",
       "      <td>0.000000</td>\n",
       "      <td>-0.012669</td>\n",
       "      <td>-0.005324</td>\n",
       "    </tr>\n",
       "  </tbody>\n",
       "</table>\n",
       "<p>2768 rows × 4 columns</p>\n",
       "</div>"
      ],
      "text/plain": [
       "                  KO      SHEL      TSLA         V\n",
       "Date                                              \n",
       "2011-01-04 -0.020699  0.005665  0.001878  0.001134\n",
       "2011-01-05 -0.005950 -0.009042  0.005999  0.021105\n",
       "2011-01-06 -0.007245 -0.016605  0.039135  0.014981\n",
       "2011-01-07 -0.001745  0.000152  0.012912 -0.002870\n",
       "2011-01-10  0.002225  0.012928  0.007436 -0.015762\n",
       "...              ...       ...       ...       ...\n",
       "2021-12-27  0.007386  0.011177  0.025248  0.004663\n",
       "2021-12-28  0.003922 -0.006993 -0.005000  0.001930\n",
       "2021-12-29  0.001189 -0.007724 -0.002095  0.000550\n",
       "2021-12-30 -0.002884 -0.006410 -0.014592 -0.001375\n",
       "2021-12-31  0.007316  0.000000 -0.012669 -0.005324\n",
       "\n",
       "[2768 rows x 4 columns]"
      ]
     },
     "execution_count": 35,
     "metadata": {},
     "output_type": "execute_result"
    }
   ],
   "source": [
    "returns_pct = returns.pct_change()\n",
    "returns_pct = returns_pct[1:]\n",
    "returns_pct_np = returns_pct.to_numpy()\n",
    "returns_pct"
   ]
  },
  {
   "cell_type": "code",
   "execution_count": 39,
   "id": "b2393522",
   "metadata": {},
   "outputs": [
    {
     "data": {
      "text/plain": [
       "True"
      ]
     },
     "execution_count": 39,
     "metadata": {},
     "output_type": "execute_result"
    }
   ],
   "source": [
    "np.allclose(calc_percent(returns_np),returns_pct_np)"
   ]
  },
  {
   "cell_type": "code",
   "execution_count": 43,
   "id": "ba382bce",
   "metadata": {},
   "outputs": [
    {
     "data": {
      "text/plain": [
       "array([[ 24.65257645,  40.02629471,   1.90400004,  23.44156837],\n",
       "       [ 26.26179123,  39.66259003,   2.2579999 ,  35.27181625],\n",
       "       [ 30.78748322,  43.24723816,  10.02866745,  52.2221756 ],\n",
       "       [ 32.4087944 ,  42.70018768,  14.82733345,  61.95419312],\n",
       "       [ 34.07455826,  31.11959267,  16.00066757,  73.81059265],\n",
       "       [ 33.95288086,  39.91386032,  14.24600029,  74.82268524],\n",
       "       [ 38.83600616,  52.29631424,  20.75666618, 110.12142944],\n",
       "       [ 41.4665451 ,  48.36716461,  22.18666649, 128.277771  ],\n",
       "       [ 50.00843048,  52.09553909,  27.88866615, 183.85671997],\n",
       "       [ 51.24320221,  32.59135056, 235.22332764, 215.34074402],\n",
       "       [ 57.0708313 ,  41.85557556, 352.26000977, 214.6625824 ]])"
      ]
     },
     "execution_count": 43,
     "metadata": {},
     "output_type": "execute_result"
    }
   ],
   "source": [
    "returns_ffill_np = returns_ffill.to_numpy()\n",
    "returns_ffill_np"
   ]
  },
  {
   "cell_type": "code",
   "execution_count": 46,
   "id": "06bcc990",
   "metadata": {},
   "outputs": [],
   "source": [
    "returns_ffill_pct = returns_ffill.pct_change()\n",
    "#display(returns_ffill_pct)\n",
    "returns_ffill_pct = returns_ffill_pct[1:]\n",
    "#returns_ffill_pct"
   ]
  },
  {
   "cell_type": "code",
   "execution_count": 47,
   "id": "3fc1033e",
   "metadata": {},
   "outputs": [
    {
     "data": {
      "text/plain": [
       "True"
      ]
     },
     "execution_count": 47,
     "metadata": {},
     "output_type": "execute_result"
    }
   ],
   "source": [
    "np.allclose(calc_percent(returns_ffill_np),returns_ffill_pct.to_numpy())"
   ]
  },
  {
   "cell_type": "markdown",
   "id": "9e4cfdcd",
   "metadata": {},
   "source": [
    "### Middelværdi formel"
   ]
  },
  {
   "attachments": {
    "image.png": {
     "image/png": "[encoded data removed]"
    }
   },
   "cell_type": "markdown",
   "id": "aaf1067a",
   "metadata": {},
   "source": [
    "![image.png](attachment:image.png)"
   ]
  },
  {
   "cell_type": "code",
   "execution_count": 3,
   "id": "1be2ea51",
   "metadata": {},
   "outputs": [
    {
     "data": {
      "text/html": [
       "<div>\n",
       "<style scoped>\n",
       "    .dataframe tbody tr th:only-of-type {\n",
       "        vertical-align: middle;\n",
       "    }\n",
       "\n",
       "    .dataframe tbody tr th {\n",
       "        vertical-align: top;\n",
       "    }\n",
       "\n",
       "    .dataframe thead th {\n",
       "        text-align: right;\n",
       "    }\n",
       "</style>\n",
       "<table border=\"1\" class=\"dataframe\">\n",
       "  <thead>\n",
       "    <tr style=\"text-align: right;\">\n",
       "      <th></th>\n",
       "      <th>KO</th>\n",
       "      <th>SHEL</th>\n",
       "      <th>TSLA</th>\n",
       "      <th>V</th>\n",
       "    </tr>\n",
       "    <tr>\n",
       "      <th>Date</th>\n",
       "      <th></th>\n",
       "      <th></th>\n",
       "      <th></th>\n",
       "      <th></th>\n",
       "    </tr>\n",
       "  </thead>\n",
       "  <tbody>\n",
       "    <tr>\n",
       "      <th>2011-12-31 00:00:00-05:00</th>\n",
       "      <td>NaN</td>\n",
       "      <td>NaN</td>\n",
       "      <td>NaN</td>\n",
       "      <td>NaN</td>\n",
       "    </tr>\n",
       "    <tr>\n",
       "      <th>2012-12-31 00:00:00-05:00</th>\n",
       "      <td>0.065276</td>\n",
       "      <td>-0.009087</td>\n",
       "      <td>0.185924</td>\n",
       "      <td>0.504669</td>\n",
       "    </tr>\n",
       "    <tr>\n",
       "      <th>2013-12-31 00:00:00-05:00</th>\n",
       "      <td>0.172331</td>\n",
       "      <td>0.090379</td>\n",
       "      <td>3.441394</td>\n",
       "      <td>0.480564</td>\n",
       "    </tr>\n",
       "    <tr>\n",
       "      <th>2014-12-31 00:00:00-05:00</th>\n",
       "      <td>0.052661</td>\n",
       "      <td>-0.012650</td>\n",
       "      <td>0.478495</td>\n",
       "      <td>0.186358</td>\n",
       "    </tr>\n",
       "    <tr>\n",
       "      <th>2015-12-31 00:00:00-05:00</th>\n",
       "      <td>0.051399</td>\n",
       "      <td>-0.271207</td>\n",
       "      <td>0.079133</td>\n",
       "      <td>0.191374</td>\n",
       "    </tr>\n",
       "    <tr>\n",
       "      <th>2016-12-31 00:00:00-05:00</th>\n",
       "      <td>-0.003571</td>\n",
       "      <td>0.282596</td>\n",
       "      <td>-0.109662</td>\n",
       "      <td>0.013712</td>\n",
       "    </tr>\n",
       "    <tr>\n",
       "      <th>2017-12-31 00:00:00-05:00</th>\n",
       "      <td>0.143821</td>\n",
       "      <td>0.310230</td>\n",
       "      <td>0.457017</td>\n",
       "      <td>0.471765</td>\n",
       "    </tr>\n",
       "    <tr>\n",
       "      <th>2018-12-31 00:00:00-05:00</th>\n",
       "      <td>0.067735</td>\n",
       "      <td>-0.075133</td>\n",
       "      <td>0.068894</td>\n",
       "      <td>0.164876</td>\n",
       "    </tr>\n",
       "    <tr>\n",
       "      <th>2019-12-31 00:00:00-05:00</th>\n",
       "      <td>0.205994</td>\n",
       "      <td>0.077085</td>\n",
       "      <td>0.257001</td>\n",
       "      <td>0.433270</td>\n",
       "    </tr>\n",
       "    <tr>\n",
       "      <th>2020-12-31 00:00:00-05:00</th>\n",
       "      <td>0.024691</td>\n",
       "      <td>-0.374393</td>\n",
       "      <td>7.434370</td>\n",
       "      <td>0.171242</td>\n",
       "    </tr>\n",
       "    <tr>\n",
       "      <th>2021-12-31 00:00:00-05:00</th>\n",
       "      <td>0.113725</td>\n",
       "      <td>0.284254</td>\n",
       "      <td>0.497556</td>\n",
       "      <td>-0.003149</td>\n",
       "    </tr>\n",
       "    <tr>\n",
       "      <th>2022-12-31 00:00:00-05:00</th>\n",
       "      <td>0.030400</td>\n",
       "      <td>0.184332</td>\n",
       "      <td>-0.113609</td>\n",
       "      <td>0.043653</td>\n",
       "    </tr>\n",
       "  </tbody>\n",
       "</table>\n",
       "</div>"
      ],
      "text/plain": [
       "                                 KO      SHEL      TSLA         V\n",
       "Date                                                             \n",
       "2011-12-31 00:00:00-05:00       NaN       NaN       NaN       NaN\n",
       "2012-12-31 00:00:00-05:00  0.065276 -0.009087  0.185924  0.504669\n",
       "2013-12-31 00:00:00-05:00  0.172331  0.090379  3.441394  0.480564\n",
       "2014-12-31 00:00:00-05:00  0.052661 -0.012650  0.478495  0.186358\n",
       "2015-12-31 00:00:00-05:00  0.051399 -0.271207  0.079133  0.191374\n",
       "2016-12-31 00:00:00-05:00 -0.003571  0.282596 -0.109662  0.013712\n",
       "2017-12-31 00:00:00-05:00  0.143821  0.310230  0.457017  0.471765\n",
       "2018-12-31 00:00:00-05:00  0.067735 -0.075133  0.068894  0.164876\n",
       "2019-12-31 00:00:00-05:00  0.205994  0.077085  0.257001  0.433270\n",
       "2020-12-31 00:00:00-05:00  0.024691 -0.374393  7.434370  0.171242\n",
       "2021-12-31 00:00:00-05:00  0.113725  0.284254  0.497556 -0.003149\n",
       "2022-12-31 00:00:00-05:00  0.030400  0.184332 -0.113609  0.043653"
      ]
     },
     "execution_count": 3,
     "metadata": {},
     "output_type": "execute_result"
    }
   ],
   "source": [
    "returns = indexes['Adj Close'].resample('y').ffill().pct_change()\n",
    "returns"
   ]
  },
  {
   "cell_type": "code",
   "execution_count": 4,
   "id": "6e00cdec",
   "metadata": {},
   "outputs": [
    {
     "data": {
      "text/html": [
       "<div>\n",
       "<style scoped>\n",
       "    .dataframe tbody tr th:only-of-type {\n",
       "        vertical-align: middle;\n",
       "    }\n",
       "\n",
       "    .dataframe tbody tr th {\n",
       "        vertical-align: top;\n",
       "    }\n",
       "\n",
       "    .dataframe thead th {\n",
       "        text-align: right;\n",
       "    }\n",
       "</style>\n",
       "<table border=\"1\" class=\"dataframe\">\n",
       "  <thead>\n",
       "    <tr style=\"text-align: right;\">\n",
       "      <th></th>\n",
       "      <th>KO</th>\n",
       "      <th>SHEL</th>\n",
       "      <th>TSLA</th>\n",
       "      <th>V</th>\n",
       "    </tr>\n",
       "    <tr>\n",
       "      <th>Date</th>\n",
       "      <th></th>\n",
       "      <th></th>\n",
       "      <th></th>\n",
       "      <th></th>\n",
       "    </tr>\n",
       "  </thead>\n",
       "  <tbody>\n",
       "    <tr>\n",
       "      <th>2012-12-31 00:00:00-05:00</th>\n",
       "      <td>0.065276</td>\n",
       "      <td>-0.009087</td>\n",
       "      <td>0.185924</td>\n",
       "      <td>0.504669</td>\n",
       "    </tr>\n",
       "    <tr>\n",
       "      <th>2013-12-31 00:00:00-05:00</th>\n",
       "      <td>0.172331</td>\n",
       "      <td>0.090379</td>\n",
       "      <td>3.441394</td>\n",
       "      <td>0.480564</td>\n",
       "    </tr>\n",
       "    <tr>\n",
       "      <th>2014-12-31 00:00:00-05:00</th>\n",
       "      <td>0.052661</td>\n",
       "      <td>-0.012650</td>\n",
       "      <td>0.478495</td>\n",
       "      <td>0.186358</td>\n",
       "    </tr>\n",
       "    <tr>\n",
       "      <th>2015-12-31 00:00:00-05:00</th>\n",
       "      <td>0.051399</td>\n",
       "      <td>-0.271207</td>\n",
       "      <td>0.079133</td>\n",
       "      <td>0.191374</td>\n",
       "    </tr>\n",
       "    <tr>\n",
       "      <th>2016-12-31 00:00:00-05:00</th>\n",
       "      <td>-0.003571</td>\n",
       "      <td>0.282596</td>\n",
       "      <td>-0.109662</td>\n",
       "      <td>0.013712</td>\n",
       "    </tr>\n",
       "    <tr>\n",
       "      <th>2017-12-31 00:00:00-05:00</th>\n",
       "      <td>0.143821</td>\n",
       "      <td>0.310230</td>\n",
       "      <td>0.457017</td>\n",
       "      <td>0.471765</td>\n",
       "    </tr>\n",
       "    <tr>\n",
       "      <th>2018-12-31 00:00:00-05:00</th>\n",
       "      <td>0.067735</td>\n",
       "      <td>-0.075133</td>\n",
       "      <td>0.068894</td>\n",
       "      <td>0.164876</td>\n",
       "    </tr>\n",
       "    <tr>\n",
       "      <th>2019-12-31 00:00:00-05:00</th>\n",
       "      <td>0.205994</td>\n",
       "      <td>0.077085</td>\n",
       "      <td>0.257001</td>\n",
       "      <td>0.433270</td>\n",
       "    </tr>\n",
       "    <tr>\n",
       "      <th>2020-12-31 00:00:00-05:00</th>\n",
       "      <td>0.024691</td>\n",
       "      <td>-0.374393</td>\n",
       "      <td>7.434370</td>\n",
       "      <td>0.171242</td>\n",
       "    </tr>\n",
       "    <tr>\n",
       "      <th>2021-12-31 00:00:00-05:00</th>\n",
       "      <td>0.113725</td>\n",
       "      <td>0.284254</td>\n",
       "      <td>0.497556</td>\n",
       "      <td>-0.003149</td>\n",
       "    </tr>\n",
       "    <tr>\n",
       "      <th>2022-12-31 00:00:00-05:00</th>\n",
       "      <td>0.030400</td>\n",
       "      <td>0.184332</td>\n",
       "      <td>-0.113609</td>\n",
       "      <td>0.043653</td>\n",
       "    </tr>\n",
       "  </tbody>\n",
       "</table>\n",
       "</div>"
      ],
      "text/plain": [
       "                                 KO      SHEL      TSLA         V\n",
       "Date                                                             \n",
       "2012-12-31 00:00:00-05:00  0.065276 -0.009087  0.185924  0.504669\n",
       "2013-12-31 00:00:00-05:00  0.172331  0.090379  3.441394  0.480564\n",
       "2014-12-31 00:00:00-05:00  0.052661 -0.012650  0.478495  0.186358\n",
       "2015-12-31 00:00:00-05:00  0.051399 -0.271207  0.079133  0.191374\n",
       "2016-12-31 00:00:00-05:00 -0.003571  0.282596 -0.109662  0.013712\n",
       "2017-12-31 00:00:00-05:00  0.143821  0.310230  0.457017  0.471765\n",
       "2018-12-31 00:00:00-05:00  0.067735 -0.075133  0.068894  0.164876\n",
       "2019-12-31 00:00:00-05:00  0.205994  0.077085  0.257001  0.433270\n",
       "2020-12-31 00:00:00-05:00  0.024691 -0.374393  7.434370  0.171242\n",
       "2021-12-31 00:00:00-05:00  0.113725  0.284254  0.497556 -0.003149\n",
       "2022-12-31 00:00:00-05:00  0.030400  0.184332 -0.113609  0.043653"
      ]
     },
     "execution_count": 4,
     "metadata": {},
     "output_type": "execute_result"
    }
   ],
   "source": [
    "returns = returns[1:]\n",
    "returns"
   ]
  },
  {
   "cell_type": "markdown",
   "id": "6f89c709",
   "metadata": {},
   "source": [
    "### Test af numpy cov() og mean() Middelværdi"
   ]
  },
  {
   "cell_type": "code",
   "execution_count": 5,
   "id": "b5e17fb0",
   "metadata": {},
   "outputs": [
    {
     "data": {
      "text/html": [
       "<div>\n",
       "<style scoped>\n",
       "    .dataframe tbody tr th:only-of-type {\n",
       "        vertical-align: middle;\n",
       "    }\n",
       "\n",
       "    .dataframe tbody tr th {\n",
       "        vertical-align: top;\n",
       "    }\n",
       "\n",
       "    .dataframe thead th {\n",
       "        text-align: right;\n",
       "    }\n",
       "</style>\n",
       "<table border=\"1\" class=\"dataframe\">\n",
       "  <thead>\n",
       "    <tr style=\"text-align: right;\">\n",
       "      <th></th>\n",
       "      <th>KO</th>\n",
       "      <th>SHEL</th>\n",
       "      <th>TSLA</th>\n",
       "      <th>V</th>\n",
       "    </tr>\n",
       "    <tr>\n",
       "      <th>Date</th>\n",
       "      <th></th>\n",
       "      <th></th>\n",
       "      <th></th>\n",
       "      <th></th>\n",
       "    </tr>\n",
       "  </thead>\n",
       "  <tbody>\n",
       "    <tr>\n",
       "      <th>2012-12-31 00:00:00-05:00</th>\n",
       "      <td>0.065276</td>\n",
       "      <td>-0.009087</td>\n",
       "      <td>0.185924</td>\n",
       "      <td>0.504669</td>\n",
       "    </tr>\n",
       "    <tr>\n",
       "      <th>2013-12-31 00:00:00-05:00</th>\n",
       "      <td>0.172331</td>\n",
       "      <td>0.090379</td>\n",
       "      <td>3.441394</td>\n",
       "      <td>0.480564</td>\n",
       "    </tr>\n",
       "    <tr>\n",
       "      <th>2014-12-31 00:00:00-05:00</th>\n",
       "      <td>0.052661</td>\n",
       "      <td>-0.012650</td>\n",
       "      <td>0.478495</td>\n",
       "      <td>0.186358</td>\n",
       "    </tr>\n",
       "    <tr>\n",
       "      <th>2015-12-31 00:00:00-05:00</th>\n",
       "      <td>0.051399</td>\n",
       "      <td>-0.271207</td>\n",
       "      <td>0.079133</td>\n",
       "      <td>0.191374</td>\n",
       "    </tr>\n",
       "    <tr>\n",
       "      <th>2016-12-31 00:00:00-05:00</th>\n",
       "      <td>-0.003571</td>\n",
       "      <td>0.282596</td>\n",
       "      <td>-0.109662</td>\n",
       "      <td>0.013712</td>\n",
       "    </tr>\n",
       "    <tr>\n",
       "      <th>2017-12-31 00:00:00-05:00</th>\n",
       "      <td>0.143821</td>\n",
       "      <td>0.310230</td>\n",
       "      <td>0.457017</td>\n",
       "      <td>0.471765</td>\n",
       "    </tr>\n",
       "    <tr>\n",
       "      <th>2018-12-31 00:00:00-05:00</th>\n",
       "      <td>0.067735</td>\n",
       "      <td>-0.075133</td>\n",
       "      <td>0.068894</td>\n",
       "      <td>0.164876</td>\n",
       "    </tr>\n",
       "    <tr>\n",
       "      <th>2019-12-31 00:00:00-05:00</th>\n",
       "      <td>0.205994</td>\n",
       "      <td>0.077085</td>\n",
       "      <td>0.257001</td>\n",
       "      <td>0.433270</td>\n",
       "    </tr>\n",
       "    <tr>\n",
       "      <th>2020-12-31 00:00:00-05:00</th>\n",
       "      <td>0.024691</td>\n",
       "      <td>-0.374393</td>\n",
       "      <td>7.434370</td>\n",
       "      <td>0.171242</td>\n",
       "    </tr>\n",
       "    <tr>\n",
       "      <th>2021-12-31 00:00:00-05:00</th>\n",
       "      <td>0.113725</td>\n",
       "      <td>0.284254</td>\n",
       "      <td>0.497556</td>\n",
       "      <td>-0.003149</td>\n",
       "    </tr>\n",
       "    <tr>\n",
       "      <th>2022-12-31 00:00:00-05:00</th>\n",
       "      <td>0.030400</td>\n",
       "      <td>0.184332</td>\n",
       "      <td>-0.113609</td>\n",
       "      <td>0.043653</td>\n",
       "    </tr>\n",
       "  </tbody>\n",
       "</table>\n",
       "</div>"
      ],
      "text/plain": [
       "                                 KO      SHEL      TSLA         V\n",
       "Date                                                             \n",
       "2012-12-31 00:00:00-05:00  0.065276 -0.009087  0.185924  0.504669\n",
       "2013-12-31 00:00:00-05:00  0.172331  0.090379  3.441394  0.480564\n",
       "2014-12-31 00:00:00-05:00  0.052661 -0.012650  0.478495  0.186358\n",
       "2015-12-31 00:00:00-05:00  0.051399 -0.271207  0.079133  0.191374\n",
       "2016-12-31 00:00:00-05:00 -0.003571  0.282596 -0.109662  0.013712\n",
       "2017-12-31 00:00:00-05:00  0.143821  0.310230  0.457017  0.471765\n",
       "2018-12-31 00:00:00-05:00  0.067735 -0.075133  0.068894  0.164876\n",
       "2019-12-31 00:00:00-05:00  0.205994  0.077085  0.257001  0.433270\n",
       "2020-12-31 00:00:00-05:00  0.024691 -0.374393  7.434370  0.171242\n",
       "2021-12-31 00:00:00-05:00  0.113725  0.284254  0.497556 -0.003149\n",
       "2022-12-31 00:00:00-05:00  0.030400  0.184332 -0.113609  0.043653"
      ]
     },
     "execution_count": 5,
     "metadata": {},
     "output_type": "execute_result"
    }
   ],
   "source": [
    "returns = indexes['Adj Close'].resample('y').ffill().pct_change()\n",
    "returns = returns[1:]\n",
    "returns"
   ]
  },
  {
   "cell_type": "code",
   "execution_count": 6,
   "id": "7ebf92f8",
   "metadata": {},
   "outputs": [
    {
     "data": {
      "text/plain": [
       "KO      0.084042\n",
       "SHEL    0.044219\n",
       "TSLA    1.152410\n",
       "V       0.241667\n",
       "dtype: float64"
      ]
     },
     "execution_count": 6,
     "metadata": {},
     "output_type": "execute_result"
    }
   ],
   "source": [
    "returns.mean()"
   ]
  },
  {
   "cell_type": "code",
   "execution_count": 7,
   "id": "3be1b02b",
   "metadata": {},
   "outputs": [
    {
     "data": {
      "text/plain": [
       "array([[ 6.52756520e-02, -9.08664550e-03,  1.85924288e-01,\n",
       "         5.04669355e-01],\n",
       "       [ 1.72330511e-01,  9.03788750e-02,  3.44139411e+00,\n",
       "         4.80563997e-01],\n",
       "       [ 5.26608594e-02, -1.26496372e-02,  4.78494877e-01,\n",
       "         1.86357803e-01],\n",
       "       [ 5.13985195e-02, -2.71207260e-01,  7.91331850e-02,\n",
       "         1.91373911e-01],\n",
       "       [-3.57125265e-03,  2.82596074e-01, -1.09662130e-01,\n",
       "         1.37121256e-02],\n",
       "       [ 1.43821049e-01,  3.10229579e-01,  4.57017111e-01,\n",
       "         4.71764867e-01],\n",
       "       [ 6.77348395e-02, -7.51325172e-02,  6.88935445e-02,\n",
       "         1.64876001e-01],\n",
       "       [ 2.05994402e-01,  7.70849173e-02,  2.57001189e-01,\n",
       "         4.33269964e-01],\n",
       "       [ 2.46913477e-02, -3.74392635e-01,  7.43436995e+00,\n",
       "         1.71242089e-01],\n",
       "       [ 1.13724689e-01,  2.84254100e-01,  4.97555592e-01,\n",
       "        -3.14924922e-03],\n",
       "       [ 3.04002988e-02,  1.84331785e-01, -1.13609318e-01,\n",
       "         4.36528646e-02]])"
      ]
     },
     "execution_count": 7,
     "metadata": {},
     "output_type": "execute_result"
    }
   ],
   "source": [
    "np_returns = returns.to_numpy()\n",
    "np_returns"
   ]
  },
  {
   "cell_type": "code",
   "execution_count": 8,
   "id": "2d90fdd2",
   "metadata": {},
   "outputs": [
    {
     "data": {
      "text/plain": [
       "0.17233051099810148"
      ]
     },
     "execution_count": 8,
     "metadata": {},
     "output_type": "execute_result"
    }
   ],
   "source": [
    "np_returns[1,0]"
   ]
  },
  {
   "cell_type": "code",
   "execution_count": 9,
   "id": "8019cf25",
   "metadata": {},
   "outputs": [
    {
     "name": "stdout",
     "output_type": "stream",
     "text": [
      "11\n",
      "4\n"
     ]
    }
   ],
   "source": [
    "a,b = np.shape(np_returns)\n",
    "print(a)\n",
    "print(b)"
   ]
  },
  {
   "cell_type": "code",
   "execution_count": 10,
   "id": "771972c3",
   "metadata": {},
   "outputs": [
    {
     "data": {
      "text/plain": [
       "array([[0., 0., 0., 0.]])"
      ]
     },
     "execution_count": 10,
     "metadata": {},
     "output_type": "execute_result"
    }
   ],
   "source": [
    "test = np.zeros((1,4))\n",
    "test"
   ]
  },
  {
   "cell_type": "code",
   "execution_count": 11,
   "id": "459c3d69",
   "metadata": {},
   "outputs": [
    {
     "data": {
      "text/plain": [
       "0.0"
      ]
     },
     "execution_count": 11,
     "metadata": {},
     "output_type": "execute_result"
    }
   ],
   "source": [
    "test[0,1]"
   ]
  },
  {
   "cell_type": "code",
   "execution_count": 12,
   "id": "b3793be0",
   "metadata": {},
   "outputs": [],
   "source": [
    "def mean_value(x):\n",
    "    \"\"\" Takes a dataframe x as input, assuming columns are indexes and rows are values\n",
    "    Returns a columns vector of mean values for each index\n",
    "    \"\"\"\n",
    "    rows, columns = np.shape(x)\n",
    "    mean_matrix = np.zeros(columns)\n",
    "    \n",
    "    x = x.to_numpy()\n",
    "    for i in range(columns):\n",
    "        result = 0\n",
    "        for j in range(rows):\n",
    "            result += x[j,i]\n",
    "        result = result*(1/rows)\n",
    "        \n",
    "        mean_matrix[i] = result\n",
    "    \n",
    "    return mean_matrix"
   ]
  },
  {
   "cell_type": "code",
   "execution_count": 13,
   "id": "4922e847",
   "metadata": {},
   "outputs": [
    {
     "data": {
      "text/plain": [
       "array([0.0840419 , 0.04421879, 1.15241022, 0.2416667 ])"
      ]
     },
     "execution_count": 13,
     "metadata": {},
     "output_type": "execute_result"
    }
   ],
   "source": [
    "mean_value(returns)"
   ]
  },
  {
   "cell_type": "code",
   "execution_count": 14,
   "id": "88cac3bb",
   "metadata": {},
   "outputs": [
    {
     "data": {
      "text/plain": [
       "KO      0.084042\n",
       "SHEL    0.044219\n",
       "TSLA    1.152410\n",
       "V       0.241667\n",
       "dtype: float64"
      ]
     },
     "execution_count": 14,
     "metadata": {},
     "output_type": "execute_result"
    }
   ],
   "source": [
    "returns.mean()"
   ]
  },
  {
   "cell_type": "code",
   "execution_count": 15,
   "id": "7e3bd9a6",
   "metadata": {},
   "outputs": [
    {
     "data": {
      "text/plain": [
       "array([0.0840419 , 0.04421879, 1.15241022, 0.2416667 ])"
      ]
     },
     "execution_count": 15,
     "metadata": {},
     "output_type": "execute_result"
    }
   ],
   "source": [
    "test1 = returns.mean().to_numpy()\n",
    "test1"
   ]
  },
  {
   "cell_type": "code",
   "execution_count": 16,
   "id": "eef02a47",
   "metadata": {},
   "outputs": [
    {
     "data": {
      "text/plain": [
       "array([0.0840419 , 0.04421879, 1.15241022, 0.2416667 ])"
      ]
     },
     "execution_count": 16,
     "metadata": {},
     "output_type": "execute_result"
    }
   ],
   "source": [
    "test2 = mean_value(returns)\n",
    "test2"
   ]
  },
  {
   "cell_type": "code",
   "execution_count": 17,
   "id": "412c1837",
   "metadata": {},
   "outputs": [
    {
     "name": "stdout",
     "output_type": "stream",
     "text": [
      "True\n",
      "True\n",
      "True\n",
      "True\n"
     ]
    }
   ],
   "source": [
    "for i in range(len(test1)):\n",
    "    print(math.isclose(test1[i], test2[i]))"
   ]
  },
  {
   "cell_type": "markdown",
   "id": "3f2d62c9",
   "metadata": {},
   "source": [
    "#### Covariance matrix"
   ]
  },
  {
   "attachments": {
    "image.png": {
     "image/png": "[encoded data removed]"
    }
   },
   "cell_type": "markdown",
   "id": "fc04a2d0",
   "metadata": {},
   "source": [
    "![image.png](attachment:image.png)"
   ]
  },
  {
   "cell_type": "code",
   "execution_count": 18,
   "id": "6641beb4",
   "metadata": {},
   "outputs": [],
   "source": [
    "def cov_matrix(stock_prices):\n",
    "    \"\"\"Takes an numpy array of prices as input then calculates the covariance matrix between the columns\n",
    "       Returns a covariance matrix between the columns\n",
    "    \"\"\"\n",
    "    \n",
    "    # Calculate the mean of each stock\n",
    "    means = np.mean(stock_prices, axis=0)\n",
    "    \n",
    "    # Center the data by subtracting the mean from each data point\n",
    "    centered_data = stock_prices - means\n",
    "    \n",
    "    # Calculate the covariance matrix\n",
    "    covariance_matrix = np.dot(centered_data.T, centered_data) / (centered_data.shape[0] - 1)\n",
    "    \n",
    "    return covariance_matrix"
   ]
  },
  {
   "cell_type": "code",
   "execution_count": 19,
   "id": "feb7b401",
   "metadata": {},
   "outputs": [],
   "source": [
    "manualcov = cov_matrix(returns.to_numpy())"
   ]
  },
  {
   "cell_type": "code",
   "execution_count": 20,
   "id": "51debe08",
   "metadata": {},
   "outputs": [],
   "source": [
    "pdcov = returns.cov()"
   ]
  },
  {
   "cell_type": "code",
   "execution_count": 21,
   "id": "d60ec497",
   "metadata": {
    "scrolled": true
   },
   "outputs": [
    {
     "data": {
      "text/plain": [
       "True"
      ]
     },
     "execution_count": 21,
     "metadata": {},
     "output_type": "execute_result"
    }
   ],
   "source": [
    "np.allclose(manualcov,pdcov)"
   ]
  }
 ],
 "metadata": {
  "kernelspec": {
   "display_name": "Python 3 (ipykernel)",
   "language": "python",
   "name": "python3"
  },
  "language_info": {
   "codemirror_mode": {
    "name": "ipython",
    "version": 3
   },
   "file_extension": ".py",
   "mimetype": "text/x-python",
   "name": "python",
   "nbconvert_exporter": "python",
   "pygments_lexer": "ipython3",
   "version": "3.8.5"
  }
 },
 "nbformat": 4,
 "nbformat_minor": 5
}
