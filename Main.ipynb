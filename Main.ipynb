{
 "cells": [
  {
   "cell_type": "markdown",
   "id": "378fb201",
   "metadata": {},
   "source": [
    "### Import data"
   ]
  },
  {
   "cell_type": "code",
   "execution_count": 1,
   "id": "1042a7d1",
   "metadata": {},
   "outputs": [],
   "source": [
    "from pandas_datareader import data as pdr\n",
    "import yfinance as yf\n",
    "import pandas as pd\n",
    "import numpy as np\n",
    "import pickle\n",
    "import os.path\n",
    "import matplotlib.pyplot as plt\n",
    "import cvxpy as cp\n",
    "from scipy.optimize import minimize\n",
    "from DATA import get_filtered_stock_data as gfs\n",
    "from DATA import read_data\n",
    "from DATA import delete_pickle_file\n",
    "from Effient_Frontier import get_cov_mean_matrices\n",
    "from Effient_Frontier import efficient_frontier \n",
    "from Rank_stocks import rank_stocks\n",
    "from Effient_Frontier import ESG_efficient_frontier\n",
    "from Effient_Frontier import ESG_efficient_frontier_gw\n",
    "from backtest import backtest"
   ]
  },
  {
   "cell_type": "code",
   "execution_count": 2,
   "id": "fa576ecf",
   "metadata": {},
   "outputs": [],
   "source": [
    "#delete_pickle_file('ESG_US.csv.pickle')"
   ]
  },
  {
   "cell_type": "code",
   "execution_count": 2,
   "id": "a5cbd4d0",
   "metadata": {},
   "outputs": [],
   "source": [
    "#stock_data = None\n",
    "file_path = \"ESG_US.csv\"\n",
    "esg = read_data(file_path)\n",
    "column_name = 'environment_score'\n",
    "column_value = 'High'\n",
    "threshold = 0\n",
    "num = 10\n",
    "lower_bound = 0.00\n",
    "operator = 'geq'\n",
    "prefixes= ['US']\n",
    "start_date = '2000-01-01'\n",
    "end_date = '2020-01-01'"
   ]
  },
  {
   "cell_type": "code",
   "execution_count": 3,
   "id": "39e05cbb",
   "metadata": {
    "scrolled": false
   },
   "outputs": [],
   "source": [
    "returns = gfs(file_path, column_name, column_value, prefixes, start_date, end_date, time='y', threshold=threshold, operator=operator)"
   ]
  },
  {
   "cell_type": "code",
   "execution_count": 4,
   "id": "61f2def6",
   "metadata": {},
   "outputs": [],
   "source": [
    "mu = get_cov_mean_matrices(returns)[1]\n",
    "cov = get_cov_mean_matrices(returns)[2]\n",
    "esg = read_data(file_path)\n",
    "target = np.linspace(np.min(mu), np.max(mu), 100)\n",
    "rf = 0.00\n",
    "bounds = [(0, 1) for _ in range(len(mu))]\n",
    "score = 'environment_score'\n",
    "window = 5"
   ]
  },
  {
   "cell_type": "code",
   "execution_count": 6,
   "id": "2c5c0be4",
   "metadata": {
    "scrolled": true
   },
   "outputs": [],
   "source": [
    "#eff = efficient_frontier(mu, cov, target, rf, bounds, esg, returns, score)"
   ]
  },
  {
   "cell_type": "code",
   "execution_count": 5,
   "id": "93b37eaf",
   "metadata": {},
   "outputs": [
    {
     "name": "stdout",
     "output_type": "stream",
     "text": [
      "Optimization terminated successfully    (Exit mode 0)\n",
      "            Current function value: -3.612221139906543\n",
      "            Iterations: 14\n",
      "            Function evaluations: 165\n",
      "            Gradient evaluations: 14\n"
     ]
    },
    {
     "data": {
      "image/png": "[encoded data removed]",
      "text/plain": [
       "<Figure size 432x288 with 1 Axes>"
      ]
     },
     "metadata": {
      "needs_background": "light"
     },
     "output_type": "display_data"
    }
   ],
   "source": [
    "#Get the mean return of the stocks and the covariance matrix\n",
    "mean = get_cov_mean_matrices(rank_stocks(returns,num,rf))[1]\n",
    "cov = get_cov_mean_matrices(rank_stocks(returns,num,rf))[2]\n",
    "        \n",
    "#Set the target, used for the efficient frontier module \n",
    "target = np.linspace(np.min(mean), np.max(mean), 100)\n",
    "        \n",
    "#Create the bounds\n",
    "bounds = [(0, 1) for _ in range(len(mean))]\n",
    "        \n",
    "#Alot of computation here is unessecary for the backtest. \n",
    "max_sharpe_ret, max_sharpe_vol, max_sharpe_sr, portfolio_esg, frontier, mu, stdevs , w_opt  = efficient_frontier(mean, cov, target, rf, bounds, esg, rank_stocks(returns,num,rf), score,lower_bound)\n",
    "\n",
    "\n",
    "plt.plot(frontier[:,1], frontier[:,0], label='Efficient Frontier')\n",
    "plt.plot(stdevs, mu, '*', color='orange')\n",
    "plt.xlabel('Volatility')\n",
    "plt.ylabel('Expected Return')\n",
    "plt.legend()\n",
    "\n",
    "# Plot a red dot at the portfolio with the highest Sharpe ratio\n",
    "plt.scatter(max_sharpe_vol, max_sharpe_ret, marker='o', color='g', s=50, label='Max Sharpe Ratio')\n",
    "plt.show()"
   ]
  },
  {
   "cell_type": "code",
   "execution_count": 6,
   "id": "47762b96",
   "metadata": {},
   "outputs": [
    {
     "data": {
      "text/plain": [
       "array([0.24719509, 0.20243107, 0.09868426, 0.15986424, 0.06089477,\n",
       "       0.11148738, 0.        , 0.01158909, 0.00642982, 0.10142428])"
      ]
     },
     "execution_count": 6,
     "metadata": {},
     "output_type": "execute_result"
    }
   ],
   "source": [
    "w_opt"
   ]
  },
  {
   "cell_type": "code",
   "execution_count": 8,
   "id": "17c55fde",
   "metadata": {},
   "outputs": [
    {
     "name": "stdout",
     "output_type": "stream",
     "text": [
      "0\n",
      "Optimization terminated successfully    (Exit mode 0)\n",
      "            Current function value: -3.612221139906543\n",
      "            Iterations: 14\n",
      "            Function evaluations: 165\n",
      "            Gradient evaluations: 14\n",
      "3.6084092065248523\n",
      "25\n",
      "Optimization terminated successfully    (Exit mode 0)\n",
      "            Current function value: -3.612221139906543\n",
      "            Iterations: 14\n",
      "            Function evaluations: 165\n",
      "            Gradient evaluations: 14\n",
      "3.6084092065248523\n",
      "50\n",
      "Optimization terminated successfully    (Exit mode 0)\n",
      "            Current function value: -3.612221139906543\n",
      "            Iterations: 14\n",
      "            Function evaluations: 165\n",
      "            Gradient evaluations: 14\n",
      "3.6084092065248523\n",
      "75\n",
      "Optimization terminated successfully    (Exit mode 0)\n",
      "            Current function value: -3.612221139906543\n",
      "            Iterations: 14\n",
      "            Function evaluations: 165\n",
      "            Gradient evaluations: 14\n",
      "3.6084092065248523\n",
      "100\n",
      "Optimization terminated successfully    (Exit mode 0)\n",
      "            Current function value: -3.612221139906543\n",
      "            Iterations: 14\n",
      "            Function evaluations: 165\n",
      "            Gradient evaluations: 14\n",
      "3.6084092065248523\n",
      "125\n",
      "Optimization terminated successfully    (Exit mode 0)\n",
      "            Current function value: -3.612221139906543\n",
      "            Iterations: 14\n",
      "            Function evaluations: 165\n",
      "            Gradient evaluations: 14\n",
      "3.6084092065248523\n",
      "150\n",
      "Optimization terminated successfully    (Exit mode 0)\n",
      "            Current function value: -3.612221139906543\n",
      "            Iterations: 14\n",
      "            Function evaluations: 165\n",
      "            Gradient evaluations: 14\n",
      "3.6084092065248523\n",
      "175\n",
      "Optimization terminated successfully    (Exit mode 0)\n",
      "            Current function value: -3.612221139906543\n",
      "            Iterations: 14\n",
      "            Function evaluations: 165\n",
      "            Gradient evaluations: 14\n",
      "3.6084092065248523\n",
      "200\n",
      "Optimization terminated successfully    (Exit mode 0)\n",
      "            Current function value: -3.612221139906543\n",
      "            Iterations: 14\n",
      "            Function evaluations: 165\n",
      "            Gradient evaluations: 14\n",
      "3.6084092065248523\n",
      "225\n",
      "Optimization terminated successfully    (Exit mode 0)\n",
      "            Current function value: -3.6299954215854346\n",
      "            Iterations: 14\n",
      "            Function evaluations: 166\n",
      "            Gradient evaluations: 14\n",
      "3.6272750264033373\n",
      "250\n",
      "Optimization terminated successfully    (Exit mode 0)\n",
      "            Current function value: -3.6299954215854346\n",
      "            Iterations: 14\n",
      "            Function evaluations: 166\n",
      "            Gradient evaluations: 14\n",
      "3.6272750264033373\n",
      "275\n",
      "Optimization terminated successfully    (Exit mode 0)\n",
      "            Current function value: -3.5294861419802936\n",
      "            Iterations: 14\n",
      "            Function evaluations: 165\n",
      "            Gradient evaluations: 14\n",
      "3.5287079567098756\n",
      "300\n",
      "Optimization terminated successfully    (Exit mode 0)\n",
      "            Current function value: -3.5294861419802936\n",
      "            Iterations: 14\n",
      "            Function evaluations: 165\n",
      "            Gradient evaluations: 14\n",
      "3.5287079567098756\n",
      "325\n",
      "Optimization terminated successfully    (Exit mode 0)\n",
      "            Current function value: -3.538109748784425\n",
      "            Iterations: 13\n",
      "            Function evaluations: 154\n",
      "            Gradient evaluations: 13\n",
      "3.5370463920061335\n",
      "350\n",
      "Optimization terminated successfully    (Exit mode 0)\n",
      "            Current function value: -3.3258312790397486\n",
      "            Iterations: 13\n",
      "            Function evaluations: 153\n",
      "            Gradient evaluations: 13\n",
      "3.3249191264330875\n",
      "375\n",
      "Optimization terminated successfully    (Exit mode 0)\n",
      "            Current function value: -3.3258312790397486\n",
      "            Iterations: 13\n",
      "            Function evaluations: 153\n",
      "            Gradient evaluations: 13\n",
      "3.3249191264330875\n",
      "400\n",
      "Optimization terminated successfully    (Exit mode 0)\n",
      "            Current function value: -3.2039440399464634\n",
      "            Iterations: 13\n",
      "            Function evaluations: 154\n",
      "            Gradient evaluations: 13\n",
      "3.1988261824036353\n",
      "425\n",
      "Optimization terminated successfully    (Exit mode 0)\n",
      "            Current function value: -3.2039440399464634\n",
      "            Iterations: 13\n",
      "            Function evaluations: 154\n",
      "            Gradient evaluations: 13\n",
      "3.1988261824036353\n",
      "450\n",
      "Optimization terminated successfully    (Exit mode 0)\n",
      "            Current function value: -3.2039440399464634\n",
      "            Iterations: 13\n",
      "            Function evaluations: 154\n",
      "            Gradient evaluations: 13\n",
      "3.1988261824036353\n",
      "475\n",
      "Optimization terminated successfully    (Exit mode 0)\n",
      "            Current function value: -3.1475532507585067\n",
      "            Iterations: 13\n",
      "            Function evaluations: 153\n",
      "            Gradient evaluations: 13\n",
      "3.1462328634274166\n",
      "500\n",
      "Optimization terminated successfully    (Exit mode 0)\n",
      "            Current function value: -3.1475532507585067\n",
      "            Iterations: 13\n",
      "            Function evaluations: 153\n",
      "            Gradient evaluations: 13\n",
      "3.1462328634274166\n",
      "525\n",
      "Optimization terminated successfully    (Exit mode 0)\n",
      "            Current function value: -2.5575512927697206\n",
      "            Iterations: 13\n",
      "            Function evaluations: 153\n",
      "            Gradient evaluations: 13\n",
      "2.555590082550168\n",
      "550\n",
      "Optimization terminated successfully    (Exit mode 0)\n",
      "            Current function value: -2.5625776418556434\n",
      "            Iterations: 11\n",
      "            Function evaluations: 133\n",
      "            Gradient evaluations: 11\n",
      "2.562391863790025\n",
      "575\n",
      "Optimization terminated successfully    (Exit mode 0)\n",
      "            Current function value: -2.607403224410981\n",
      "            Iterations: 13\n",
      "            Function evaluations: 153\n",
      "            Gradient evaluations: 13\n",
      "2.606796548372915\n",
      "600\n",
      "Optimization terminated successfully    (Exit mode 0)\n",
      "            Current function value: -1.882495042976985\n",
      "            Iterations: 14\n",
      "            Function evaluations: 163\n",
      "            Gradient evaluations: 14\n",
      "1.8823198480436805\n",
      "625\n",
      "Failed attempt at threshold = 625  too few stocks\n",
      "650\n",
      "Failed attempt at threshold = 650  too few stocks\n",
      "675\n",
      "Failed attempt at threshold = 675  too few stocks\n",
      "700\n",
      "Failed attempt at threshold = 700  too few stocks\n",
      "725\n",
      "Failed attempt at threshold = 725  too few stocks\n",
      "750\n",
      "Failed attempt at threshold = 750  too few stocks\n",
      "775\n",
      "Failed attempt at threshold = 775  too few stocks\n"
     ]
    }
   ],
   "source": [
    "ESG_fron = ESG_efficient_frontier(file_path, column_name, column_value, prefixes, start_date, end_date, time='y', lower_bound=lower_bound, operator=operator, esg=esg, rf=rf, score=score, num=num)"
   ]
  },
  {
   "cell_type": "code",
   "execution_count": 10,
   "id": "22a74e49",
   "metadata": {},
   "outputs": [
    {
     "data": {
      "text/plain": [
       "Text(0, 0.5, 'Sharpe Ratio')"
      ]
     },
     "execution_count": 10,
     "metadata": {},
     "output_type": "execute_result"
    },
    {
     "data": {
      "image/png": "[encoded data removed]",
      "text/plain": [
       "<Figure size 432x288 with 1 Axes>"
      ]
     },
     "metadata": {
      "needs_background": "light"
     },
     "output_type": "display_data"
    }
   ],
   "source": [
    "plt.plot(ESG_fron[1], ESG_fron[0])\n",
    "plt.xlabel('Weighted Enviroment score')\n",
    "plt.ylabel('Sharpe Ratio')"
   ]
  },
  {
   "cell_type": "code",
   "execution_count": 11,
   "id": "e5d52c12",
   "metadata": {},
   "outputs": [
    {
     "name": "stdout",
     "output_type": "stream",
     "text": [
      "0\n",
      "Optimal weights: [0.2472 0.2024 0.0987 0.1599 0.0609 0.1115 0.     0.0116 0.0064 0.1014]\n",
      "Optimized Sharpe ratio: 3.612221139925515\n",
      "Sharp ratio 3.612221139925515\n",
      "Reazlied return 0.2015703724815531\n",
      "Realized std 0.05580233453971468\n",
      "ESG score 459.6874243785099\n",
      "25\n",
      "Optimal weights: [0.2472 0.2024 0.0987 0.1599 0.0609 0.1115 0.     0.0116 0.0064 0.1014]\n",
      "Optimized Sharpe ratio: 3.612221139925515\n",
      "Sharp ratio 3.612221139925515\n",
      "Reazlied return 0.2015703724815531\n",
      "Realized std 0.05580233453971468\n",
      "ESG score 459.6874243785099\n",
      "50\n",
      "Optimal weights: [0.2472 0.2024 0.0987 0.1599 0.0609 0.1115 0.     0.0116 0.0064 0.1014]\n",
      "Optimized Sharpe ratio: 3.612221139925515\n",
      "Sharp ratio 3.612221139925515\n",
      "Reazlied return 0.2015703724815531\n",
      "Realized std 0.05580233453971468\n",
      "ESG score 459.6874243785099\n",
      "75\n",
      "Optimal weights: [0.2472 0.2024 0.0987 0.1599 0.0609 0.1115 0.     0.0116 0.0064 0.1014]\n",
      "Optimized Sharpe ratio: 3.612221139925515\n",
      "Sharp ratio 3.612221139925515\n",
      "Reazlied return 0.2015703724815531\n",
      "Realized std 0.05580233453971468\n",
      "ESG score 459.6874243785099\n",
      "100\n",
      "Optimal weights: [0.2472 0.2024 0.0987 0.1599 0.0609 0.1115 0.     0.0116 0.0064 0.1014]\n",
      "Optimized Sharpe ratio: 3.612221139925515\n",
      "Sharp ratio 3.612221139925515\n",
      "Reazlied return 0.2015703724815531\n",
      "Realized std 0.05580233453971468\n",
      "ESG score 459.6874243785099\n",
      "125\n",
      "Optimal weights: [0.2472 0.2024 0.0987 0.1599 0.0609 0.1115 0.     0.0116 0.0064 0.1014]\n",
      "Optimized Sharpe ratio: 3.612221139925515\n",
      "Sharp ratio 3.612221139925515\n",
      "Reazlied return 0.2015703724815531\n",
      "Realized std 0.05580233453971468\n",
      "ESG score 459.6874243785099\n",
      "150\n",
      "Optimal weights: [0.2472 0.2024 0.0987 0.1599 0.0609 0.1115 0.     0.0116 0.0064 0.1014]\n",
      "Optimized Sharpe ratio: 3.612221139925515\n",
      "Sharp ratio 3.612221139925515\n",
      "Reazlied return 0.2015703724815531\n",
      "Realized std 0.05580233453971468\n",
      "ESG score 459.6874243785099\n",
      "175\n",
      "Optimal weights: [0.2472 0.2024 0.0987 0.1599 0.0609 0.1115 0.     0.0116 0.0064 0.1014]\n",
      "Optimized Sharpe ratio: 3.612221139925515\n",
      "Sharp ratio 3.612221139925515\n",
      "Reazlied return 0.2015703724815531\n",
      "Realized std 0.05580233453971468\n",
      "ESG score 459.6874243785099\n",
      "200\n",
      "Optimal weights: [0.2472 0.2024 0.0987 0.1599 0.0609 0.1115 0.     0.0116 0.0064 0.1014]\n",
      "Optimized Sharpe ratio: 3.612221139925515\n",
      "Sharp ratio 3.612221139925515\n",
      "Reazlied return 0.2015703724815531\n",
      "Realized std 0.05580233453971468\n",
      "ESG score 459.6874243785099\n",
      "225\n",
      "Optimal weights: [0.2472 0.2024 0.0987 0.1599 0.0609 0.1115 0.     0.0116 0.0064 0.1014]\n",
      "Optimized Sharpe ratio: 3.6122211399225113\n",
      "Sharp ratio 3.6122211399225113\n",
      "Reazlied return 0.20157037216969906\n",
      "Realized std 0.05580233445342804\n",
      "ESG score 459.6874252745839\n",
      "250\n",
      "Optimal weights: [0.2472 0.2024 0.0987 0.1599 0.0609 0.1115 0.     0.0116 0.0064 0.1014]\n",
      "Optimized Sharpe ratio: 3.612221139920177\n",
      "Sharp ratio 3.612221139920177\n",
      "Reazlied return 0.20157037257827234\n",
      "Realized std 0.0558023345665727\n",
      "ESG score 459.68742433737845\n",
      "275\n",
      "Optimal weights: [0.2472 0.2024 0.0987 0.1599 0.0609 0.1115 0.     0.0116 0.0064 0.1014]\n",
      "Optimized Sharpe ratio: 3.612221139915738\n",
      "Sharp ratio 3.612221139915738\n",
      "Reazlied return 0.201570372001992\n",
      "Realized std 0.05580233440710499\n",
      "ESG score 459.6874237729578\n",
      "300\n",
      "Optimal weights: [0.2472 0.2024 0.0987 0.1599 0.0609 0.1115 0.     0.0116 0.0064 0.1014]\n",
      "Optimized Sharpe ratio: 3.6122211399264352\n",
      "Sharp ratio 3.6122211399264352\n",
      "Reazlied return 0.2015703723546673\n",
      "Realized std 0.055802334504573656\n",
      "ESG score 459.68742319797286\n",
      "325\n",
      "Optimal weights: [0.2472 0.2024 0.0987 0.1599 0.0609 0.1115 0.     0.0116 0.0064 0.1014]\n",
      "Optimized Sharpe ratio: 3.6122211399229838\n",
      "Sharp ratio 3.6122211399229838\n",
      "Reazlied return 0.20157037276509124\n",
      "Realized std 0.055802334618247906\n",
      "ESG score 459.6874225498314\n",
      "350\n",
      "Optimal weights: [0.2472 0.2024 0.0987 0.1599 0.0609 0.1115 0.     0.0116 0.0064 0.1014]\n",
      "Optimized Sharpe ratio: 3.612221139914043\n",
      "Sharp ratio 3.612221139914043\n",
      "Reazlied return 0.20157037249003582\n",
      "Realized std 0.05580233454224024\n",
      "ESG score 459.6874233661865\n",
      "375\n",
      "Optimal weights: [0.2472 0.2024 0.0987 0.1599 0.0609 0.1115 0.     0.0116 0.0064 0.1014]\n",
      "Optimized Sharpe ratio: 3.61222113993128\n",
      "Sharp ratio 3.61222113993128\n",
      "Reazlied return 0.2015703728814932\n",
      "Realized std 0.05580233465034424\n",
      "ESG score 459.6874238034382\n",
      "400\n",
      "Optimal weights: [0.2472 0.2024 0.0987 0.1599 0.0609 0.1115 0.     0.0116 0.0064 0.1014]\n",
      "Optimized Sharpe ratio: 3.6122212811101555\n",
      "Sharp ratio 3.6122212811101555\n",
      "Reazlied return 0.2015709606857148\n",
      "Realized std 0.05580249519591041\n",
      "ESG score 459.67504280716867\n",
      "425\n",
      "Optimal weights: [0.2471 0.2024 0.0988 0.1598 0.0608 0.1114 0.     0.0116 0.0064 0.1016]\n",
      "Optimized Sharpe ratio: 3.6122215272156897\n",
      "Sharp ratio 3.6122215272156897\n",
      "Reazlied return 0.20157139994900564\n",
      "Realized std 0.05580261299875964\n",
      "ESG score 459.6657426128724\n",
      "450\n",
      "Optimal weights: [0.2471 0.2025 0.0989 0.1599 0.0608 0.1114 0.     0.0116 0.0064 0.1015]\n",
      "Optimized Sharpe ratio: 3.612221335893066\n",
      "Sharp ratio 3.612221335893066\n",
      "Reazlied return 0.20156880373732428\n",
      "Realized std 0.055801897224409557\n",
      "ESG score 459.67989902701817\n",
      "475\n",
      "Optimal weights: [0.2601 0.2034 0.1075 0.1254 0.0778 0.1045 0.     0.0259 0.     0.0954]\n",
      "Optimized Sharpe ratio: 3.6015369899260175\n",
      "Sharp ratio 3.6015369899260175\n",
      "Reazlied return 0.20189223425794003\n",
      "Realized std 0.05605724301115322\n",
      "ESG score 475.00000000000034\n",
      "500\n",
      "Optimal weights: [0.2796 0.205  0.1233 0.0566 0.1028 0.094  0.     0.0546 0.     0.0841]\n",
      "Optimized Sharpe ratio: 3.5347918523625093\n",
      "Sharp ratio 3.5347918523625093\n",
      "Reazlied return 0.20380988176035503\n",
      "Realized std 0.057658241354193715\n",
      "ESG score 500.00000000000017\n",
      "525\n",
      "Optimal weights: [0.3023 0.2017 0.1384 0.     0.1345 0.0799 0.     0.0797 0.     0.0635]\n",
      "Optimized Sharpe ratio: 3.4148469467704667\n",
      "Sharp ratio 3.4148469467704667\n",
      "Reazlied return 0.2042062105787251\n",
      "Realized std 0.059799520670128316\n",
      "ESG score 525.0000000000001\n",
      "550\n",
      "Optimal weights: [3.393e-01 1.783e-01 1.516e-01 0.000e+00 2.005e-01 4.640e-02 0.000e+00\n",
      " 8.350e-02 0.000e+00 3.000e-04]\n",
      "Optimized Sharpe ratio: 3.1839448187984947\n",
      "Sharp ratio 3.1839448187984947\n",
      "Reazlied return 0.1970442849921996\n",
      "Realized std 0.061886840446737694\n",
      "ESG score 550.0000000000008\n",
      "575\n",
      "Optimal weights: [0.4364 0.0955 0.0672 0.     0.2948 0.     0.     0.1061 0.     0.    ]\n",
      "Optimized Sharpe ratio: 2.7572753333984013\n",
      "Sharp ratio 2.7572753333984013\n",
      "Reazlied return 0.1884741059609882\n",
      "Realized std 0.06835519967049856\n",
      "ESG score 575.0000000000011\n",
      "600\n",
      "Optimal weights: [0. 0. 0. 0. 1. 0. 0. 0. 0. 0.]\n",
      "Optimized Sharpe ratio: 0.1427771743661869\n",
      "Sharp ratio 1.4277717436618689\n",
      "Reazlied return 0.16301650245245944\n",
      "Realized std 0.11417546479408806\n",
      "ESG score 596.0002691109618\n",
      "625\n",
      "Optimal weights: [0. 0. 0. 0. 1. 0. 0. 0. 0. 0.]\n",
      "Optimized Sharpe ratio: 0.14277710025562682\n",
      "Sharp ratio 1.4277710025562682\n",
      "Reazlied return 0.16301642104861128\n",
      "Realized std 0.11417546704390842\n",
      "ESG score 596.000003437438\n",
      "650\n",
      "Optimal weights: [0. 0. 0. 0. 1. 0. 0. 0. 0. 0.]\n",
      "Optimized Sharpe ratio: 0.14277709972161276\n",
      "Sharp ratio 1.4277709972161274\n",
      "Reazlied return 0.1630164204652198\n",
      "Realized std 0.11417546706234386\n",
      "ESG score 596.0000015127224\n",
      "675\n",
      "Optimal weights: [0. 0. 0. 0. 1. 0. 0. 0. 0. 0.]\n",
      "Optimized Sharpe ratio: 0.1427770993140712\n",
      "Sharp ratio 1.427770993140712\n",
      "Reazlied return 0.16301642001833175\n",
      "Realized std 0.11417546707524816\n",
      "ESG score 596.0000000523302\n",
      "700\n",
      "Optimal weights: [0. 0. 0. 0. 1. 0. 0. 0. 0. 0.]\n",
      "Optimized Sharpe ratio: 0.14277709991932327\n",
      "Sharp ratio 1.4277709991932328\n",
      "Reazlied return 0.1630164206804316\n",
      "Realized std 0.11417546705497214\n",
      "ESG score 596.0000022281687\n",
      "725\n",
      "Optimal weights: [0. 0. 0. 0. 1. 0. 0. 0. 0. 0.]\n",
      "Optimized Sharpe ratio: 0.1427771019151419\n",
      "Sharp ratio 1.4277710191514188\n",
      "Reazlied return 0.16301642324300522\n",
      "Realized std 0.11417546725377041\n",
      "ESG score 596.0000086171437\n",
      "750\n",
      "Optimal weights: [0. 0. 0. 0. 1. 0. 0. 0. 0. 0.]\n",
      "Optimized Sharpe ratio: 0.1427771008011739\n",
      "Sharp ratio 1.427771008011739\n",
      "Reazlied return 0.1630164216450895\n",
      "Realized std 0.11417546702541617\n",
      "ESG score 596.0000053983595\n",
      "775\n",
      "Optimal weights: [1.e-04 0.e+00 0.e+00 0.e+00 1.e+00 0.e+00 0.e+00 0.e+00 0.e+00 0.e+00]\n",
      "Optimized Sharpe ratio: 0.14279036816315818\n",
      "Sharp ratio 1.4279036816315818\n",
      "Reazlied return 0.1630309353803412\n",
      "Realized std 0.11417502278168742\n",
      "ESG score 596.047702032107\n"
     ]
    }
   ],
   "source": [
    "ESG_GW = ESG_efficient_frontier_gw(num,rf,returns,esg,score)"
   ]
  },
  {
   "cell_type": "code",
   "execution_count": 12,
   "id": "371f36a3",
   "metadata": {},
   "outputs": [
    {
     "data": {
      "text/plain": [
       "Text(0, 0.5, 'Sharpe Ratio')"
      ]
     },
     "execution_count": 12,
     "metadata": {},
     "output_type": "execute_result"
    },
    {
     "data": {
      "image/png": "[encoded data removed]",
      "text/plain": [
       "<Figure size 432x288 with 1 Axes>"
      ]
     },
     "metadata": {
      "needs_background": "light"
     },
     "output_type": "display_data"
    }
   ],
   "source": [
    "plt.plot(ESG_GW[1], ESG_GW[0])\n",
    "plt.xlabel('Weighted Enviroment score')\n",
    "plt.ylabel('Sharpe Ratio')"
   ]
  },
  {
   "cell_type": "code",
   "execution_count": 5,
   "id": "6fc07c69",
   "metadata": {},
   "outputs": [
    {
     "name": "stdout",
     "output_type": "stream",
     "text": [
      "Optimization terminated successfully    (Exit mode 0)\n",
      "            Current function value: -16.52162016887177\n",
      "            Iterations: 15\n",
      "            Function evaluations: 180\n",
      "            Gradient evaluations: 15\n",
      "For window:  0\n",
      "Expected return:  0.3117107987783258\n",
      "Realized return:  0.08703203925049996\n",
      "Expected volatility:  0.018911216262003903\n",
      "Realized volatility:  0.10887041355455654\n",
      "Portfolio value:  108.70320392504999\n",
      "\n",
      "\n"
     ]
    },
    {
     "name": "stderr",
     "output_type": "stream",
     "text": [
      "C:\\Users\\Bruger\\anaconda3\\lib\\site-packages\\sklearn\\covariance\\_empirical_covariance.py:86: UserWarning: Only one sample available. You may want to reshape your data array\n",
      "  warnings.warn(\n",
      "C:\\Users\\Bruger\\anaconda3\\lib\\site-packages\\pandas\\core\\frame.py:9673: RuntimeWarning: Degrees of freedom <= 0 for slice\n",
      "  base_cov = np.cov(mat.T, ddof=ddof)\n",
      "C:\\Users\\Bruger\\anaconda3\\lib\\site-packages\\numpy\\lib\\function_base.py:2680: RuntimeWarning: divide by zero encountered in true_divide\n",
      "  c *= np.true_divide(1, fact)\n",
      "C:\\Users\\Bruger\\anaconda3\\lib\\site-packages\\numpy\\lib\\function_base.py:2680: RuntimeWarning: invalid value encountered in multiply\n",
      "  c *= np.true_divide(1, fact)\n"
     ]
    },
    {
     "name": "stdout",
     "output_type": "stream",
     "text": [
      "Optimization terminated successfully    (Exit mode 0)\n",
      "            Current function value: -12.506622756786559\n",
      "            Iterations: 18\n",
      "            Function evaluations: 213\n",
      "            Gradient evaluations: 18\n",
      "For window:  1\n",
      "Expected return:  0.2509859204452955\n",
      "Realized return:  0.12920095016079453\n",
      "Expected volatility:  0.020264199399309325\n",
      "Realized volatility:  0.05559744717416339\n",
      "Portfolio value:  122.74776115768906\n",
      "\n",
      "\n"
     ]
    },
    {
     "name": "stderr",
     "output_type": "stream",
     "text": [
      "C:\\Users\\Bruger\\anaconda3\\lib\\site-packages\\sklearn\\covariance\\_empirical_covariance.py:86: UserWarning: Only one sample available. You may want to reshape your data array\n",
      "  warnings.warn(\n",
      "C:\\Users\\Bruger\\anaconda3\\lib\\site-packages\\pandas\\core\\frame.py:9673: RuntimeWarning: Degrees of freedom <= 0 for slice\n",
      "  base_cov = np.cov(mat.T, ddof=ddof)\n",
      "C:\\Users\\Bruger\\anaconda3\\lib\\site-packages\\numpy\\lib\\function_base.py:2680: RuntimeWarning: divide by zero encountered in true_divide\n",
      "  c *= np.true_divide(1, fact)\n",
      "C:\\Users\\Bruger\\anaconda3\\lib\\site-packages\\numpy\\lib\\function_base.py:2680: RuntimeWarning: invalid value encountered in multiply\n",
      "  c *= np.true_divide(1, fact)\n"
     ]
    },
    {
     "name": "stdout",
     "output_type": "stream",
     "text": [
      "Optimization terminated successfully    (Exit mode 0)\n",
      "            Current function value: -11.401742413351535\n",
      "            Iterations: 13\n",
      "            Function evaluations: 153\n",
      "            Gradient evaluations: 13\n",
      "For window:  2\n",
      "Expected return:  0.1921537718576617\n",
      "Realized return:  0.09546391030792561\n",
      "Expected volatility:  0.017081830114200915\n",
      "Realized volatility:  0.04047955170731533\n",
      "Portfolio value:  134.46574241934536\n",
      "\n",
      "\n"
     ]
    },
    {
     "name": "stderr",
     "output_type": "stream",
     "text": [
      "C:\\Users\\Bruger\\anaconda3\\lib\\site-packages\\sklearn\\covariance\\_empirical_covariance.py:86: UserWarning: Only one sample available. You may want to reshape your data array\n",
      "  warnings.warn(\n",
      "C:\\Users\\Bruger\\anaconda3\\lib\\site-packages\\pandas\\core\\frame.py:9673: RuntimeWarning: Degrees of freedom <= 0 for slice\n",
      "  base_cov = np.cov(mat.T, ddof=ddof)\n",
      "C:\\Users\\Bruger\\anaconda3\\lib\\site-packages\\numpy\\lib\\function_base.py:2680: RuntimeWarning: divide by zero encountered in true_divide\n",
      "  c *= np.true_divide(1, fact)\n",
      "C:\\Users\\Bruger\\anaconda3\\lib\\site-packages\\numpy\\lib\\function_base.py:2680: RuntimeWarning: invalid value encountered in multiply\n",
      "  c *= np.true_divide(1, fact)\n"
     ]
    },
    {
     "name": "stdout",
     "output_type": "stream",
     "text": [
      "Optimization terminated successfully    (Exit mode 0)\n",
      "            Current function value: -23.097357376616493\n",
      "            Iterations: 19\n",
      "            Function evaluations: 228\n",
      "            Gradient evaluations: 19\n",
      "For window:  3\n",
      "Expected return:  0.23036153961491515\n",
      "Realized return:  -0.14034851142939417\n",
      "Expected volatility:  0.011337301786243353\n",
      "Realized volatility:  0.16499017504835622\n",
      "Portfolio value:  115.59367563254189\n",
      "\n",
      "\n"
     ]
    },
    {
     "name": "stderr",
     "output_type": "stream",
     "text": [
      "C:\\Users\\Bruger\\anaconda3\\lib\\site-packages\\sklearn\\covariance\\_empirical_covariance.py:86: UserWarning: Only one sample available. You may want to reshape your data array\n",
      "  warnings.warn(\n",
      "C:\\Users\\Bruger\\anaconda3\\lib\\site-packages\\pandas\\core\\frame.py:9673: RuntimeWarning: Degrees of freedom <= 0 for slice\n",
      "  base_cov = np.cov(mat.T, ddof=ddof)\n",
      "C:\\Users\\Bruger\\anaconda3\\lib\\site-packages\\numpy\\lib\\function_base.py:2680: RuntimeWarning: divide by zero encountered in true_divide\n",
      "  c *= np.true_divide(1, fact)\n",
      "C:\\Users\\Bruger\\anaconda3\\lib\\site-packages\\numpy\\lib\\function_base.py:2680: RuntimeWarning: invalid value encountered in multiply\n",
      "  c *= np.true_divide(1, fact)\n"
     ]
    },
    {
     "name": "stdout",
     "output_type": "stream",
     "text": [
      "Optimization terminated successfully    (Exit mode 0)\n",
      "            Current function value: -9.359234368617066\n",
      "            Iterations: 16\n",
      "            Function evaluations: 193\n",
      "            Gradient evaluations: 16\n",
      "For window:  4\n",
      "Expected return:  0.26363967020962725\n",
      "Realized return:  0.12171385293629867\n",
      "Expected volatility:  0.028323474557788785\n",
      "Realized volatility:  0.05871950711886417\n",
      "Portfolio value:  129.66302726884732\n",
      "\n",
      "\n"
     ]
    },
    {
     "name": "stderr",
     "output_type": "stream",
     "text": [
      "C:\\Users\\Bruger\\anaconda3\\lib\\site-packages\\sklearn\\covariance\\_empirical_covariance.py:86: UserWarning: Only one sample available. You may want to reshape your data array\n",
      "  warnings.warn(\n",
      "C:\\Users\\Bruger\\anaconda3\\lib\\site-packages\\pandas\\core\\frame.py:9673: RuntimeWarning: Degrees of freedom <= 0 for slice\n",
      "  base_cov = np.cov(mat.T, ddof=ddof)\n",
      "C:\\Users\\Bruger\\anaconda3\\lib\\site-packages\\numpy\\lib\\function_base.py:2680: RuntimeWarning: divide by zero encountered in true_divide\n",
      "  c *= np.true_divide(1, fact)\n",
      "C:\\Users\\Bruger\\anaconda3\\lib\\site-packages\\numpy\\lib\\function_base.py:2680: RuntimeWarning: invalid value encountered in multiply\n",
      "  c *= np.true_divide(1, fact)\n"
     ]
    },
    {
     "name": "stdout",
     "output_type": "stream",
     "text": [
      "Optimization terminated successfully    (Exit mode 0)\n",
      "            Current function value: -10.003882660740532\n",
      "            Iterations: 18\n",
      "            Function evaluations: 213\n",
      "            Gradient evaluations: 18\n",
      "For window:  5\n",
      "Expected return:  0.21980251321048883\n",
      "Realized return:  0.3611759303491637\n",
      "Expected volatility:  0.022079261130946895\n",
      "Realized volatility:  0.07089756662447293\n",
      "Portfolio value:  176.49419177456224\n",
      "\n",
      "\n"
     ]
    },
    {
     "name": "stderr",
     "output_type": "stream",
     "text": [
      "C:\\Users\\Bruger\\anaconda3\\lib\\site-packages\\sklearn\\covariance\\_empirical_covariance.py:86: UserWarning: Only one sample available. You may want to reshape your data array\n",
      "  warnings.warn(\n",
      "C:\\Users\\Bruger\\anaconda3\\lib\\site-packages\\pandas\\core\\frame.py:9673: RuntimeWarning: Degrees of freedom <= 0 for slice\n",
      "  base_cov = np.cov(mat.T, ddof=ddof)\n",
      "C:\\Users\\Bruger\\anaconda3\\lib\\site-packages\\numpy\\lib\\function_base.py:2680: RuntimeWarning: divide by zero encountered in true_divide\n",
      "  c *= np.true_divide(1, fact)\n",
      "C:\\Users\\Bruger\\anaconda3\\lib\\site-packages\\numpy\\lib\\function_base.py:2680: RuntimeWarning: invalid value encountered in multiply\n",
      "  c *= np.true_divide(1, fact)\n"
     ]
    },
    {
     "name": "stdout",
     "output_type": "stream",
     "text": [
      "Optimization terminated successfully    (Exit mode 0)\n",
      "            Current function value: -9.42125333614979\n",
      "            Iterations: 16\n",
      "            Function evaluations: 190\n",
      "            Gradient evaluations: 16\n",
      "For window:  6\n",
      "Expected return:  0.2431239332928306\n",
      "Realized return:  0.21964599615440472\n",
      "Expected volatility:  0.025810272142399802\n",
      "Realized volatility:  0.030065608095430164\n",
      "Portfolio value:  215.26043434235248\n",
      "\n",
      "\n"
     ]
    },
    {
     "name": "stderr",
     "output_type": "stream",
     "text": [
      "C:\\Users\\Bruger\\anaconda3\\lib\\site-packages\\sklearn\\covariance\\_empirical_covariance.py:86: UserWarning: Only one sample available. You may want to reshape your data array\n",
      "  warnings.warn(\n",
      "C:\\Users\\Bruger\\anaconda3\\lib\\site-packages\\pandas\\core\\frame.py:9673: RuntimeWarning: Degrees of freedom <= 0 for slice\n",
      "  base_cov = np.cov(mat.T, ddof=ddof)\n",
      "C:\\Users\\Bruger\\anaconda3\\lib\\site-packages\\numpy\\lib\\function_base.py:2680: RuntimeWarning: divide by zero encountered in true_divide\n",
      "  c *= np.true_divide(1, fact)\n",
      "C:\\Users\\Bruger\\anaconda3\\lib\\site-packages\\numpy\\lib\\function_base.py:2680: RuntimeWarning: invalid value encountered in multiply\n",
      "  c *= np.true_divide(1, fact)\n"
     ]
    },
    {
     "name": "stdout",
     "output_type": "stream",
     "text": [
      "Optimization terminated successfully    (Exit mode 0)\n",
      "            Current function value: -8.979441581705352\n",
      "            Iterations: 13\n",
      "            Function evaluations: 155\n",
      "            Gradient evaluations: 13\n",
      "For window:  7\n",
      "Expected return:  0.24302862706589023\n",
      "Realized return:  0.2415508323439709\n",
      "Expected volatility:  0.027082037605354516\n",
      "Realized volatility:  0.02362371829192131\n",
      "Portfolio value:  267.2567714284724\n",
      "\n",
      "\n"
     ]
    },
    {
     "name": "stderr",
     "output_type": "stream",
     "text": [
      "C:\\Users\\Bruger\\anaconda3\\lib\\site-packages\\sklearn\\covariance\\_empirical_covariance.py:86: UserWarning: Only one sample available. You may want to reshape your data array\n",
      "  warnings.warn(\n",
      "C:\\Users\\Bruger\\anaconda3\\lib\\site-packages\\pandas\\core\\frame.py:9673: RuntimeWarning: Degrees of freedom <= 0 for slice\n",
      "  base_cov = np.cov(mat.T, ddof=ddof)\n",
      "C:\\Users\\Bruger\\anaconda3\\lib\\site-packages\\numpy\\lib\\function_base.py:2680: RuntimeWarning: divide by zero encountered in true_divide\n",
      "  c *= np.true_divide(1, fact)\n",
      "C:\\Users\\Bruger\\anaconda3\\lib\\site-packages\\numpy\\lib\\function_base.py:2680: RuntimeWarning: invalid value encountered in multiply\n",
      "  c *= np.true_divide(1, fact)\n"
     ]
    },
    {
     "name": "stdout",
     "output_type": "stream",
     "text": [
      "Optimization terminated successfully    (Exit mode 0)\n",
      "            Current function value: -11.356726913975425\n",
      "            Iterations: 16\n",
      "            Function evaluations: 188\n",
      "            Gradient evaluations: 16\n",
      "For window:  8\n",
      "Expected return:  0.2462330766415861\n",
      "Realized return:  0.2479330063557423\n",
      "Expected volatility:  0.021892424126750513\n",
      "Realized volatility:  0.023051452304603367\n",
      "Portfolio value:  333.51854623766303\n",
      "\n",
      "\n"
     ]
    },
    {
     "name": "stderr",
     "output_type": "stream",
     "text": [
      "C:\\Users\\Bruger\\anaconda3\\lib\\site-packages\\sklearn\\covariance\\_empirical_covariance.py:86: UserWarning: Only one sample available. You may want to reshape your data array\n",
      "  warnings.warn(\n",
      "C:\\Users\\Bruger\\anaconda3\\lib\\site-packages\\pandas\\core\\frame.py:9673: RuntimeWarning: Degrees of freedom <= 0 for slice\n",
      "  base_cov = np.cov(mat.T, ddof=ddof)\n",
      "C:\\Users\\Bruger\\anaconda3\\lib\\site-packages\\numpy\\lib\\function_base.py:2680: RuntimeWarning: divide by zero encountered in true_divide\n",
      "  c *= np.true_divide(1, fact)\n",
      "C:\\Users\\Bruger\\anaconda3\\lib\\site-packages\\numpy\\lib\\function_base.py:2680: RuntimeWarning: invalid value encountered in multiply\n",
      "  c *= np.true_divide(1, fact)\n"
     ]
    },
    {
     "name": "stdout",
     "output_type": "stream",
     "text": [
      "Optimization terminated successfully    (Exit mode 0)\n",
      "            Current function value: -21.350322940584025\n",
      "            Iterations: 18\n",
      "            Function evaluations: 222\n",
      "            Gradient evaluations: 18\n",
      "For window:  9\n",
      "Expected return:  0.2573577036969141\n",
      "Realized return:  0.21525296751449408\n",
      "Expected volatility:  0.012725120644932019\n",
      "Realized volatility:  0.02858581500464817\n",
      "Portfolio value:  405.30940303644\n",
      "\n",
      "\n"
     ]
    },
    {
     "name": "stderr",
     "output_type": "stream",
     "text": [
      "C:\\Users\\Bruger\\anaconda3\\lib\\site-packages\\sklearn\\covariance\\_empirical_covariance.py:86: UserWarning: Only one sample available. You may want to reshape your data array\n",
      "  warnings.warn(\n",
      "C:\\Users\\Bruger\\anaconda3\\lib\\site-packages\\pandas\\core\\frame.py:9673: RuntimeWarning: Degrees of freedom <= 0 for slice\n",
      "  base_cov = np.cov(mat.T, ddof=ddof)\n",
      "C:\\Users\\Bruger\\anaconda3\\lib\\site-packages\\numpy\\lib\\function_base.py:2680: RuntimeWarning: divide by zero encountered in true_divide\n",
      "  c *= np.true_divide(1, fact)\n",
      "C:\\Users\\Bruger\\anaconda3\\lib\\site-packages\\numpy\\lib\\function_base.py:2680: RuntimeWarning: invalid value encountered in multiply\n",
      "  c *= np.true_divide(1, fact)\n"
     ]
    },
    {
     "name": "stdout",
     "output_type": "stream",
     "text": [
      "Optimization terminated successfully    (Exit mode 0)\n",
      "            Current function value: -27.033681028791754\n",
      "            Iterations: 18\n",
      "            Function evaluations: 223\n",
      "            Gradient evaluations: 18\n",
      "For window:  10\n",
      "Expected return:  0.26393114734811446\n",
      "Realized return:  0.005699742886944623\n",
      "Expected volatility:  0.009977394400865933\n",
      "Realized volatility:  0.1204191516288929\n",
      "Portfolio value:  407.6195624234087\n",
      "\n",
      "\n"
     ]
    },
    {
     "name": "stderr",
     "output_type": "stream",
     "text": [
      "C:\\Users\\Bruger\\anaconda3\\lib\\site-packages\\sklearn\\covariance\\_empirical_covariance.py:86: UserWarning: Only one sample available. You may want to reshape your data array\n",
      "  warnings.warn(\n",
      "C:\\Users\\Bruger\\anaconda3\\lib\\site-packages\\pandas\\core\\frame.py:9673: RuntimeWarning: Degrees of freedom <= 0 for slice\n",
      "  base_cov = np.cov(mat.T, ddof=ddof)\n",
      "C:\\Users\\Bruger\\anaconda3\\lib\\site-packages\\numpy\\lib\\function_base.py:2680: RuntimeWarning: divide by zero encountered in true_divide\n",
      "  c *= np.true_divide(1, fact)\n",
      "C:\\Users\\Bruger\\anaconda3\\lib\\site-packages\\numpy\\lib\\function_base.py:2680: RuntimeWarning: invalid value encountered in multiply\n",
      "  c *= np.true_divide(1, fact)\n"
     ]
    },
    {
     "name": "stdout",
     "output_type": "stream",
     "text": [
      "Optimization terminated successfully    (Exit mode 0)\n",
      "            Current function value: -18.011724153412175\n",
      "            Iterations: 17\n",
      "            Function evaluations: 203\n",
      "            Gradient evaluations: 17\n",
      "For window:  11\n",
      "Expected return:  0.21201101770247885\n",
      "Realized return:  0.12437921415547498\n",
      "Expected volatility:  0.01221239410473349\n",
      "Realized volatility:  0.04318944291795682\n",
      "Portfolio value:  458.3189632720308\n",
      "\n",
      "\n"
     ]
    },
    {
     "name": "stderr",
     "output_type": "stream",
     "text": [
      "C:\\Users\\Bruger\\anaconda3\\lib\\site-packages\\sklearn\\covariance\\_empirical_covariance.py:86: UserWarning: Only one sample available. You may want to reshape your data array\n",
      "  warnings.warn(\n",
      "C:\\Users\\Bruger\\anaconda3\\lib\\site-packages\\pandas\\core\\frame.py:9673: RuntimeWarning: Degrees of freedom <= 0 for slice\n",
      "  base_cov = np.cov(mat.T, ddof=ddof)\n",
      "C:\\Users\\Bruger\\anaconda3\\lib\\site-packages\\numpy\\lib\\function_base.py:2680: RuntimeWarning: divide by zero encountered in true_divide\n",
      "  c *= np.true_divide(1, fact)\n",
      "C:\\Users\\Bruger\\anaconda3\\lib\\site-packages\\numpy\\lib\\function_base.py:2680: RuntimeWarning: invalid value encountered in multiply\n",
      "  c *= np.true_divide(1, fact)\n"
     ]
    },
    {
     "name": "stdout",
     "output_type": "stream",
     "text": [
      "Optimization terminated successfully    (Exit mode 0)\n",
      "            Current function value: -13.927270873318118\n",
      "            Iterations: 15\n",
      "            Function evaluations: 181\n",
      "            Gradient evaluations: 15\n",
      "For window:  12\n",
      "Expected return:  0.19509217524751168\n",
      "Realized return:  0.1842833536573436\n",
      "Expected volatility:  0.01439460994303525\n",
      "Realized volatility:  0.015608867992753264\n",
      "Portfolio value:  542.7795188685576\n",
      "\n",
      "\n"
     ]
    },
    {
     "name": "stderr",
     "output_type": "stream",
     "text": [
      "C:\\Users\\Bruger\\anaconda3\\lib\\site-packages\\sklearn\\covariance\\_empirical_covariance.py:86: UserWarning: Only one sample available. You may want to reshape your data array\n",
      "  warnings.warn(\n",
      "C:\\Users\\Bruger\\anaconda3\\lib\\site-packages\\pandas\\core\\frame.py:9673: RuntimeWarning: Degrees of freedom <= 0 for slice\n",
      "  base_cov = np.cov(mat.T, ddof=ddof)\n",
      "C:\\Users\\Bruger\\anaconda3\\lib\\site-packages\\numpy\\lib\\function_base.py:2680: RuntimeWarning: divide by zero encountered in true_divide\n",
      "  c *= np.true_divide(1, fact)\n",
      "C:\\Users\\Bruger\\anaconda3\\lib\\site-packages\\numpy\\lib\\function_base.py:2680: RuntimeWarning: invalid value encountered in multiply\n",
      "  c *= np.true_divide(1, fact)\n"
     ]
    },
    {
     "name": "stdout",
     "output_type": "stream",
     "text": [
      "Optimization terminated successfully    (Exit mode 0)\n",
      "            Current function value: -13.567345979308824\n",
      "            Iterations: 16\n",
      "            Function evaluations: 189\n",
      "            Gradient evaluations: 16\n",
      "For window:  13\n",
      "Expected return:  0.19490240719751362\n",
      "Realized return:  0.16911216360205614\n",
      "Expected volatility:  0.01493532881528737\n",
      "Realized volatility:  0.022332254101668992\n",
      "Portfolio value:  634.5701376633024\n",
      "\n",
      "\n"
     ]
    },
    {
     "name": "stderr",
     "output_type": "stream",
     "text": [
      "C:\\Users\\Bruger\\anaconda3\\lib\\site-packages\\sklearn\\covariance\\_empirical_covariance.py:86: UserWarning: Only one sample available. You may want to reshape your data array\n",
      "  warnings.warn(\n",
      "C:\\Users\\Bruger\\anaconda3\\lib\\site-packages\\pandas\\core\\frame.py:9673: RuntimeWarning: Degrees of freedom <= 0 for slice\n",
      "  base_cov = np.cov(mat.T, ddof=ddof)\n",
      "C:\\Users\\Bruger\\anaconda3\\lib\\site-packages\\numpy\\lib\\function_base.py:2680: RuntimeWarning: divide by zero encountered in true_divide\n",
      "  c *= np.true_divide(1, fact)\n",
      "C:\\Users\\Bruger\\anaconda3\\lib\\site-packages\\numpy\\lib\\function_base.py:2680: RuntimeWarning: invalid value encountered in multiply\n",
      "  c *= np.true_divide(1, fact)\n"
     ]
    }
   ],
   "source": [
    "BacktestDF = backtest(rf,esg,returns,score, window ,num,lower_bound)"
   ]
  },
  {
   "cell_type": "code",
   "execution_count": 6,
   "id": "8e0baa7f",
   "metadata": {},
   "outputs": [
    {
     "data": {
      "text/html": [
       "<div>\n",
       "<style scoped>\n",
       "    .dataframe tbody tr th:only-of-type {\n",
       "        vertical-align: middle;\n",
       "    }\n",
       "\n",
       "    .dataframe tbody tr th {\n",
       "        vertical-align: top;\n",
       "    }\n",
       "\n",
       "    .dataframe thead th {\n",
       "        text-align: right;\n",
       "    }\n",
       "</style>\n",
       "<table border=\"1\" class=\"dataframe\">\n",
       "  <thead>\n",
       "    <tr style=\"text-align: right;\">\n",
       "      <th></th>\n",
       "      <th>Expected returns</th>\n",
       "      <th>Realized returns</th>\n",
       "      <th>Expected stds</th>\n",
       "      <th>Realized stds</th>\n",
       "      <th>Expected srs</th>\n",
       "      <th>Realized srs</th>\n",
       "      <th>Portfolio Value</th>\n",
       "      <th>Portfolio E Score</th>\n",
       "    </tr>\n",
       "  </thead>\n",
       "  <tbody>\n",
       "    <tr>\n",
       "      <th>0</th>\n",
       "      <td>0.311711</td>\n",
       "      <td>0.087032</td>\n",
       "      <td>0.018911</td>\n",
       "      <td>0.108870</td>\n",
       "      <td>16.482853</td>\n",
       "      <td>0.799409</td>\n",
       "      <td>108.703204</td>\n",
       "      <td>450.426158</td>\n",
       "    </tr>\n",
       "    <tr>\n",
       "      <th>1</th>\n",
       "      <td>0.250986</td>\n",
       "      <td>0.129201</td>\n",
       "      <td>0.020264</td>\n",
       "      <td>0.055597</td>\n",
       "      <td>12.385682</td>\n",
       "      <td>2.323865</td>\n",
       "      <td>122.747761</td>\n",
       "      <td>554.556751</td>\n",
       "    </tr>\n",
       "    <tr>\n",
       "      <th>2</th>\n",
       "      <td>0.192154</td>\n",
       "      <td>0.095464</td>\n",
       "      <td>0.017082</td>\n",
       "      <td>0.040480</td>\n",
       "      <td>11.249016</td>\n",
       "      <td>2.358324</td>\n",
       "      <td>134.465742</td>\n",
       "      <td>555.775928</td>\n",
       "    </tr>\n",
       "    <tr>\n",
       "      <th>3</th>\n",
       "      <td>0.230362</td>\n",
       "      <td>-0.140349</td>\n",
       "      <td>0.011337</td>\n",
       "      <td>0.164990</td>\n",
       "      <td>20.318903</td>\n",
       "      <td>-0.850648</td>\n",
       "      <td>115.593676</td>\n",
       "      <td>505.520524</td>\n",
       "    </tr>\n",
       "    <tr>\n",
       "      <th>4</th>\n",
       "      <td>0.263640</td>\n",
       "      <td>0.121714</td>\n",
       "      <td>0.028323</td>\n",
       "      <td>0.058720</td>\n",
       "      <td>9.308168</td>\n",
       "      <td>2.072801</td>\n",
       "      <td>129.663027</td>\n",
       "      <td>586.973317</td>\n",
       "    </tr>\n",
       "    <tr>\n",
       "      <th>5</th>\n",
       "      <td>0.219803</td>\n",
       "      <td>0.361176</td>\n",
       "      <td>0.022079</td>\n",
       "      <td>0.070898</td>\n",
       "      <td>9.955157</td>\n",
       "      <td>5.094335</td>\n",
       "      <td>176.494192</td>\n",
       "      <td>512.767663</td>\n",
       "    </tr>\n",
       "    <tr>\n",
       "      <th>6</th>\n",
       "      <td>0.243124</td>\n",
       "      <td>0.219646</td>\n",
       "      <td>0.025810</td>\n",
       "      <td>0.030066</td>\n",
       "      <td>9.419658</td>\n",
       "      <td>7.305556</td>\n",
       "      <td>215.260434</td>\n",
       "      <td>605.111896</td>\n",
       "    </tr>\n",
       "    <tr>\n",
       "      <th>7</th>\n",
       "      <td>0.243029</td>\n",
       "      <td>0.241551</td>\n",
       "      <td>0.027082</td>\n",
       "      <td>0.023624</td>\n",
       "      <td>8.973794</td>\n",
       "      <td>10.224929</td>\n",
       "      <td>267.256771</td>\n",
       "      <td>607.169191</td>\n",
       "    </tr>\n",
       "    <tr>\n",
       "      <th>8</th>\n",
       "      <td>0.246233</td>\n",
       "      <td>0.247933</td>\n",
       "      <td>0.021892</td>\n",
       "      <td>0.023051</td>\n",
       "      <td>11.247410</td>\n",
       "      <td>10.755635</td>\n",
       "      <td>333.518546</td>\n",
       "      <td>523.335203</td>\n",
       "    </tr>\n",
       "    <tr>\n",
       "      <th>9</th>\n",
       "      <td>0.257358</td>\n",
       "      <td>0.215253</td>\n",
       "      <td>0.012725</td>\n",
       "      <td>0.028586</td>\n",
       "      <td>20.224382</td>\n",
       "      <td>7.530062</td>\n",
       "      <td>405.309403</td>\n",
       "      <td>508.197153</td>\n",
       "    </tr>\n",
       "    <tr>\n",
       "      <th>10</th>\n",
       "      <td>0.263931</td>\n",
       "      <td>0.005700</td>\n",
       "      <td>0.009977</td>\n",
       "      <td>0.120419</td>\n",
       "      <td>26.452913</td>\n",
       "      <td>0.047333</td>\n",
       "      <td>407.619562</td>\n",
       "      <td>419.605721</td>\n",
       "    </tr>\n",
       "    <tr>\n",
       "      <th>11</th>\n",
       "      <td>0.212011</td>\n",
       "      <td>0.124379</td>\n",
       "      <td>0.012212</td>\n",
       "      <td>0.043189</td>\n",
       "      <td>17.360316</td>\n",
       "      <td>2.879852</td>\n",
       "      <td>458.318963</td>\n",
       "      <td>486.200184</td>\n",
       "    </tr>\n",
       "    <tr>\n",
       "      <th>12</th>\n",
       "      <td>0.195092</td>\n",
       "      <td>0.184283</td>\n",
       "      <td>0.014395</td>\n",
       "      <td>0.015609</td>\n",
       "      <td>13.553141</td>\n",
       "      <td>11.806324</td>\n",
       "      <td>542.779519</td>\n",
       "      <td>526.727548</td>\n",
       "    </tr>\n",
       "    <tr>\n",
       "      <th>13</th>\n",
       "      <td>0.194902</td>\n",
       "      <td>0.169112</td>\n",
       "      <td>0.014935</td>\n",
       "      <td>0.022332</td>\n",
       "      <td>13.049757</td>\n",
       "      <td>7.572552</td>\n",
       "      <td>634.570138</td>\n",
       "      <td>406.048632</td>\n",
       "    </tr>\n",
       "  </tbody>\n",
       "</table>\n",
       "</div>"
      ],
      "text/plain": [
       "    Expected returns  Realized returns  Expected stds  Realized stds  \\\n",
       "0           0.311711          0.087032       0.018911       0.108870   \n",
       "1           0.250986          0.129201       0.020264       0.055597   \n",
       "2           0.192154          0.095464       0.017082       0.040480   \n",
       "3           0.230362         -0.140349       0.011337       0.164990   \n",
       "4           0.263640          0.121714       0.028323       0.058720   \n",
       "5           0.219803          0.361176       0.022079       0.070898   \n",
       "6           0.243124          0.219646       0.025810       0.030066   \n",
       "7           0.243029          0.241551       0.027082       0.023624   \n",
       "8           0.246233          0.247933       0.021892       0.023051   \n",
       "9           0.257358          0.215253       0.012725       0.028586   \n",
       "10          0.263931          0.005700       0.009977       0.120419   \n",
       "11          0.212011          0.124379       0.012212       0.043189   \n",
       "12          0.195092          0.184283       0.014395       0.015609   \n",
       "13          0.194902          0.169112       0.014935       0.022332   \n",
       "\n",
       "    Expected srs  Realized srs  Portfolio Value  Portfolio E Score  \n",
       "0      16.482853      0.799409       108.703204         450.426158  \n",
       "1      12.385682      2.323865       122.747761         554.556751  \n",
       "2      11.249016      2.358324       134.465742         555.775928  \n",
       "3      20.318903     -0.850648       115.593676         505.520524  \n",
       "4       9.308168      2.072801       129.663027         586.973317  \n",
       "5       9.955157      5.094335       176.494192         512.767663  \n",
       "6       9.419658      7.305556       215.260434         605.111896  \n",
       "7       8.973794     10.224929       267.256771         607.169191  \n",
       "8      11.247410     10.755635       333.518546         523.335203  \n",
       "9      20.224382      7.530062       405.309403         508.197153  \n",
       "10     26.452913      0.047333       407.619562         419.605721  \n",
       "11     17.360316      2.879852       458.318963         486.200184  \n",
       "12     13.553141     11.806324       542.779519         526.727548  \n",
       "13     13.049757      7.572552       634.570138         406.048632  "
      ]
     },
     "metadata": {},
     "output_type": "display_data"
    }
   ],
   "source": [
    "display(BacktestDF)"
   ]
  },
  {
   "cell_type": "code",
   "execution_count": 7,
   "id": "5e17c9f8",
   "metadata": {},
   "outputs": [
    {
     "data": {
      "text/plain": [
       "Expected returns       0.237452\n",
       "Realized returns       0.147293\n",
       "Expected stds          0.018359\n",
       "Realized stds          0.057602\n",
       "Expected srs          14.284368\n",
       "Realized srs           4.994309\n",
       "Portfolio Value      289.450067\n",
       "Portfolio E Score    517.743991\n",
       "dtype: float64"
      ]
     },
     "metadata": {},
     "output_type": "display_data"
    }
   ],
   "source": [
    "display(BacktestDF.mean())"
   ]
  },
  {
   "cell_type": "code",
   "execution_count": null,
   "id": "b22da9ef",
   "metadata": {},
   "outputs": [],
   "source": [
    "\"\"\"\n",
    "max_sharpe_ret = eff[0]\n",
    "max_sharpe_vol = eff[1]\n",
    "max_sharpe_sr = eff[2]\n",
    "portfolio_esg = eff[3]\n",
    "print(portfolio_esg)\n",
    "fron=eff[4]\n",
    "mu = eff[5]\n",
    "stdevs_ = eff[6]\n",
    "\"\"\""
   ]
  },
  {
   "cell_type": "code",
   "execution_count": null,
   "id": "a69071b9",
   "metadata": {},
   "outputs": [],
   "source": [
    "\"\"\"\n",
    "plt.scatter(portfolio_esg, max_sharpe_sr)\n",
    "plt.xlabel('Weighted Enviroment score')\n",
    "plt.ylabel('Sharpe Ratio')\n",
    "\"\"\""
   ]
  },
  {
   "cell_type": "markdown",
   "id": "70cc548b",
   "metadata": {},
   "source": [
    "#### Martin kode"
   ]
  },
  {
   "cell_type": "code",
   "execution_count": null,
   "id": "308f2c3e",
   "metadata": {},
   "outputs": [],
   "source": [
    "def check_for_zeros(df):\n",
    "    # Check if any element in the DataFrame is equal to 0\n",
    "    if (df == 0).any().any():\n",
    "        print(\"There are 0's in the DataFrame.\")\n",
    "    else:\n",
    "        print(\"There are no 0's in the DataFrame.\")\n",
    "\n",
    "def has_infinite(df):\n",
    "    \"\"\"\n",
    "    Returns True if the DataFrame contains any infinite value, otherwise False.\n",
    "    \"\"\"\n",
    "    return not np.isfinite(df).all().all()"
   ]
  },
  {
   "cell_type": "code",
   "execution_count": null,
   "id": "20de717e",
   "metadata": {},
   "outputs": [],
   "source": [
    "check_for_zeros(returns.cov())\n",
    "has_infinite(returns.cov())"
   ]
  },
  {
   "cell_type": "code",
   "execution_count": null,
   "id": "70b0f081",
   "metadata": {},
   "outputs": [],
   "source": [
    "mean_matrix = np.array(returns.mean())\n",
    "cov_matrix = np.array(returns.cov())\n",
    "#print(cov_matrix )\n",
    "\n",
    "\n",
    "# Permanently changes the pandas settings\n",
    "#pd.set_option('display.max_rows', None)\n",
    "#pd.set_option('display.max_columns', None)\n",
    "#pd.set_option('display.width', None)\n",
    "#pd.set_option('display.max_colwidth', -1)\n",
    " \n",
    "# All dataframes hereafter reflect these changes.\n",
    "#display(returns.cov())\n",
    "#display(returns.mean())\n",
    " \n",
    "# Resets the options\n",
    "#pd.reset_option('all')\n"
   ]
  },
  {
   "cell_type": "code",
   "execution_count": null,
   "id": "61c43668",
   "metadata": {},
   "outputs": [],
   "source": [
    "#S = np.array([[185, 86.5, 80, 20],[86.5, 196, 76, 13.5],[80, 76, 411, -19],[20, 13.5, -19, 25]])*100\n",
    "S = cov_matrix\n",
    "#zbar = np.array([14, 12, 15, 7])\n",
    "zbar = mean_matrix\n",
    "unity = np.ones(len(zbar))\n",
    "\n",
    "# Calculate standard deviations of securities\n",
    "stdevs = np.sqrt(np.diag(S))\n",
    "\n",
    "# Calculate parameters A, B, C, and D for efficient frontier\n",
    "A = np.dot(unity.T, np.dot(np.linalg.inv(S), unity))\n",
    "print(A)\n",
    "B = np.dot(unity.T, np.dot(np.linalg.inv(S), zbar))\n",
    "print(B)\n",
    "C = np.dot(zbar.T, np.dot(np.linalg.inv(S), zbar))\n",
    "print(C)\n",
    "D = A*C - B**2\n",
    "print(D)\n",
    "\n",
    "# Define mu values for efficient frontier\n",
    "mu = np.linspace(np.min(zbar), np.max(zbar), 100)\n",
    "\n",
    "# Calculate minimum variance and standard deviation for each mu\n",
    "minvar = ((A * mu ** 2) - 2 * B * mu + C) / D\n",
    "# minvar[minvar < 0] = 0    # Ensure minvar is non-negative\n",
    "minstd = np.sqrt(minvar)\n",
    "\n",
    "# Repeat stdevs and zbar 300 times to match length of mu and minstd\n",
    "stdevs_ = np.repeat(stdevs[:, np.newaxis], 100, axis=1)\n",
    "zbar_ = np.repeat(zbar[:, np.newaxis], 100, axis=1)\n",
    "\n",
    "# Plot efficient frontier and individual securities\n",
    "plt.plot(minstd, mu, label='Efficient Frontier')\n",
    "plt.plot(stdevs_, zbar_, '*', label='Individual Securities')\n",
    "#plt.legend()\n",
    "plt.title('Efficient Frontier with Individual Securities', fontsize=18)\n",
    "plt.ylabel('Expected Return (%)', fontsize=18)\n",
    "plt.xlabel('Standard Deviation (%)', fontsize=18)\n",
    "plt.show()"
   ]
  },
  {
   "cell_type": "code",
   "execution_count": null,
   "id": "66a52522",
   "metadata": {
    "scrolled": true
   },
   "outputs": [],
   "source": [
    "from sklearn.covariance import ShrunkCovariance\n",
    "\n",
    "# Generate some random data for illustration\n",
    "\n",
    "# Estimate the shrinkage covariance matrix using the Ledoit-Wolf method\n",
    "shrinkage_cov = ShrunkCovariance(shrinkage=0.1).fit(test).covariance_\n",
    "\n",
    "print(\"Shrinkage Covariance Matrix:\")\n",
    "print(shrinkage_cov)"
   ]
  },
  {
   "cell_type": "code",
   "execution_count": 17,
   "id": "2b0cf02a",
   "metadata": {},
   "outputs": [],
   "source": [
    "def backtest(rf, esg, returns, score, window, num):\n",
    "    #Find the how many periods the data has\n",
    "    n = returns.shape[0]\n",
    "    \n",
    "    #Create a list with the initial value 100. This is used to see how much an investment of 100 would have developed over the periods\n",
    "    portfolio_value = [100]\n",
    "    \n",
    "    #Create a bunch of lists where values will be stored\n",
    "    expected_srs = []\n",
    "    expected_stds = []\n",
    "    expected_returns = []\n",
    "    \n",
    "    realized_srs = []\n",
    "    realized_stds = []\n",
    "    realized_returns = []\n",
    "    \n",
    "    portfolio_esgs = []\n",
    "    \n",
    "    #Loop over the periods\n",
    "    for i in range(n-window-1):\n",
    "        #The current window\n",
    "        rwindow = returns[i:i+window]\n",
    "        \n",
    "        #Create a dataframe of Sharpe ratios, then using the top 'num' stocks to select for investing\n",
    "        SRs = (rwindow.mean()-rf)/rwindow.std()\n",
    "        df = pd.DataFrame(SRs)\n",
    "        df = df.rename(columns={0: 'Sharperatio'})\n",
    "        df_sorted_desc = df.sort_values(by='Sharperatio', ascending=False)\n",
    "        names = df_sorted_desc.head(num).index.tolist()\n",
    "        num_window = rwindow[names]\n",
    "\n",
    "        #Get the mean return of the stocks and the covariance matrix\n",
    "        mu = get_cov_mean_matrices(num_window)[1]\n",
    "        cov = get_cov_mean_matrices(num_window)[2]\n",
    "        \n",
    "        #Set the target, used for the efficient frontier module \n",
    "        target = np.linspace(np.min(mu), np.max(mu), 100)\n",
    "        \n",
    "        #Create the bounds\n",
    "        bounds = [(0, 1) for _ in range(len(mu))]\n",
    "        \n",
    "        #Alot of computation here is unessecary for the backtest. \n",
    "        max_sharpe_ret, max_sharpe_vol, max_sharpe_sr, portfolio_esg, frontier, mu, stdevs , w_opt  = efficient_frontier(mu, cov, target, rf, bounds, esg, num_window, score,lower_bound)\n",
    "        \n",
    "        #Get the mean returns for the next period\n",
    "        next_mu_window = returns[i+window:i+window+1]\n",
    "        next_mu_names = next_mu_window[names]\n",
    "        next_mu = get_cov_mean_matrices(next_mu_names)[1]\n",
    "        \n",
    "        #Get the covariance matrix from the current period i to the next i+1\n",
    "        next_cov_window = returns[i+window-1:i+window+1]\n",
    "        next_cov_names = next_cov_window[names]\n",
    "        cov = get_cov_mean_matrices(next_cov_names)[2]\n",
    "        \n",
    "        #check_for_zeros(rwindow)\n",
    "        #check_for_zeros(cov)\n",
    "        \n",
    "        #Compute the return if 100% was invested in the weights w_opt and held for the next period i+1\n",
    "        realized_return = np.sum(next_mu *w_opt)\n",
    "        realized_std = np.sqrt(np.dot(w_opt.T, np.dot(cov, w_opt)))\n",
    "        SR = (realized_return-rf)/realized_std\n",
    "        \n",
    "        portfolio_value.append(portfolio_value[i]*(1+realized_return))\n",
    "        \n",
    "        #A bunch of prints to see the results while code is running\n",
    "        print(\"For window: \", i)\n",
    "        print(\"Expected return: \", max_sharpe_ret)\n",
    "        print(\"Realized return: \", realized_return)\n",
    "        print(\"Expected volatility: \", max_sharpe_vol)\n",
    "        print(\"Realized volatility: \", realized_std)\n",
    "        print(\"Portfolio value: \",portfolio_value[i]*(1+realized_return))\n",
    "        print(\"\\n\")\n",
    "        \n",
    "        #Append results to the lists\n",
    "        expected_srs.append(max_sharpe_sr)\n",
    "        expected_stds.append(max_sharpe_vol)\n",
    "        expected_returns.append(max_sharpe_ret)\n",
    "        \n",
    "        realized_srs.append(SR)\n",
    "        realized_stds.append(realized_std)\n",
    "        realized_returns.append(realized_return)\n",
    "        \n",
    "        portfolio_esgs.append(portfolio_esg)\n",
    "\n",
    "    #Reshape the lists such that they are column vectors\n",
    "    col1 = np.reshape(expected_returns, (-1, 1))\n",
    "    col2 = np.reshape(realized_returns, (-1, 1))\n",
    "    col3 = np.reshape(expected_stds, (-1, 1))\n",
    "    col4 = np.reshape(realized_stds, (-1, 1))\n",
    "    col5 = np.reshape(expected_srs, (-1, 1))\n",
    "    col6 = np.reshape(realized_srs, (-1, 1))\n",
    "    col7 = np.reshape(portfolio_value[1:], (-1, 1))\n",
    "    col8 = np.reshape(portfolio_esgs,(-1,1))\n",
    "\n",
    "\n",
    "    # Combine the column vectors into a single NumPy array\n",
    "    data = np.hstack((col1, col2, col3, col4, col5, col6, col7,col8))\n",
    "\n",
    "    # Create a Pandas DataFrame from the NumPy array\n",
    "    df = pd.DataFrame(data, columns=['Expected returns', 'Realized returns', 'Expected stds', 'Realized stds', 'Expected srs', 'Realized srs', 'Portfolio Value','Portfolio E Score'])\n",
    "    \n",
    "    return df"
   ]
  },
  {
   "cell_type": "code",
   "execution_count": 14,
   "id": "7f3c420f",
   "metadata": {},
   "outputs": [],
   "source": [
    "rf = 0.0\n",
    "num = 20"
   ]
  },
  {
   "cell_type": "code",
   "execution_count": 15,
   "id": "a84cc7f8",
   "metadata": {
    "scrolled": true
   },
   "outputs": [
    {
     "data": {
      "text/plain": [
       "(20, 334)"
      ]
     },
     "execution_count": 15,
     "metadata": {},
     "output_type": "execute_result"
    }
   ],
   "source": [
    "returns.shape"
   ]
  },
  {
   "cell_type": "code",
   "execution_count": 18,
   "id": "4f07a3fd",
   "metadata": {
    "scrolled": false
   },
   "outputs": [
    {
     "name": "stdout",
     "output_type": "stream",
     "text": [
      "Optimization terminated successfully    (Exit mode 0)\n",
      "            Current function value: -23.259164474285054\n",
      "            Iterations: 27\n",
      "            Function evaluations: 597\n",
      "            Gradient evaluations: 27\n",
      "For window:  0\n",
      "Expected return:  0.39655493248261253\n",
      "Realized return:  0.24674934913039193\n",
      "Expected volatility:  0.017187225404550463\n",
      "Realized volatility:  0.0695031956400795\n",
      "Portfolio value:  124.67493491303921\n",
      "\n",
      "\n"
     ]
    },
    {
     "name": "stderr",
     "output_type": "stream",
     "text": [
      "C:\\Users\\Bruger\\anaconda3\\lib\\site-packages\\sklearn\\covariance\\_empirical_covariance.py:86: UserWarning: Only one sample available. You may want to reshape your data array\n",
      "  warnings.warn(\n",
      "C:\\Users\\Bruger\\anaconda3\\lib\\site-packages\\pandas\\core\\frame.py:9673: RuntimeWarning: Degrees of freedom <= 0 for slice\n",
      "  base_cov = np.cov(mat.T, ddof=ddof)\n",
      "C:\\Users\\Bruger\\anaconda3\\lib\\site-packages\\numpy\\lib\\function_base.py:2680: RuntimeWarning: divide by zero encountered in true_divide\n",
      "  c *= np.true_divide(1, fact)\n",
      "C:\\Users\\Bruger\\anaconda3\\lib\\site-packages\\numpy\\lib\\function_base.py:2680: RuntimeWarning: invalid value encountered in multiply\n",
      "  c *= np.true_divide(1, fact)\n"
     ]
    },
    {
     "name": "stdout",
     "output_type": "stream",
     "text": [
      "Optimization terminated successfully    (Exit mode 0)\n",
      "            Current function value: -26.726214926655093\n",
      "            Iterations: 37\n",
      "            Function evaluations: 830\n",
      "            Gradient evaluations: 37\n",
      "For window:  1\n",
      "Expected return:  0.4123452575044163\n",
      "Realized return:  0.17577364217766156\n",
      "Expected volatility:  0.015495724474562702\n",
      "Realized volatility:  0.1058182740938144\n",
      "Portfolio value:  146.58950231096702\n",
      "\n",
      "\n"
     ]
    },
    {
     "name": "stderr",
     "output_type": "stream",
     "text": [
      "C:\\Users\\Bruger\\anaconda3\\lib\\site-packages\\sklearn\\covariance\\_empirical_covariance.py:86: UserWarning: Only one sample available. You may want to reshape your data array\n",
      "  warnings.warn(\n",
      "C:\\Users\\Bruger\\anaconda3\\lib\\site-packages\\pandas\\core\\frame.py:9673: RuntimeWarning: Degrees of freedom <= 0 for slice\n",
      "  base_cov = np.cov(mat.T, ddof=ddof)\n",
      "C:\\Users\\Bruger\\anaconda3\\lib\\site-packages\\numpy\\lib\\function_base.py:2680: RuntimeWarning: divide by zero encountered in true_divide\n",
      "  c *= np.true_divide(1, fact)\n",
      "C:\\Users\\Bruger\\anaconda3\\lib\\site-packages\\numpy\\lib\\function_base.py:2680: RuntimeWarning: invalid value encountered in multiply\n",
      "  c *= np.true_divide(1, fact)\n"
     ]
    },
    {
     "name": "stdout",
     "output_type": "stream",
     "text": [
      "Optimization terminated successfully    (Exit mode 0)\n",
      "            Current function value: -12.753205888041812\n",
      "            Iterations: 24\n",
      "            Function evaluations: 528\n",
      "            Gradient evaluations: 24\n",
      "For window:  2\n",
      "Expected return:  0.2027794142180523\n",
      "Realized return:  0.1982528082054532\n",
      "Expected volatility:  0.016084872830560672\n",
      "Realized volatility:  0.02029575510947752\n",
      "Portfolio value:  175.65128279755604\n",
      "\n",
      "\n"
     ]
    },
    {
     "name": "stderr",
     "output_type": "stream",
     "text": [
      "C:\\Users\\Bruger\\anaconda3\\lib\\site-packages\\sklearn\\covariance\\_empirical_covariance.py:86: UserWarning: Only one sample available. You may want to reshape your data array\n",
      "  warnings.warn(\n",
      "C:\\Users\\Bruger\\anaconda3\\lib\\site-packages\\pandas\\core\\frame.py:9673: RuntimeWarning: Degrees of freedom <= 0 for slice\n",
      "  base_cov = np.cov(mat.T, ddof=ddof)\n",
      "C:\\Users\\Bruger\\anaconda3\\lib\\site-packages\\numpy\\lib\\function_base.py:2680: RuntimeWarning: divide by zero encountered in true_divide\n",
      "  c *= np.true_divide(1, fact)\n",
      "C:\\Users\\Bruger\\anaconda3\\lib\\site-packages\\numpy\\lib\\function_base.py:2680: RuntimeWarning: invalid value encountered in multiply\n",
      "  c *= np.true_divide(1, fact)\n"
     ]
    },
    {
     "name": "stdout",
     "output_type": "stream",
     "text": [
      "Optimization terminated successfully    (Exit mode 0)\n",
      "            Current function value: -39.47739385247676\n",
      "            Iterations: 34\n",
      "            Function evaluations: 768\n",
      "            Gradient evaluations: 34\n",
      "For window:  3\n",
      "Expected return:  0.25814388687804446\n",
      "Realized return:  -0.12060522595605297\n",
      "Expected volatility:  0.0068580841857353875\n",
      "Realized volatility:  0.1691703411900035\n",
      "Portfolio value:  154.46682014628624\n",
      "\n",
      "\n"
     ]
    },
    {
     "name": "stderr",
     "output_type": "stream",
     "text": [
      "C:\\Users\\Bruger\\anaconda3\\lib\\site-packages\\sklearn\\covariance\\_empirical_covariance.py:86: UserWarning: Only one sample available. You may want to reshape your data array\n",
      "  warnings.warn(\n",
      "C:\\Users\\Bruger\\anaconda3\\lib\\site-packages\\pandas\\core\\frame.py:9673: RuntimeWarning: Degrees of freedom <= 0 for slice\n",
      "  base_cov = np.cov(mat.T, ddof=ddof)\n",
      "C:\\Users\\Bruger\\anaconda3\\lib\\site-packages\\numpy\\lib\\function_base.py:2680: RuntimeWarning: divide by zero encountered in true_divide\n",
      "  c *= np.true_divide(1, fact)\n",
      "C:\\Users\\Bruger\\anaconda3\\lib\\site-packages\\numpy\\lib\\function_base.py:2680: RuntimeWarning: invalid value encountered in multiply\n",
      "  c *= np.true_divide(1, fact)\n"
     ]
    },
    {
     "name": "stdout",
     "output_type": "stream",
     "text": [
      "Optimization terminated successfully    (Exit mode 0)\n",
      "            Current function value: -9.444448523048644\n",
      "            Iterations: 28\n",
      "            Function evaluations: 616\n",
      "            Gradient evaluations: 28\n",
      "For window:  4\n",
      "Expected return:  0.2265748511955688\n",
      "Realized return:  0.1356485113662684\n",
      "Expected volatility:  0.02405299934782633\n",
      "Realized volatility:  0.03662722359212721\n",
      "Portfolio value:  175.42001435461108\n",
      "\n",
      "\n"
     ]
    },
    {
     "name": "stderr",
     "output_type": "stream",
     "text": [
      "C:\\Users\\Bruger\\anaconda3\\lib\\site-packages\\sklearn\\covariance\\_empirical_covariance.py:86: UserWarning: Only one sample available. You may want to reshape your data array\n",
      "  warnings.warn(\n",
      "C:\\Users\\Bruger\\anaconda3\\lib\\site-packages\\pandas\\core\\frame.py:9673: RuntimeWarning: Degrees of freedom <= 0 for slice\n",
      "  base_cov = np.cov(mat.T, ddof=ddof)\n",
      "C:\\Users\\Bruger\\anaconda3\\lib\\site-packages\\numpy\\lib\\function_base.py:2680: RuntimeWarning: divide by zero encountered in true_divide\n",
      "  c *= np.true_divide(1, fact)\n",
      "C:\\Users\\Bruger\\anaconda3\\lib\\site-packages\\numpy\\lib\\function_base.py:2680: RuntimeWarning: invalid value encountered in multiply\n",
      "  c *= np.true_divide(1, fact)\n"
     ]
    },
    {
     "name": "stdout",
     "output_type": "stream",
     "text": [
      "Optimization terminated successfully    (Exit mode 0)\n",
      "            Current function value: -10.951185539379932\n",
      "            Iterations: 31\n",
      "            Function evaluations: 689\n",
      "            Gradient evaluations: 31\n",
      "For window:  5\n",
      "Expected return:  0.20198898481192548\n",
      "Realized return:  0.3210681399569872\n",
      "Expected volatility:  0.018485914586838226\n",
      "Realized volatility:  0.0546019386521204\n",
      "Portfolio value:  231.74179207467407\n",
      "\n",
      "\n"
     ]
    },
    {
     "name": "stderr",
     "output_type": "stream",
     "text": [
      "C:\\Users\\Bruger\\anaconda3\\lib\\site-packages\\sklearn\\covariance\\_empirical_covariance.py:86: UserWarning: Only one sample available. You may want to reshape your data array\n",
      "  warnings.warn(\n",
      "C:\\Users\\Bruger\\anaconda3\\lib\\site-packages\\pandas\\core\\frame.py:9673: RuntimeWarning: Degrees of freedom <= 0 for slice\n",
      "  base_cov = np.cov(mat.T, ddof=ddof)\n",
      "C:\\Users\\Bruger\\anaconda3\\lib\\site-packages\\numpy\\lib\\function_base.py:2680: RuntimeWarning: divide by zero encountered in true_divide\n",
      "  c *= np.true_divide(1, fact)\n",
      "C:\\Users\\Bruger\\anaconda3\\lib\\site-packages\\numpy\\lib\\function_base.py:2680: RuntimeWarning: invalid value encountered in multiply\n",
      "  c *= np.true_divide(1, fact)\n"
     ]
    },
    {
     "name": "stdout",
     "output_type": "stream",
     "text": [
      "Optimization terminated successfully    (Exit mode 0)\n",
      "            Current function value: -8.704538255463792\n",
      "            Iterations: 20\n",
      "            Function evaluations: 437\n",
      "            Gradient evaluations: 20\n",
      "For window:  6\n",
      "Expected return:  0.22697080251466095\n",
      "Realized return:  0.1969514122625974\n",
      "Expected volatility:  0.026121839002872727\n",
      "Realized volatility:  0.03345916500666306\n",
      "Portfolio value:  277.38366530404636\n",
      "\n",
      "\n"
     ]
    },
    {
     "name": "stderr",
     "output_type": "stream",
     "text": [
      "C:\\Users\\Bruger\\anaconda3\\lib\\site-packages\\sklearn\\covariance\\_empirical_covariance.py:86: UserWarning: Only one sample available. You may want to reshape your data array\n",
      "  warnings.warn(\n",
      "C:\\Users\\Bruger\\anaconda3\\lib\\site-packages\\pandas\\core\\frame.py:9673: RuntimeWarning: Degrees of freedom <= 0 for slice\n",
      "  base_cov = np.cov(mat.T, ddof=ddof)\n",
      "C:\\Users\\Bruger\\anaconda3\\lib\\site-packages\\numpy\\lib\\function_base.py:2680: RuntimeWarning: divide by zero encountered in true_divide\n",
      "  c *= np.true_divide(1, fact)\n",
      "C:\\Users\\Bruger\\anaconda3\\lib\\site-packages\\numpy\\lib\\function_base.py:2680: RuntimeWarning: invalid value encountered in multiply\n",
      "  c *= np.true_divide(1, fact)\n"
     ]
    },
    {
     "name": "stdout",
     "output_type": "stream",
     "text": [
      "Optimization terminated successfully    (Exit mode 0)\n",
      "            Current function value: -8.334685745268734\n",
      "            Iterations: 20\n",
      "            Function evaluations: 435\n",
      "            Gradient evaluations: 20\n",
      "For window:  7\n",
      "Expected return:  0.22949930485828995\n",
      "Realized return:  0.20574780051622685\n",
      "Expected volatility:  0.02762892993721064\n",
      "Realized volatility:  0.025044647971197712\n",
      "Portfolio value:  334.4547443394831\n",
      "\n",
      "\n"
     ]
    },
    {
     "name": "stderr",
     "output_type": "stream",
     "text": [
      "C:\\Users\\Bruger\\anaconda3\\lib\\site-packages\\sklearn\\covariance\\_empirical_covariance.py:86: UserWarning: Only one sample available. You may want to reshape your data array\n",
      "  warnings.warn(\n",
      "C:\\Users\\Bruger\\anaconda3\\lib\\site-packages\\pandas\\core\\frame.py:9673: RuntimeWarning: Degrees of freedom <= 0 for slice\n",
      "  base_cov = np.cov(mat.T, ddof=ddof)\n",
      "C:\\Users\\Bruger\\anaconda3\\lib\\site-packages\\numpy\\lib\\function_base.py:2680: RuntimeWarning: divide by zero encountered in true_divide\n",
      "  c *= np.true_divide(1, fact)\n",
      "C:\\Users\\Bruger\\anaconda3\\lib\\site-packages\\numpy\\lib\\function_base.py:2680: RuntimeWarning: invalid value encountered in multiply\n",
      "  c *= np.true_divide(1, fact)\n"
     ]
    },
    {
     "name": "stdout",
     "output_type": "stream",
     "text": [
      "Optimization terminated successfully    (Exit mode 0)\n",
      "            Current function value: -16.282727903775477\n",
      "            Iterations: 34\n",
      "            Function evaluations: 752\n",
      "            Gradient evaluations: 34\n",
      "For window:  8\n",
      "Expected return:  0.24436807453622886\n",
      "Realized return:  0.31117122514168044\n",
      "Expected volatility:  0.015097774172906881\n",
      "Realized volatility:  0.03527271947027912\n",
      "Portfolio value:  438.5274368900476\n",
      "\n",
      "\n"
     ]
    },
    {
     "name": "stderr",
     "output_type": "stream",
     "text": [
      "C:\\Users\\Bruger\\anaconda3\\lib\\site-packages\\sklearn\\covariance\\_empirical_covariance.py:86: UserWarning: Only one sample available. You may want to reshape your data array\n",
      "  warnings.warn(\n",
      "C:\\Users\\Bruger\\anaconda3\\lib\\site-packages\\pandas\\core\\frame.py:9673: RuntimeWarning: Degrees of freedom <= 0 for slice\n",
      "  base_cov = np.cov(mat.T, ddof=ddof)\n",
      "C:\\Users\\Bruger\\anaconda3\\lib\\site-packages\\numpy\\lib\\function_base.py:2680: RuntimeWarning: divide by zero encountered in true_divide\n",
      "  c *= np.true_divide(1, fact)\n",
      "C:\\Users\\Bruger\\anaconda3\\lib\\site-packages\\numpy\\lib\\function_base.py:2680: RuntimeWarning: invalid value encountered in multiply\n",
      "  c *= np.true_divide(1, fact)\n"
     ]
    },
    {
     "name": "stdout",
     "output_type": "stream",
     "text": [
      "Optimization terminated successfully    (Exit mode 0)\n",
      "            Current function value: -23.858490997702113\n",
      "            Iterations: 34\n",
      "            Function evaluations: 755\n",
      "            Gradient evaluations: 34\n",
      "For window:  9\n",
      "Expected return:  0.260994619600609\n",
      "Realized return:  0.19272835417075349\n",
      "Expected volatility:  0.011122927942414372\n",
      "Realized volatility:  0.03533182078989698\n",
      "Portfolio value:  523.0441080605855\n",
      "\n",
      "\n"
     ]
    },
    {
     "name": "stderr",
     "output_type": "stream",
     "text": [
      "C:\\Users\\Bruger\\anaconda3\\lib\\site-packages\\sklearn\\covariance\\_empirical_covariance.py:86: UserWarning: Only one sample available. You may want to reshape your data array\n",
      "  warnings.warn(\n",
      "C:\\Users\\Bruger\\anaconda3\\lib\\site-packages\\pandas\\core\\frame.py:9673: RuntimeWarning: Degrees of freedom <= 0 for slice\n",
      "  base_cov = np.cov(mat.T, ddof=ddof)\n",
      "C:\\Users\\Bruger\\anaconda3\\lib\\site-packages\\numpy\\lib\\function_base.py:2680: RuntimeWarning: divide by zero encountered in true_divide\n",
      "  c *= np.true_divide(1, fact)\n",
      "C:\\Users\\Bruger\\anaconda3\\lib\\site-packages\\numpy\\lib\\function_base.py:2680: RuntimeWarning: invalid value encountered in multiply\n",
      "  c *= np.true_divide(1, fact)\n"
     ]
    },
    {
     "name": "stdout",
     "output_type": "stream",
     "text": [
      "Optimization terminated successfully    (Exit mode 0)\n",
      "            Current function value: -26.309688618383415\n",
      "            Iterations: 35\n",
      "            Function evaluations: 781\n",
      "            Gradient evaluations: 35\n",
      "For window:  10\n",
      "Expected return:  0.26193111698269245\n",
      "Realized return:  0.05094918078699037\n",
      "Expected volatility:  0.010043748156757498\n",
      "Realized volatility:  0.09355298542639362\n",
      "Portfolio value:  549.6927768817344\n",
      "\n",
      "\n"
     ]
    },
    {
     "name": "stderr",
     "output_type": "stream",
     "text": [
      "C:\\Users\\Bruger\\anaconda3\\lib\\site-packages\\sklearn\\covariance\\_empirical_covariance.py:86: UserWarning: Only one sample available. You may want to reshape your data array\n",
      "  warnings.warn(\n",
      "C:\\Users\\Bruger\\anaconda3\\lib\\site-packages\\pandas\\core\\frame.py:9673: RuntimeWarning: Degrees of freedom <= 0 for slice\n",
      "  base_cov = np.cov(mat.T, ddof=ddof)\n",
      "C:\\Users\\Bruger\\anaconda3\\lib\\site-packages\\numpy\\lib\\function_base.py:2680: RuntimeWarning: divide by zero encountered in true_divide\n",
      "  c *= np.true_divide(1, fact)\n",
      "C:\\Users\\Bruger\\anaconda3\\lib\\site-packages\\numpy\\lib\\function_base.py:2680: RuntimeWarning: invalid value encountered in multiply\n",
      "  c *= np.true_divide(1, fact)\n"
     ]
    },
    {
     "name": "stdout",
     "output_type": "stream",
     "text": [
      "Optimization terminated successfully    (Exit mode 0)\n",
      "            Current function value: -25.741661179709542\n",
      "            Iterations: 35\n",
      "            Function evaluations: 778\n",
      "            Gradient evaluations: 35\n",
      "For window:  11\n",
      "Expected return:  0.2627950188153652\n",
      "Realized return:  0.06425557442625054\n",
      "Expected volatility:  0.010237682282620954\n",
      "Realized volatility:  0.0896534569652951\n",
      "Portfolio value:  585.013602018231\n",
      "\n",
      "\n"
     ]
    },
    {
     "name": "stderr",
     "output_type": "stream",
     "text": [
      "C:\\Users\\Bruger\\anaconda3\\lib\\site-packages\\sklearn\\covariance\\_empirical_covariance.py:86: UserWarning: Only one sample available. You may want to reshape your data array\n",
      "  warnings.warn(\n",
      "C:\\Users\\Bruger\\anaconda3\\lib\\site-packages\\pandas\\core\\frame.py:9673: RuntimeWarning: Degrees of freedom <= 0 for slice\n",
      "  base_cov = np.cov(mat.T, ddof=ddof)\n",
      "C:\\Users\\Bruger\\anaconda3\\lib\\site-packages\\numpy\\lib\\function_base.py:2680: RuntimeWarning: divide by zero encountered in true_divide\n",
      "  c *= np.true_divide(1, fact)\n",
      "C:\\Users\\Bruger\\anaconda3\\lib\\site-packages\\numpy\\lib\\function_base.py:2680: RuntimeWarning: invalid value encountered in multiply\n",
      "  c *= np.true_divide(1, fact)\n"
     ]
    },
    {
     "name": "stdout",
     "output_type": "stream",
     "text": [
      "Optimization terminated successfully    (Exit mode 0)\n",
      "            Current function value: -21.373164181807468\n",
      "            Iterations: 35\n",
      "            Function evaluations: 782\n",
      "            Gradient evaluations: 35\n",
      "For window:  12\n",
      "Expected return:  0.21367722139912187\n",
      "Realized return:  0.1925308626903645\n",
      "Expected volatility:  0.010295081794057118\n",
      "Realized volatility:  0.011104666855550392\n",
      "Portfolio value:  697.6467755003987\n",
      "\n",
      "\n"
     ]
    },
    {
     "name": "stderr",
     "output_type": "stream",
     "text": [
      "C:\\Users\\Bruger\\anaconda3\\lib\\site-packages\\sklearn\\covariance\\_empirical_covariance.py:86: UserWarning: Only one sample available. You may want to reshape your data array\n",
      "  warnings.warn(\n",
      "C:\\Users\\Bruger\\anaconda3\\lib\\site-packages\\pandas\\core\\frame.py:9673: RuntimeWarning: Degrees of freedom <= 0 for slice\n",
      "  base_cov = np.cov(mat.T, ddof=ddof)\n",
      "C:\\Users\\Bruger\\anaconda3\\lib\\site-packages\\numpy\\lib\\function_base.py:2680: RuntimeWarning: divide by zero encountered in true_divide\n",
      "  c *= np.true_divide(1, fact)\n",
      "C:\\Users\\Bruger\\anaconda3\\lib\\site-packages\\numpy\\lib\\function_base.py:2680: RuntimeWarning: invalid value encountered in multiply\n",
      "  c *= np.true_divide(1, fact)\n"
     ]
    },
    {
     "name": "stdout",
     "output_type": "stream",
     "text": [
      "Optimization terminated successfully    (Exit mode 0)\n",
      "            Current function value: -13.460229405215756\n",
      "            Iterations: 22\n",
      "            Function evaluations: 485\n",
      "            Gradient evaluations: 22\n",
      "For window:  13\n",
      "Expected return:  0.20815374975224032\n",
      "Realized return:  0.06870172000440958\n",
      "Expected volatility:  0.015548430090787022\n",
      "Realized volatility:  0.06840705267957234\n",
      "Portfolio value:  745.5763089328062\n",
      "\n",
      "\n"
     ]
    },
    {
     "name": "stderr",
     "output_type": "stream",
     "text": [
      "C:\\Users\\Bruger\\anaconda3\\lib\\site-packages\\sklearn\\covariance\\_empirical_covariance.py:86: UserWarning: Only one sample available. You may want to reshape your data array\n",
      "  warnings.warn(\n",
      "C:\\Users\\Bruger\\anaconda3\\lib\\site-packages\\pandas\\core\\frame.py:9673: RuntimeWarning: Degrees of freedom <= 0 for slice\n",
      "  base_cov = np.cov(mat.T, ddof=ddof)\n",
      "C:\\Users\\Bruger\\anaconda3\\lib\\site-packages\\numpy\\lib\\function_base.py:2680: RuntimeWarning: divide by zero encountered in true_divide\n",
      "  c *= np.true_divide(1, fact)\n",
      "C:\\Users\\Bruger\\anaconda3\\lib\\site-packages\\numpy\\lib\\function_base.py:2680: RuntimeWarning: invalid value encountered in multiply\n",
      "  c *= np.true_divide(1, fact)\n"
     ]
    }
   ],
   "source": [
    "BacktestDF = backtest(rf,esg,returns,score, 5 ,num)"
   ]
  },
  {
   "cell_type": "code",
   "execution_count": null,
   "id": "8aa1ed7a",
   "metadata": {
    "scrolled": false
   },
   "outputs": [],
   "source": [
    "display(BacktestDF)"
   ]
  },
  {
   "cell_type": "code",
   "execution_count": null,
   "id": "dd9cd74c",
   "metadata": {},
   "outputs": [],
   "source": [
    "display(BacktestDF.mean())"
   ]
  },
  {
   "cell_type": "markdown",
   "id": "cd8cbc6b",
   "metadata": {},
   "source": [
    "# Det er fucked. De top 20 vi vælger bliver valgt ud fra hele perioden og ikke den lille periode?"
   ]
  },
  {
   "cell_type": "markdown",
   "id": "5a9f59bf",
   "metadata": {},
   "source": [
    "# Man skal tage vinduet af det store datasæt, lave beregningerne på dem og så fucking endelig lave rangeringeing og vælge aktier"
   ]
  },
  {
   "cell_type": "markdown",
   "id": "3f1801b5",
   "metadata": {},
   "source": [
    "# Efficient frontier test"
   ]
  },
  {
   "cell_type": "markdown",
   "id": "66782996",
   "metadata": {},
   "source": [
    "# Greenwashing"
   ]
  },
  {
   "cell_type": "code",
   "execution_count": null,
   "id": "6e3de4b9",
   "metadata": {
    "scrolled": true
   },
   "outputs": [],
   "source": [
    "weights, sharpe, realized_return, realized_std, ESG_score = greenwashing(returns,esg,400,0.0,score)"
   ]
  },
  {
   "cell_type": "code",
   "execution_count": null,
   "id": "45612a79",
   "metadata": {},
   "outputs": [],
   "source": [
    "#ESG_fron = ESG_efficient_frontier(file_path, column_name, column_value, prefixes, start_date, end_date, time='y', operator=operator, esg=esg, rf=rf, score=score, num=num)"
   ]
  }
 ],
 "metadata": {
  "kernelspec": {
   "display_name": "Python 3 (ipykernel)",
   "language": "python",
   "name": "python3"
  },
  "language_info": {
   "codemirror_mode": {
    "name": "ipython",
    "version": 3
   },
   "file_extension": ".py",
   "mimetype": "text/x-python",
   "name": "python",
   "nbconvert_exporter": "python",
   "pygments_lexer": "ipython3",
   "version": "3.9.12"
  }
 },
 "nbformat": 4,
 "nbformat_minor": 5
}
