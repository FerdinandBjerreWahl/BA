{
 "cells": [
  {
   "cell_type": "markdown",
   "id": "1e8c9904",
   "metadata": {},
   "source": [
    "#### Mangler lib"
   ]
  },
  {
   "cell_type": "code",
   "execution_count": null,
   "id": "1c1d731e",
   "metadata": {},
   "outputs": [],
   "source": [
    "def check_for_zeros(df):\n",
    "    # Check if any element in the DataFrame is equal to 0\n",
    "    if (df == 0).any().any():\n",
    "        print(\"There are 0's in the DataFrame.\")\n",
    "    else:\n",
    "        print(\"There are no 0's in the DataFrame.\")\n",
    "\n",
    "def has_infinite(df):\n",
    "    \"\"\"\n",
    "    Returns True if the DataFrame contains any infinite value, otherwise False.\n",
    "    \"\"\"\n",
    "    return not np.isfinite(df).all().all()"
   ]
  },
  {
   "cell_type": "code",
   "execution_count": null,
   "id": "1f73e30d",
   "metadata": {},
   "outputs": [],
   "source": [
    "check_for_zeros(returns.cov())\n",
    "has_infinite(returns.cov())"
   ]
  },
  {
   "cell_type": "code",
   "execution_count": null,
   "id": "ef3e6992",
   "metadata": {},
   "outputs": [],
   "source": [
    "mean_matrix = get_mean_matrices(returns)\n",
    "cov_matrix = get_cov_matrices(returns)[1]"
   ]
  },
  {
   "cell_type": "code",
   "execution_count": null,
   "id": "fd3196ca",
   "metadata": {},
   "outputs": [],
   "source": [
    "#S = np.array([[185, 86.5, 80, 20],[86.5, 196, 76, 13.5],[80, 76, 411, -19],[20, 13.5, -19, 25]])*100\n",
    "S = cov_matrix\n",
    "#zbar = np.array([14, 12, 15, 7])\n",
    "zbar = mean_matrix\n",
    "unity = np.ones(len(zbar))\n",
    "\n",
    "# Calculate standard deviations of securities\n",
    "stdevs = np.sqrt(np.diag(S))\n",
    "\n",
    "# Calculate parameters A, B, C, and D for efficient frontier\n",
    "A = np.dot(unity.T, np.dot(np.linalg.inv(S), unity))\n",
    "print(A)\n",
    "B = np.dot(unity.T, np.dot(np.linalg.inv(S), zbar))\n",
    "print(B)\n",
    "C = np.dot(zbar.T, np.dot(np.linalg.inv(S), zbar))\n",
    "print(C)\n",
    "D = A*C - B**2\n",
    "print(D)\n",
    "\n",
    "# Define mu values for efficient frontier\n",
    "mu = np.linspace(np.min(zbar), np.max(zbar), 100)\n",
    "\n",
    "# Calculate minimum variance and standard deviation for each mu\n",
    "minvar = ((A * mu ** 2) - 2 * B * mu + C) / D\n",
    "# minvar[minvar < 0] = 0    # Ensure minvar is non-negative\n",
    "minstd = np.sqrt(minvar)\n",
    "\n",
    "# Repeat stdevs and zbar 300 times to match length of mu and minstd\n",
    "stdevs_ = np.repeat(stdevs[:, np.newaxis], 100, axis=1)\n",
    "zbar_ = np.repeat(zbar[:, np.newaxis], 100, axis=1)\n",
    "\n",
    "# Plot efficient frontier and individual securities\n",
    "plt.plot(minstd, mu, label='Efficient Frontier')\n",
    "plt.plot(stdevs_, zbar_, '*', label='Individual Securities')\n",
    "#plt.legend()\n",
    "plt.title('Efficient Frontier with Individual Securities', fontsize=18)\n",
    "plt.ylabel('Expected Return (%)', fontsize=18)\n",
    "plt.xlabel('Standard Deviation (%)', fontsize=18)\n",
    "plt.show()"
   ]
  },
  {
   "cell_type": "code",
   "execution_count": null,
   "id": "116608f0",
   "metadata": {},
   "outputs": [],
   "source": [
    "from sklearn.covariance import ShrunkCovariance\n",
    "\n",
    "# Generate some random data for illustration\n",
    "\n",
    "# Estimate the shrinkage covariance matrix using the Ledoit-Wolf method\n",
    "shrinkage_cov = ShrunkCovariance(shrinkage=0.1).fit(test).covariance_\n",
    "\n",
    "print(\"Shrinkage Covariance Matrix:\")\n",
    "print(shrinkage_cov)"
   ]
  }
 ],
 "metadata": {
  "kernelspec": {
   "display_name": "Python 3 (ipykernel)",
   "language": "python",
   "name": "python3"
  },
  "language_info": {
   "codemirror_mode": {
    "name": "ipython",
    "version": 3
   },
   "file_extension": ".py",
   "mimetype": "text/x-python",
   "name": "python",
   "nbconvert_exporter": "python",
   "pygments_lexer": "ipython3",
   "version": "3.9.12"
  }
 },
 "nbformat": 4,
 "nbformat_minor": 5
}
