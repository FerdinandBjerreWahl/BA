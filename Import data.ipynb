{
 "cells": [
  {
   "cell_type": "markdown",
   "id": "378fb201",
   "metadata": {},
   "source": [
    "### Import data"
   ]
  },
  {
   "cell_type": "code",
   "execution_count": 1,
   "id": "1042a7d1",
   "metadata": {},
   "outputs": [],
   "source": [
    "from pandas_datareader import data as pdr\n",
    "import yfinance as yf\n",
    "import pandas as pd\n",
    "import numpy as np\n",
    "import pickle\n",
    "import os.path\n",
    "import matplotlib.pyplot as plt\n",
    "import cvxpy as cp\n",
    "from scipy.optimize import minimize\n",
    "from DATA import get_filtered_stock_data as gfs\n",
    "from DATA import read_data\n",
    "from DATA import delete_pickle_file\n",
    "from Effient_Frontier import get_cov_mean_matrices\n",
    "from Effient_Frontier import efficient_frontier "
   ]
  },
  {
   "cell_type": "code",
   "execution_count": 2,
   "id": "fa576ecf",
   "metadata": {},
   "outputs": [
    {
     "name": "stdout",
     "output_type": "stream",
     "text": [
      "File 'ESG_DATA.csv.pickle' does not exist.\n"
     ]
    }
   ],
   "source": [
    "delete_pickle_file('ESG_DATA.csv.pickle')"
   ]
  },
  {
   "cell_type": "code",
   "execution_count": 7,
   "id": "a5cbd4d0",
   "metadata": {},
   "outputs": [],
   "source": [
    "#stock_data = None\n",
    "file_path = \"ESG_US.csv\"\n",
    "esg = read_data(file_path)\n",
    "column_name = 'environment_score'\n",
    "column_value = 'High'\n",
    "threshold = 0\n",
    "num = 20\n",
    "rf = 0.00\n",
    "operator = 'geq'\n",
    "prefixes= ['US']\n",
    "start_date = '2000-01-01'\n",
    "end_date = '2021-04-30'"
   ]
  },
  {
   "cell_type": "code",
   "execution_count": 8,
   "id": "39e05cbb",
   "metadata": {
    "scrolled": true
   },
   "outputs": [
    {
     "name": "stdout",
     "output_type": "stream",
     "text": [
      "[*********************100%***********************]  429 of 429 completed\n",
      "\n",
      "1 Failed download:\n",
      "- OGN: Data doesn't exist for startDate = 946702800, endDate = 1619755200\n",
      "[*********************100%***********************]  1 of 1 completed\n"
     ]
    }
   ],
   "source": [
    "returns = gfs(file_path, column_name, column_value, prefixes, start_date, end_date, time='y', threshold=threshold, operator=operator, num=num,rf=rf)"
   ]
  },
  {
   "cell_type": "code",
   "execution_count": 9,
   "id": "2c5c0be4",
   "metadata": {
    "scrolled": true
   },
   "outputs": [],
   "source": [
    "mu = get_cov_mean_matrices(returns)[1]\n",
    "cov = get_cov_mean_matrices(returns)[0]\n",
    "esg = read_data(file_path)\n",
    "target = np.linspace(np.min(mu), np.max(mu), 100)\n",
    "rf = 0.00\n",
    "bounds = [(0, 1) for _ in range(len(mu))]\n",
    "score = 'environment_score'"
   ]
  },
  {
   "cell_type": "code",
   "execution_count": 10,
   "id": "93b37eaf",
   "metadata": {},
   "outputs": [],
   "source": [
    "eff = efficient_frontier(mu, cov, target, rf, bounds, esg, returns, score)"
   ]
  },
  {
   "cell_type": "code",
   "execution_count": 11,
   "id": "b22da9ef",
   "metadata": {},
   "outputs": [
    {
     "name": "stdout",
     "output_type": "stream",
     "text": [
      "[528.2343538039614]\n"
     ]
    }
   ],
   "source": [
    "max_sharpe_ret = eff[0]\n",
    "max_sharpe_vol = eff[1]\n",
    "max_sharpe_sr = eff[2]\n",
    "portfolio_esg = eff[3]\n",
    "print(portfolio_esg)\n",
    "fron=eff[4]\n",
    "mu = eff[5]\n",
    "stdevs_ = eff[6]"
   ]
  },
  {
   "cell_type": "code",
   "execution_count": 12,
   "id": "1dd84bb0",
   "metadata": {},
   "outputs": [
    {
     "data": {
      "image/png": "[encoded data removed]",
      "text/plain": [
       "<Figure size 432x288 with 1 Axes>"
      ]
     },
     "metadata": {
      "needs_background": "light"
     },
     "output_type": "display_data"
    }
   ],
   "source": [
    "# Plot the efficient frontier and Sharpe ratio\n",
    "plt.plot(fron[:,1], fron[:,0], label='Efficient Frontier')\n",
    "plt.plot(stdevs_, mu, '*', color='orange')\n",
    "plt.xlabel('Volatility')\n",
    "plt.ylabel('Expected Return')\n",
    "plt.legend()\n",
    "\n",
    "# Plot a red dot at the portfolio with the highest Sharpe ratio\n",
    "plt.scatter(max_sharpe_vol, max_sharpe_ret, marker='o', color='g', s=50, label='Max Sharpe Ratio')\n",
    "plt.show()"
   ]
  },
  {
   "cell_type": "code",
   "execution_count": 13,
   "id": "a69071b9",
   "metadata": {},
   "outputs": [
    {
     "data": {
      "text/plain": [
       "Text(0, 0.5, 'Sharpe Ratio')"
      ]
     },
     "execution_count": 13,
     "metadata": {},
     "output_type": "execute_result"
    },
    {
     "data": {
      "image/png": "[encoded data removed]",
      "text/plain": [
       "<Figure size 432x288 with 1 Axes>"
      ]
     },
     "metadata": {
      "needs_background": "light"
     },
     "output_type": "display_data"
    }
   ],
   "source": [
    "plt.scatter(portfolio_esg, max_sharpe_sr)\n",
    "plt.xlabel('Weighted Enviroment score')\n",
    "plt.ylabel('Sharpe Ratio')"
   ]
  },
  {
   "cell_type": "markdown",
   "id": "70cc548b",
   "metadata": {},
   "source": [
    "#### Martin kode"
   ]
  },
  {
   "cell_type": "code",
   "execution_count": 14,
   "id": "308f2c3e",
   "metadata": {},
   "outputs": [],
   "source": [
    "def check_for_zeros(df):\n",
    "    # Check if any element in the DataFrame is equal to 0\n",
    "    if (df == 0).any().any():\n",
    "        print(\"There are 0's in the DataFrame.\")\n",
    "    else:\n",
    "        print(\"There are no 0's in the DataFrame.\")\n",
    "\n",
    "def has_infinite(df):\n",
    "    \"\"\"\n",
    "    Returns True if the DataFrame contains any infinite value, otherwise False.\n",
    "    \"\"\"\n",
    "    return not np.isfinite(df).all().all()"
   ]
  },
  {
   "cell_type": "code",
   "execution_count": 15,
   "id": "20de717e",
   "metadata": {},
   "outputs": [
    {
     "name": "stdout",
     "output_type": "stream",
     "text": [
      "There are no 0's in the DataFrame.\n"
     ]
    },
    {
     "data": {
      "text/plain": [
       "False"
      ]
     },
     "execution_count": 15,
     "metadata": {},
     "output_type": "execute_result"
    }
   ],
   "source": [
    "check_for_zeros(returns.cov())\n",
    "has_infinite(returns.cov())"
   ]
  },
  {
   "cell_type": "code",
   "execution_count": 60,
   "id": "70b0f081",
   "metadata": {},
   "outputs": [],
   "source": [
    "mean_matrix = np.array(returns.mean())\n",
    "cov_matrix = np.array(returns.cov())\n",
    "#print(cov_matrix )\n",
    "\n",
    "\n",
    "# Permanently changes the pandas settings\n",
    "#pd.set_option('display.max_rows', None)\n",
    "#pd.set_option('display.max_columns', None)\n",
    "#pd.set_option('display.width', None)\n",
    "#pd.set_option('display.max_colwidth', -1)\n",
    " \n",
    "# All dataframes hereafter reflect these changes.\n",
    "#display(returns.cov())\n",
    "#display(returns.mean())\n",
    " \n",
    "# Resets the options\n",
    "#pd.reset_option('all')\n"
   ]
  },
  {
   "cell_type": "code",
   "execution_count": 62,
   "id": "61c43668",
   "metadata": {},
   "outputs": [
    {
     "name": "stdout",
     "output_type": "stream",
     "text": [
      "-6.01249422243008e+17\n",
      "7336659488206958.0\n",
      "-9916450511414772.0\n",
      "5.908433568243615e+33\n"
     ]
    },
    {
     "name": "stderr",
     "output_type": "stream",
     "text": [
      "C:\\Users\\Bruger\\AppData\\Local\\Temp\\ipykernel_14752\\230930840.py:26: RuntimeWarning: invalid value encountered in sqrt\n",
      "  minstd = np.sqrt(minvar)\n"
     ]
    },
    {
     "data": {
      "image/png": "[encoded data removed]",
      "text/plain": [
       "<Figure size 432x288 with 1 Axes>"
      ]
     },
     "metadata": {
      "needs_background": "light"
     },
     "output_type": "display_data"
    }
   ],
   "source": [
    "#S = np.array([[185, 86.5, 80, 20],[86.5, 196, 76, 13.5],[80, 76, 411, -19],[20, 13.5, -19, 25]])*100\n",
    "S = cov_matrix\n",
    "#zbar = np.array([14, 12, 15, 7])\n",
    "zbar = mean_matrix\n",
    "unity = np.ones(len(zbar))\n",
    "\n",
    "# Calculate standard deviations of securities\n",
    "stdevs = np.sqrt(np.diag(S))\n",
    "\n",
    "# Calculate parameters A, B, C, and D for efficient frontier\n",
    "A = np.dot(unity.T, np.dot(np.linalg.inv(S), unity))\n",
    "print(A)\n",
    "B = np.dot(unity.T, np.dot(np.linalg.inv(S), zbar))\n",
    "print(B)\n",
    "C = np.dot(zbar.T, np.dot(np.linalg.inv(S), zbar))\n",
    "print(C)\n",
    "D = A*C - B**2\n",
    "print(D)\n",
    "\n",
    "# Define mu values for efficient frontier\n",
    "mu = np.linspace(np.min(zbar), np.max(zbar), 100)\n",
    "\n",
    "# Calculate minimum variance and standard deviation for each mu\n",
    "minvar = ((A * mu ** 2) - 2 * B * mu + C) / D\n",
    "# minvar[minvar < 0] = 0    # Ensure minvar is non-negative\n",
    "minstd = np.sqrt(minvar)\n",
    "\n",
    "# Repeat stdevs and zbar 300 times to match length of mu and minstd\n",
    "stdevs_ = np.repeat(stdevs[:, np.newaxis], 100, axis=1)\n",
    "zbar_ = np.repeat(zbar[:, np.newaxis], 100, axis=1)\n",
    "\n",
    "# Plot efficient frontier and individual securities\n",
    "plt.plot(minstd, mu, label='Efficient Frontier')\n",
    "plt.plot(stdevs_, zbar_, '*', label='Individual Securities')\n",
    "#plt.legend()\n",
    "plt.title('Efficient Frontier with Individual Securities', fontsize=18)\n",
    "plt.ylabel('Expected Return (%)', fontsize=18)\n",
    "plt.xlabel('Standard Deviation (%)', fontsize=18)\n",
    "plt.show()"
   ]
  },
  {
   "cell_type": "code",
   "execution_count": null,
   "id": "13982b2a",
   "metadata": {},
   "outputs": [],
   "source": [
    "np.linalg.inv(S)"
   ]
  },
  {
   "cell_type": "code",
   "execution_count": null,
   "id": "1c1ad3bc",
   "metadata": {},
   "outputs": [],
   "source": [
    "# Define the expected returns and covariance matrix of the assets\n",
    "mu = mean_matrix\n",
    "cov = cov_matrix\n",
    "\n",
    "# Define the objective function to minimize\n",
    "def objective(weights):\n",
    "    return np.dot(weights.T, np.dot(cov, weights))\n",
    "\n",
    "# Define the constraint that the sum of the weights equals 1\n",
    "def constraint(weights):\n",
    "    return np.sum(weights) - 1\n",
    "\n",
    "# Define the bounds for the weights\n",
    "bounds = [(0, 1) for _ in range(len(mu))]\n",
    "\n",
    "# Define the risk-free rate\n",
    "rf = 0\n",
    "\n",
    "# Define the range of returns to plot\n",
    "target = np.linspace(np.min(mu), np.max(mu), 100)\n",
    "\n",
    "#negative sharpe ratio calculator\n",
    "def negativeSR(w):\n",
    "    w = np.array(w)\n",
    "    V = np.sqrt(w.T @ cov @ w)\n",
    "    R = np.sum(mu *w)\n",
    "    SR = (R-rf)/V\n",
    "    return -1*SR\n",
    "\n",
    "# Define the initial guess for the weights\n",
    "x0 = np.ones(len(mu)) / len(mu)\n",
    "\n",
    "# Calculate the efficient frontier\n",
    "frontier = []\n",
    "portfolio_esg = []\n",
    "#weights_list = []\n",
    "for ret in target:\n",
    "    # Define the constraint that the expected return of the portfolio equals the desired return\n",
    "    def ret_constraint(weights):\n",
    "        return np.dot(weights, mu) - ret\n",
    "    # Use the minimize function to find the portfolio weights that minimize the objective function subject to the constraints\n",
    "    res = minimize(objective, x0, method='SLSQP', constraints=[{'type': 'eq', 'fun': constraint}, {'type': 'eq', 'fun': ret_constraint}], bounds=bounds)\n",
    "    # Calculate the volatility of the portfolio\n",
    "    #weights_list.append(res.x)\n",
    "    vol = np.sqrt(res.fun)\n",
    "    # Calculate the Sharpe ratio of the portfolio\n",
    "    sharpe = (ret - rf) / vol\n",
    "    # Append the results to the frontier\n",
    "    frontier.append((ret, vol, sharpe))\n",
    "\n",
    "# Convert the frontier to a numpy array\n",
    "frontier = np.array(frontier)\n",
    "\n",
    "#find sharpe ratio weights\n",
    "constraints = ({'type': 'eq', 'fun': constraint})\n",
    "w_opt = minimize(negativeSR,x0,method='SLSQP',bounds=bounds,constraints=constraints).x\n",
    "\n",
    "\n",
    "\n",
    "result = 0\n",
    "for count, col in enumerate(returns.columns):\n",
    "    #print(type(col))\n",
    "    first = esg[esg['Isin']==col]\n",
    "    env = first['environment_score']\n",
    "    env = env.to_numpy()[0]\n",
    "    result += w_opt[count] * env\n",
    "\n",
    "# Find the portfolio with the highest Sharpe ratio\n",
    "max_sharpe_idx = np.argmax(frontier[:,2])\n",
    "max_sharpe_ret, max_sharpe_vol, max_sharpe_sr = frontier[max_sharpe_idx]\n",
    "\n",
    "\n",
    "\n",
    "# Calculate standard deviations of securities\n",
    "stdevs = np.sqrt(np.diag(cov))\n",
    "stdevs_ = np.repeat(stdevs[:, np.newaxis], 100, axis=1)\n",
    "mu = np.repeat(mu[:, np.newaxis], 100, axis=1)\n",
    "\n",
    "# Plot the efficient frontier and Sharpe ratio\n",
    "plt.plot(frontier[:,1], frontier[:,0], label='Efficient Frontier')\n",
    "plt.plot(stdevs_, mu, '*', color='orange')#label='Individual Securities')\n",
    "#plt.scatter(frontier[:,1], frontier[:,0], c=frontier[:,2]), cmap='RdYlBu')\n",
    "plt.xlabel('Volatility')\n",
    "plt.ylabel('Expected Return')\n",
    "#plt.colorbar(label='Sharpe Ratio')\n",
    "plt.legend()\n",
    "\n",
    "# Plot a red dot at the portfolio with the highest Sharpe ratio\n",
    "plt.scatter(max_sharpe_vol, max_sharpe_ret, marker='o', color='g', s=50, label='Max Sharpe Ratio')\n",
    "\n",
    "plt.show()"
   ]
  },
  {
   "cell_type": "code",
   "execution_count": null,
   "id": "3dda14c9",
   "metadata": {},
   "outputs": [],
   "source": [
    " res"
   ]
  },
  {
   "cell_type": "code",
   "execution_count": null,
   "id": "755ff6d4",
   "metadata": {},
   "outputs": [],
   "source": [
    "test = esg[esg['Isin']=='SE0011337708']\n",
    "test = test['environment_score']\n",
    "test = test.to_numpy()[0]\n",
    "test\n"
   ]
  },
  {
   "cell_type": "markdown",
   "id": "78bd3bad",
   "metadata": {},
   "source": [
    "### TEST"
   ]
  },
  {
   "cell_type": "code",
   "execution_count": 18,
   "id": "755ad9dd",
   "metadata": {},
   "outputs": [],
   "source": [
    "from pypfopt import EfficientFrontier\n",
    "from pypfopt import risk_models\n",
    "from pypfopt import expected_returns"
   ]
  },
  {
   "cell_type": "code",
   "execution_count": 22,
   "id": "ebc86735",
   "metadata": {},
   "outputs": [
    {
     "name": "stdout",
     "output_type": "stream",
     "text": [
      "OrderedDict([(0, 0.00017), (1, 0.00032), (2, 0.00033), (3, 0.0), (4, 0.00017), (5, 0.00013), (6, 0.00021), (7, 0.14761), (8, 0.00236), (9, 0.00018), (10, 0.00025), (11, 0.00029), (12, 0.00032), (13, 0.00054), (14, 0.00018), (15, 0.00024), (16, 0.00012), (17, 0.00026), (18, 0.00032), (19, 0.00073), (20, 0.0), (21, 0.00059), (22, 0.00033), (23, 0.00052), (24, 0.00012), (25, 0.00012), (26, 0.00035), (27, 0.00066), (28, 0.00026), (29, 0.0), (30, 0.00021), (31, 0.00017), (32, 0.00026), (33, 0.00045), (34, 0.0007), (35, 0.00028), (36, 0.0), (37, 0.00021), (38, 0.00012), (39, 0.00058), (40, 0.0), (41, 0.00014), (42, 0.00023), (43, 0.00045), (44, 0.00032), (45, 0.00042), (46, 0.00077), (47, 0.00012), (48, 0.0), (49, 0.00017), (50, 0.00039), (51, 0.00021), (52, 0.00016), (53, 0.00021), (54, 0.00299), (55, 0.00059), (56, 0.00031), (57, 0.0093), (58, 0.00019), (59, 0.0), (60, 0.00041), (61, 0.0003), (62, 0.0003), (63, 0.00022), (64, 0.0), (65, 0.00026), (66, 0.00022), (67, 0.00046), (68, 0.00027), (69, 0.00055), (70, 0.00031), (71, 0.00034), (72, 0.00059), (73, 0.00036), (74, 0.00029), (75, 0.00255), (76, 0.00012), (77, 0.00019), (78, 0.0002), (79, 0.00032), (80, 0.00079), (81, 0.00056), (82, 0.00023), (83, 0.0), (84, 0.00017), (85, 0.0005), (86, 0.00045), (87, 0.00028), (88, 0.0), (89, 0.00019), (90, 0.00033), (91, 0.00022), (92, 0.00036), (93, 0.00044), (94, 0.00024), (95, 0.00018), (96, 0.00029), (97, 0.00014), (98, 0.00025), (99, 0.00025), (100, 0.00013), (101, 0.00032), (102, 0.00018), (103, 0.00057), (104, 0.00062), (105, 0.00013), (106, 0.00037), (107, 0.00016), (108, 0.0), (109, 0.00058), (110, 0.00028), (111, 0.00025), (112, 0.00066), (113, 0.0008), (114, 0.00088), (115, 0.00062), (116, 0.0), (117, 0.00015), (118, 0.00045), (119, 0.00078), (120, 0.00021), (121, 0.00016), (122, 0.00019), (123, 0.0002), (124, 0.00034), (125, 0.00015), (126, 0.00051), (127, 0.00036), (128, 0.00029), (129, 0.0), (130, 0.00014), (131, 0.0), (132, 0.00018), (133, 0.00034), (134, 0.00091), (135, 0.00016), (136, 0.00027), (137, 0.00018), (138, 0.00026), (139, 0.00023), (140, 0.00176), (141, 0.0), (142, 0.00013), (143, 0.00016), (144, 0.00017), (145, 0.0), (146, 0.00023), (147, 0.00048), (148, 0.00049), (149, 0.00031), (150, 0.00056), (151, 0.00045), (152, 0.0), (153, 0.00046), (154, 0.00011), (155, 0.0208), (156, 0.00022), (157, 0.00058), (158, 0.0), (159, 0.00044), (160, 0.00107), (161, 0.00018), (162, 0.00058), (163, 0.00017), (164, 0.00069), (165, 0.00039), (166, 0.00068), (167, 0.00035), (168, 0.00035), (169, 0.00021), (170, 0.00024), (171, 0.0), (172, 0.00052), (173, 0.00035), (174, 0.0), (175, 0.00035), (176, 0.0004), (177, 0.00068), (178, 0.00048), (179, 0.00015), (180, 0.00015), (181, 0.0), (182, 0.00022), (183, 0.00048), (184, 0.0003), (185, 0.00031), (186, 0.00016), (187, 0.00022), (188, 0.00021), (189, 0.00509), (190, 0.00037), (191, 0.0), (192, 0.00035), (193, 0.00032), (194, 0.00042), (195, 0.00043), (196, 0.0002), (197, 0.00039), (198, 0.00032), (199, 0.0), (200, 0.00022), (201, 0.00034), (202, 0.00019), (203, 0.0), (204, 0.00036), (205, 0.00045), (206, 0.00018), (207, 0.00018), (208, 0.00022), (209, 0.00012), (210, 0.00037), (211, 0.00026), (212, 0.00014), (213, 0.0002), (214, 0.00037), (215, 0.00017), (216, 0.00046), (217, 0.00028), (218, 0.0), (219, 0.00044), (220, 0.0006), (221, 0.00044), (222, 0.00011), (223, 0.00066), (224, 0.00018), (225, 0.0004), (226, 0.0005), (227, 0.00029), (228, 0.00023), (229, 0.00034), (230, 0.00016), (231, 0.00063), (232, 0.00014), (233, 0.00046), (234, 0.00016), (235, 0.00027), (236, 0.00028), (237, 0.00019), (238, 0.00034), (239, 0.00034), (240, 0.00037), (241, 0.0), (242, 0.00033), (243, 0.00024), (244, 0.0002), (245, 0.00037), (246, 0.00031), (247, 0.00045), (248, 0.0), (249, 0.00108), (250, 0.0), (251, 0.00048), (252, 0.09868), (253, 0.00041), (254, 0.0002), (255, 0.0), (256, 0.00025), (257, 0.00081), (258, 0.00021), (259, 0.00086), (260, 0.00017), (261, 0.00011), (262, 0.0004), (263, 0.00021), (264, 0.00026), (265, 0.00044), (266, 0.0003), (267, 0.0), (268, 0.0084), (269, 0.00049), (270, 0.0), (271, 0.00028), (272, 0.0004), (273, 0.00019), (274, 0.00062), (275, 0.00023), (276, 0.00029), (277, 0.0002), (278, 0.00027), (279, 0.0003), (280, 0.0003), (281, 0.00045), (282, 0.0), (283, 0.00017), (284, 0.00044), (285, 0.00042), (286, 0.00024), (287, 0.00028), (288, 0.0003), (289, 0.00034), (290, 0.00015), (291, 0.00041), (292, 0.0004), (293, 0.00043), (294, 0.00051), (295, 0.0), (296, 0.00115), (297, 0.00045), (298, 0.00014), (299, 0.00034), (300, 0.00172), (301, 0.00044), (302, 0.00031), (303, 0.0), (304, 0.00045), (305, 0.00015), (306, 0.00035), (307, 0.00054), (308, 0.0), (309, 0.00023), (310, 0.00044), (311, 0.0), (312, 0.00016), (313, 0.00054), (314, 0.0005), (315, 0.00082), (316, 0.00053), (317, 0.00019), (318, 0.00038), (319, 0.00037), (320, 0.00037), (321, 0.0), (322, 0.00039), (323, 0.0), (324, 0.0004), (325, 0.00043), (326, 0.0), (327, 0.00053), (328, 0.0003), (329, 0.00033), (330, 0.00072), (331, 0.0), (332, 0.0), (333, 0.00021), (334, 0.00025), (335, 0.00021), (336, 0.0), (337, 0.00035), (338, 0.00031), (339, 0.00016), (340, 0.00072), (341, 0.00025), (342, 0.00033), (343, 0.00053), (344, 0.00035), (345, 0.00026), (346, 0.00036), (347, 0.00019), (348, 0.00048), (349, 0.00041), (350, 0.0), (351, 0.00048), (352, 0.00015), (353, 0.00046), (354, 0.00056), (355, 0.0), (356, 0.00012), (357, 0.00021), (358, 0.00051), (359, 0.00044), (360, 0.00031), (361, 0.00019), (362, 0.0), (363, 0.00048), (364, 0.00125), (365, 0.00017), (366, 0.00031), (367, 0.00025), (368, 0.00025), (369, 0.00013), (370, 0.00018), (371, 0.00018), (372, 0.00045), (373, 0.00029), (374, 0.0), (375, 0.00052), (376, 0.00023), (377, 0.00036), (378, 0.00012), (379, 0.00036), (380, 0.11799), (381, 0.00038), (382, 0.00066), (383, 0.0), (384, 0.0001), (385, 0.00058), (386, 0.00025), (387, 0.0005), (388, 0.00031), (389, 0.00198), (390, 0.00039), (391, 0.00016), (392, 0.34194), (393, 0.0), (394, 0.00041), (395, 0.00028), (396, 0.0), (397, 0.00026), (398, 0.00039), (399, 0.11104), (400, 0.00011), (401, 0.00023), (402, 0.00061), (403, 0.00011), (404, 0.00023), (405, 0.0009), (406, 0.00028), (407, 0.00059), (408, 0.00055), (409, 0.00056), (410, 0.00038), (411, 0.00069), (412, 0.0), (413, 0.00018), (414, 0.0), (415, 0.00015), (416, 0.00033), (417, 0.00036), (418, 0.0)])\n",
      "Expected annual return: 2.0%\n",
      "Annual volatility: nan%\n",
      "Sharpe Ratio: nan\n"
     ]
    },
    {
     "name": "stderr",
     "output_type": "stream",
     "text": [
      "C:\\Users\\Bruger\\anaconda3\\lib\\site-packages\\pypfopt\\base_optimizer.py:556: RuntimeWarning: invalid value encountered in sqrt\n",
      "  sigma = np.sqrt(objective_functions.portfolio_variance(new_weights, cov_matrix))\n",
      "C:\\Users\\Bruger\\anaconda3\\lib\\site-packages\\cvxpy\\atoms\\elementwise\\power.py:181: RuntimeWarning: invalid value encountered in power\n",
      "  return np.power(values[0], float(self.p.value))\n"
     ]
    },
    {
     "data": {
      "text/plain": [
       "(0.020014123976906696, nan, nan)"
      ]
     },
     "execution_count": 22,
     "metadata": {},
     "output_type": "execute_result"
    }
   ],
   "source": [
    "# Calculate expected returns and sample covariance\n",
    "mu = np.array(returns.mean())\n",
    "S = np.array(returns.cov())\n",
    "\n",
    "# Optimize for maximal Sharpe ratio\n",
    "ef = EfficientFrontier(mu, S)\n",
    "raw_weights = ef.max_sharpe()\n",
    "cleaned_weights = ef.clean_weights()\n",
    "ef.save_weights_to_file(\"weights.csv\")  # saves to file\n",
    "print(cleaned_weights)\n",
    "ef.portfolio_performance(verbose=True)"
   ]
  },
  {
   "cell_type": "code",
   "execution_count": 4,
   "id": "47b600d1",
   "metadata": {},
   "outputs": [],
   "source": [
    "def get_filtered_stock_data(file_path, column_name, column_value, prefixes, start_date, end_date, time='y', threshold=None, operator=None, num_stocks=None):\n",
    "    data, isins, stock_data = load_or_process_data(file_path, prefixes, start_date, end_date)\n",
    "    stock_data = stock_data['Adj Close']\n",
    "    \n",
    "    if isinstance(threshold, int):\n",
    "        filtered_data = filter_by_value(stock_data, data, column_name, threshold, operator)\n",
    "    elif threshold is None:\n",
    "        filtered_data = filter_by_column(data,stock_data, column_name, column_value)\n",
    "        \n",
    "    # Calculate returns for each stock\n",
    "    returns = stock_data.pct_change()\n",
    "    \n",
    "    # Rank the stocks by highest return\n",
    "    ranked_returns = returns.iloc[-1].sort_values(ascending=False)\n",
    "    \n",
    "    # Include only the top n stocks by return, if specified\n",
    "    if num_stocks is not None:\n",
    "        ranked_returns = ranked_returns.head(num_stocks)\n",
    "    \n",
    "    # Get the stock data for the selected stocks\n",
    "    selected_data = stock_data[ranked_returns.index]\n",
    "    \n",
    "    return selected_data"
   ]
  }
 ],
 "metadata": {
  "kernelspec": {
   "display_name": "Python 3 (ipykernel)",
   "language": "python",
   "name": "python3"
  },
  "language_info": {
   "codemirror_mode": {
    "name": "ipython",
    "version": 3
   },
   "file_extension": ".py",
   "mimetype": "text/x-python",
   "name": "python",
   "nbconvert_exporter": "python",
   "pygments_lexer": "ipython3",
   "version": "3.9.12"
  }
 },
 "nbformat": 4,
 "nbformat_minor": 5
}
