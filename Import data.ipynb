{
 "cells": [
  {
   "cell_type": "markdown",
   "id": "28ee17f6",
   "metadata": {},
   "source": [
    "### Import data"
   ]
  },
  {
   "cell_type": "code",
   "execution_count": 1,
   "id": "64173c12",
   "metadata": {},
   "outputs": [],
   "source": [
    "from pandas_datareader import data as pdr\n",
    "import yfinance as yf\n",
    "import pandas as pd\n",
    "import numpy as np\n",
    "import pickle\n",
    "import os.path\n",
    "from DATA import get_filtered_stock_data as gfs"
   ]
  },
  {
   "cell_type": "code",
   "execution_count": 10,
   "id": "491dfde7",
   "metadata": {},
   "outputs": [
    {
     "name": "stdout",
     "output_type": "stream",
     "text": [
      "CPU times: total: 0 ns\n",
      "Wall time: 0 ns\n"
     ]
    }
   ],
   "source": [
    "stock_data = None\n",
    "file_path = \"ESG_DATA.csv\"\n",
    "column_name = 'environment_level'\n",
    "column_value = 'Excellent'\n",
    "threshold = None\n",
    "operator = 'geq'\n",
    "prefixes= ['SE', 'DK','NO']\n",
    "start_date = '2010-01-01'\n",
    "end_date = '2021-04-30'"
   ]
  },
  {
   "cell_type": "code",
   "execution_count": 11,
   "id": "b54e84f1",
   "metadata": {},
   "outputs": [
    {
     "data": {
      "text/html": [
       "<div>\n",
       "<style scoped>\n",
       "    .dataframe tbody tr th:only-of-type {\n",
       "        vertical-align: middle;\n",
       "    }\n",
       "\n",
       "    .dataframe tbody tr th {\n",
       "        vertical-align: top;\n",
       "    }\n",
       "\n",
       "    .dataframe thead th {\n",
       "        text-align: right;\n",
       "    }\n",
       "</style>\n",
       "<table border=\"1\" class=\"dataframe\">\n",
       "  <thead>\n",
       "    <tr style=\"text-align: right;\">\n",
       "      <th></th>\n",
       "      <th>SE0011337708</th>\n",
       "      <th>DK0010263722</th>\n",
       "      <th>DK0060094928</th>\n",
       "    </tr>\n",
       "    <tr>\n",
       "      <th>Date</th>\n",
       "      <th></th>\n",
       "      <th></th>\n",
       "      <th></th>\n",
       "    </tr>\n",
       "  </thead>\n",
       "  <tbody>\n",
       "    <tr>\n",
       "      <th>2010-12-31 00:00:00+01:00</th>\n",
       "      <td>0.233126</td>\n",
       "      <td>-0.301292</td>\n",
       "      <td>0.000000</td>\n",
       "    </tr>\n",
       "    <tr>\n",
       "      <th>2011-12-31 00:00:00+01:00</th>\n",
       "      <td>0.085138</td>\n",
       "      <td>-0.637522</td>\n",
       "      <td>0.000000</td>\n",
       "    </tr>\n",
       "    <tr>\n",
       "      <th>2012-12-31 00:00:00+01:00</th>\n",
       "      <td>0.402724</td>\n",
       "      <td>0.004191</td>\n",
       "      <td>0.000000</td>\n",
       "    </tr>\n",
       "    <tr>\n",
       "      <th>2013-12-31 00:00:00+01:00</th>\n",
       "      <td>0.441324</td>\n",
       "      <td>-0.208075</td>\n",
       "      <td>0.000000</td>\n",
       "    </tr>\n",
       "    <tr>\n",
       "      <th>2014-12-31 00:00:00+01:00</th>\n",
       "      <td>0.042047</td>\n",
       "      <td>0.036437</td>\n",
       "      <td>0.000000</td>\n",
       "    </tr>\n",
       "    <tr>\n",
       "      <th>2015-12-31 00:00:00+01:00</th>\n",
       "      <td>0.447685</td>\n",
       "      <td>-0.089911</td>\n",
       "      <td>0.000000</td>\n",
       "    </tr>\n",
       "    <tr>\n",
       "      <th>2016-12-31 00:00:00+01:00</th>\n",
       "      <td>-0.009339</td>\n",
       "      <td>0.083899</td>\n",
       "      <td>0.056770</td>\n",
       "    </tr>\n",
       "    <tr>\n",
       "      <th>2017-12-31 00:00:00+01:00</th>\n",
       "      <td>0.183381</td>\n",
       "      <td>-0.068273</td>\n",
       "      <td>0.276583</td>\n",
       "    </tr>\n",
       "    <tr>\n",
       "      <th>2018-12-31 00:00:00+01:00</th>\n",
       "      <td>0.077873</td>\n",
       "      <td>0.409519</td>\n",
       "      <td>0.299253</td>\n",
       "    </tr>\n",
       "    <tr>\n",
       "      <th>2019-12-31 00:00:00+01:00</th>\n",
       "      <td>0.405096</td>\n",
       "      <td>0.448306</td>\n",
       "      <td>0.502530</td>\n",
       "    </tr>\n",
       "    <tr>\n",
       "      <th>2020-12-31 00:00:00+01:00</th>\n",
       "      <td>0.020206</td>\n",
       "      <td>0.755178</td>\n",
       "      <td>0.664913</td>\n",
       "    </tr>\n",
       "    <tr>\n",
       "      <th>2021-12-31 00:00:00+01:00</th>\n",
       "      <td>0.170957</td>\n",
       "      <td>0.089872</td>\n",
       "      <td>-0.282230</td>\n",
       "    </tr>\n",
       "  </tbody>\n",
       "</table>\n",
       "</div>"
      ],
      "text/plain": [
       "                           SE0011337708  DK0010263722  DK0060094928\n",
       "Date                                                               \n",
       "2010-12-31 00:00:00+01:00      0.233126     -0.301292      0.000000\n",
       "2011-12-31 00:00:00+01:00      0.085138     -0.637522      0.000000\n",
       "2012-12-31 00:00:00+01:00      0.402724      0.004191      0.000000\n",
       "2013-12-31 00:00:00+01:00      0.441324     -0.208075      0.000000\n",
       "2014-12-31 00:00:00+01:00      0.042047      0.036437      0.000000\n",
       "2015-12-31 00:00:00+01:00      0.447685     -0.089911      0.000000\n",
       "2016-12-31 00:00:00+01:00     -0.009339      0.083899      0.056770\n",
       "2017-12-31 00:00:00+01:00      0.183381     -0.068273      0.276583\n",
       "2018-12-31 00:00:00+01:00      0.077873      0.409519      0.299253\n",
       "2019-12-31 00:00:00+01:00      0.405096      0.448306      0.502530\n",
       "2020-12-31 00:00:00+01:00      0.020206      0.755178      0.664913\n",
       "2021-12-31 00:00:00+01:00      0.170957      0.089872     -0.282230"
      ]
     },
     "execution_count": 11,
     "metadata": {},
     "output_type": "execute_result"
    }
   ],
   "source": [
    "gfs(file_path, column_name, column_value, prefixes, start_date, end_date, time='y', threshold=threshold, operator=operator)"
   ]
  },
  {
   "cell_type": "code",
   "execution_count": 4,
   "id": "392e20de",
   "metadata": {},
   "outputs": [],
   "source": [
    "#filtered_data = get_filtered_stock_data(file_path, column_name, column_value, prefixes, start_date, end_date, time='y', threshold=threshold, operator=operator)\n",
    "#filtered_data"
   ]
  },
  {
   "cell_type": "code",
   "execution_count": null,
   "id": "c62a6dba",
   "metadata": {},
   "outputs": [],
   "source": []
  },
  {
   "cell_type": "code",
   "execution_count": null,
   "id": "44853671",
   "metadata": {},
   "outputs": [],
   "source": []
  },
  {
   "cell_type": "code",
   "execution_count": 5,
   "id": "070e6609",
   "metadata": {},
   "outputs": [
    {
     "ename": "NameError",
     "evalue": "name 'read_data' is not defined",
     "output_type": "error",
     "traceback": [
      "\u001b[1;31m---------------------------------------------------------------------------\u001b[0m",
      "\u001b[1;31mNameError\u001b[0m                                 Traceback (most recent call last)",
      "Input \u001b[1;32mIn [5]\u001b[0m, in \u001b[0;36m<cell line: 1>\u001b[1;34m()\u001b[0m\n\u001b[1;32m----> 1\u001b[0m data \u001b[38;5;241m=\u001b[39m \u001b[43mread_data\u001b[49m(file_path)\n\u001b[0;32m      2\u001b[0m isins \u001b[38;5;241m=\u001b[39m get_isins(data)\n\u001b[0;32m      3\u001b[0m stock_data \u001b[38;5;241m=\u001b[39m concatenate_data(prefixes, isins, start_date, end_date)\n",
      "\u001b[1;31mNameError\u001b[0m: name 'read_data' is not defined"
     ]
    }
   ],
   "source": []
  },
  {
   "cell_type": "code",
   "execution_count": null,
   "id": "3c80809c",
   "metadata": {},
   "outputs": [],
   "source": []
  }
 ],
 "metadata": {
  "kernelspec": {
   "display_name": "Python 3 (ipykernel)",
   "language": "python",
   "name": "python3"
  },
  "language_info": {
   "codemirror_mode": {
    "name": "ipython",
    "version": 3
   },
   "file_extension": ".py",
   "mimetype": "text/x-python",
   "name": "python",
   "nbconvert_exporter": "python",
   "pygments_lexer": "ipython3",
   "version": "3.9.12"
  }
 },
 "nbformat": 4,
 "nbformat_minor": 5
}
