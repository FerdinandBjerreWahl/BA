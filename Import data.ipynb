{
 "cells": [
  {
   "cell_type": "markdown",
   "id": "378fb201",
   "metadata": {},
   "source": [
    "### Import data"
   ]
  },
  {
   "cell_type": "code",
   "execution_count": 1,
   "id": "1042a7d1",
   "metadata": {},
   "outputs": [
    {
     "ename": "SyntaxError",
     "evalue": "invalid syntax (Effient_Frontier.py, line 86)",
     "output_type": "error",
     "traceback": [
      "Traceback \u001b[1;36m(most recent call last)\u001b[0m:\n",
      "  File \u001b[0;32m~\\anaconda3\\lib\\site-packages\\IPython\\core\\interactiveshell.py:3369\u001b[0m in \u001b[0;35mrun_code\u001b[0m\n    exec(code_obj, self.user_global_ns, self.user_ns)\n",
      "\u001b[1;36m  Input \u001b[1;32mIn [1]\u001b[1;36m in \u001b[1;35m<cell line: 13>\u001b[1;36m\u001b[0m\n\u001b[1;33m    from Effient_Frontier import get_cov_mean_matrices\u001b[0m\n",
      "\u001b[1;36m  File \u001b[1;32m~\\anaconda3\\BA\\Effient_Frontier.py:86\u001b[1;36m\u001b[0m\n\u001b[1;33m    res = minimize(objective_function, x0, args=(cov,), method='SLSQP', constraints=[{'type': 'eq', 'fun': constraint_function}, {'type': 'eq', 'fun': ret_constraint}, {'type': 'ineq', 'fun' 'args': weight_constraint'args': (lower_bounds,)}], bounds=bounds)\u001b[0m\n\u001b[1;37m                                                                                                                                                                                                                        ^\u001b[0m\n\u001b[1;31mSyntaxError\u001b[0m\u001b[1;31m:\u001b[0m invalid syntax\n"
     ]
    }
   ],
   "source": [
    "from pandas_datareader import data as pdr\n",
    "import yfinance as yf\n",
    "import pandas as pd\n",
    "import numpy as np\n",
    "import pickle\n",
    "import os.path\n",
    "import matplotlib.pyplot as plt\n",
    "import cvxpy as cp\n",
    "from scipy.optimize import minimize\n",
    "from DATA import get_filtered_stock_data as gfs\n",
    "from DATA import read_data\n",
    "from DATA import delete_pickle_file\n",
    "from Effient_Frontier import get_cov_mean_matrices\n",
    "from Effient_Frontier import efficient_frontier "
   ]
  },
  {
   "cell_type": "code",
   "execution_count": 2,
   "id": "fa576ecf",
   "metadata": {},
   "outputs": [
    {
     "name": "stdout",
     "output_type": "stream",
     "text": [
      "File 'ESG_US.csv.pickle' does not exist.\n"
     ]
    }
   ],
   "source": [
    "delete_pickle_file('ESG_US.csv.pickle')"
   ]
  },
  {
   "cell_type": "code",
   "execution_count": null,
   "id": "a5cbd4d0",
   "metadata": {},
   "outputs": [],
   "source": [
    "file_path = \"ESG_US.csv\"\n",
    "column_name = 'environment_score'\n",
    "# column_value = 'High'\n",
    "threshold = 0\n",
    "operator = 'geq'\n",
    "prefixes= ['US']\n",
    "start_date = '2000-01-01'\n",
    "end_date = '2021-04-30'"
   ]
  },
  {
   "cell_type": "code",
   "execution_count": null,
   "id": "39e05cbb",
   "metadata": {
    "scrolled": true
   },
   "outputs": [],
   "source": [
    "returns = gfs(file_path, column_name, column_value, prefixes, start_date, end_date, time='y', threshold=threshold, operator=operator)"
   ]
  },
  {
   "cell_type": "code",
   "execution_count": 5,
   "id": "c14f31fb",
   "metadata": {},
   "outputs": [
    {
     "data": {
      "text/plain": [
       "(22, 334)"
      ]
     },
     "execution_count": 5,
     "metadata": {},
     "output_type": "execute_result"
    }
   ],
   "source": [
    "returns.shape"
   ]
  },
  {
   "cell_type": "code",
   "execution_count": null,
   "id": "2c5c0be4",
   "metadata": {
    "scrolled": true
   },
   "outputs": [],
   "source": [
    "mu = get_cov_mean_matrices(returns)[1]\n",
    "cov = get_cov_mean_matrices(returns)[0]\n",
    "esg = read_data(file_path)\n",
    "target = np.linspace(np.min(mu), np.max(mu), 100)\n",
    "rf = 0.00\n",
    "bounds = [(0, 1) for _ in range(len(mu))]\n",
    "score = 'environment_score'"
   ]
  },
  {
   "cell_type": "code",
   "execution_count": 13,
   "id": "93b37eaf",
   "metadata": {},
   "outputs": [
    {
     "name": "stdout",
     "output_type": "stream",
     "text": [
      "Optimization terminated successfully    (Exit mode 0)\n",
      "            Current function value: -2.1464949645532627\n",
      "            Iterations: 12\n",
      "            Function evaluations: 225\n",
      "            Gradient evaluations: 12\n"
     ]
    }
   ],
   "source": [
    "eff = efficient_frontier(mu, cov, target, rf, bounds, esg, returns, score)"
   ]
  },
  {
   "cell_type": "code",
   "execution_count": 24,
   "id": "b22da9ef",
   "metadata": {},
   "outputs": [
    {
     "name": "stdout",
     "output_type": "stream",
     "text": [
      "[655.6421714777659]\n"
     ]
    }
   ],
   "source": [
    "max_sharpe_ret = eff[0]\n",
    "max_sharpe_vol = eff[1]\n",
    "max_sharpe_sr = eff[2]\n",
    "portfolio_esg = eff[3]\n",
    "print(portfolio_esg)\n",
    "fron=eff[4]\n",
    "mu = eff[5]\n",
    "stdevs_ = eff[6]"
   ]
  },
  {
   "cell_type": "code",
   "execution_count": 58,
   "id": "1dd84bb0",
   "metadata": {},
   "outputs": [
    {
     "data": {
      "image/png": "[encoded data removed]",
      "text/plain": [
       "<Figure size 432x288 with 1 Axes>"
      ]
     },
     "metadata": {
      "needs_background": "light"
     },
     "output_type": "display_data"
    }
   ],
   "source": [
    "# Plot the efficient frontier and Sharpe ratio\n",
    "plt.plot(fron[:,1], fron[:,0], label='Efficient Frontier')\n",
    "plt.plot(stdevs_, mu, '*', color='orange')\n",
    "plt.xlabel('Volatility')\n",
    "plt.ylabel('Expected Return')\n",
    "plt.legend()\n",
    "\n",
    "# Plot a red dot at the portfolio with the highest Sharpe ratio\n",
    "plt.scatter(max_sharpe_vol, max_sharpe_ret, marker='o', color='g', s=50, label='Max Sharpe Ratio')\n",
    "plt.show()"
   ]
  },
  {
   "cell_type": "code",
   "execution_count": 59,
   "id": "a69071b9",
   "metadata": {},
   "outputs": [
    {
     "data": {
      "text/plain": [
       "Text(0, 0.5, 'Sharpe Ratio')"
      ]
     },
     "execution_count": 59,
     "metadata": {},
     "output_type": "execute_result"
    },
    {
     "data": {
      "image/png": "[encoded data removed]",
      "text/plain": [
       "<Figure size 432x288 with 1 Axes>"
      ]
     },
     "metadata": {
      "needs_background": "light"
     },
     "output_type": "display_data"
    }
   ],
   "source": [
    "plt.scatter(portfolio_esg, max_sharpe_sr)\n",
    "plt.xlabel('Weighted Enviroment score')\n",
    "plt.ylabel('Sharpe Ratio')"
   ]
  },
  {
   "cell_type": "code",
   "execution_count": 5,
   "id": "472538e9",
   "metadata": {},
   "outputs": [],
   "source": [
    "file_path = \"ESG_US.csv\"\n",
    "column_name = 'environment_score'\n",
    "column_value = 'High'\n",
    "operator = 'geq'\n",
    "prefixes= ['US']\n",
    "start_date = '2000-01-01'\n",
    "end_date = '2021-04-30'\n",
    "esg = read_data(file_path)\n",
    "rf = 0.00\n",
    "score = 'environment_score'\n",
    "num = 10"
   ]
  },
  {
   "cell_type": "code",
   "execution_count": 6,
   "id": "9daf1bda",
   "metadata": {},
   "outputs": [],
   "source": [
    "def get_efficient_frontier(file_path, column_name, column_value, prefixes, start_date, end_date, time='y', operator=None, esg=None, rf=None, score=None, num=None):\n",
    "     \n",
    "    thresholds = range(0,800,100) # create a list of thresholds to iterate over\n",
    "    \n",
    "    Max_sharp = []\n",
    "    ESG = []\n",
    "    \n",
    "    for i in thresholds:\n",
    "        data = gfs(file_path, column_name, column_value, prefixes, start_date, end_date, time='y', threshold=i, operator=operator, num=num, rf=rf) # retrieve the data\n",
    "        mu = get_cov_mean_matrices(data)[1]\n",
    "        cov = get_cov_mean_matrices(data)[0]\n",
    "        bounds = [(0, 1) for _ in range(len(mu))]\n",
    "        target = np.linspace(np.min(mu), np.max(mu), 100)\n",
    "        # calculate the efficient frontier using the retrieved data\n",
    "        if data.shape[1] >= num:\n",
    "            efficient_frontier2 = efficient_frontier(mu, cov, target, rf, bounds, esg, data, score)\n",
    "            Max_sharp.append(efficient_frontier2[2])\n",
    "            print(efficient_frontier2[2])\n",
    "            ESG.append(efficient_frontier2[3])\n",
    "            #efficient_frontiers.append(efficient_frontier2)\n",
    "        else:\n",
    "            print('Failed attempt at threshold =',i,' too few stocks')\n",
    "    \n",
    "    return Max_sharp,ESG"
   ]
  },
  {
   "cell_type": "code",
   "execution_count": 7,
   "id": "fbcbbe07",
   "metadata": {
    "scrolled": false
   },
   "outputs": [
    {
     "name": "stdout",
     "output_type": "stream",
     "text": [
      "[*********************100%***********************]  1 of 1 completed\n",
      "Optimization terminated successfully    (Exit mode 0)\n",
      "            Current function value: -1.640519037754693\n",
      "            Iterations: 8\n",
      "            Function evaluations: 93\n",
      "            Gradient evaluations: 8\n",
      "1.6400812120958916\n",
      "[*********************100%***********************]  1 of 1 completed\n",
      "Optimization terminated successfully    (Exit mode 0)\n",
      "            Current function value: -1.640519037754693\n",
      "            Iterations: 8\n",
      "            Function evaluations: 93\n",
      "            Gradient evaluations: 8\n",
      "1.6400812120958916\n",
      "[*********************100%***********************]  1 of 1 completed\n",
      "Optimization terminated successfully    (Exit mode 0)\n",
      "            Current function value: -1.640519037754693\n",
      "            Iterations: 8\n",
      "            Function evaluations: 93\n",
      "            Gradient evaluations: 8\n",
      "1.6400812120958916\n",
      "[*********************100%***********************]  1 of 1 completed\n",
      "Optimization terminated successfully    (Exit mode 0)\n",
      "            Current function value: -3.2438372328551517\n",
      "            Iterations: 14\n",
      "            Function evaluations: 165\n",
      "            Gradient evaluations: 14\n",
      "3.2431779745199045\n",
      "[*********************100%***********************]  1 of 1 completed\n",
      "Optimization terminated successfully    (Exit mode 0)\n",
      "            Current function value: -3.2383527833417083\n",
      "            Iterations: 14\n",
      "            Function evaluations: 165\n",
      "            Gradient evaluations: 14\n",
      "3.237087699714707\n",
      "[*********************100%***********************]  1 of 1 completed\n",
      "Optimization terminated successfully    (Exit mode 0)\n",
      "            Current function value: -3.137096650800828\n",
      "            Iterations: 16\n",
      "            Function evaluations: 187\n",
      "            Gradient evaluations: 16\n",
      "3.136209059152479\n",
      "[*********************100%***********************]  1 of 1 completed\n",
      "Optimization terminated successfully    (Exit mode 0)\n",
      "            Current function value: -2.1464949270175513\n",
      "            Iterations: 10\n",
      "            Function evaluations: 117\n",
      "            Gradient evaluations: 10\n",
      "2.1458583633437254\n",
      "[*********************100%***********************]  1 of 1 completed\n",
      "Failed attempt at threshold = 700  too few stocks\n"
     ]
    }
   ],
   "source": [
    "lol = get_efficient_frontier(file_path, column_name, column_value, prefixes, start_date, end_date, time='y', operator=operator, esg=esg, rf=rf, score=score, num=num)"
   ]
  },
  {
   "cell_type": "code",
   "execution_count": 24,
   "id": "c487edc5",
   "metadata": {},
   "outputs": [
    {
     "data": {
      "text/plain": [
       "([1.6400812120958916,\n",
       "  1.6400812120958916,\n",
       "  1.6400812120958916,\n",
       "  3.2431779745199045,\n",
       "  3.237087699714707,\n",
       "  3.136209059152479,\n",
       "  2.1458583633437254],\n",
       " [[499.4709832342345],\n",
       "  [499.4709832342345],\n",
       "  [499.4709832342345],\n",
       "  [531.8741460626126],\n",
       "  [535.4839631270116],\n",
       "  [555.0549056524254],\n",
       "  [655.6421714777659]])"
      ]
     },
     "execution_count": 24,
     "metadata": {},
     "output_type": "execute_result"
    }
   ],
   "source": [
    "lol"
   ]
  },
  {
   "cell_type": "code",
   "execution_count": 27,
   "id": "b975b320",
   "metadata": {},
   "outputs": [
    {
     "data": {
      "text/plain": [
       "Text(0, 0.5, 'Sharpe Ratio')"
      ]
     },
     "execution_count": 27,
     "metadata": {},
     "output_type": "execute_result"
    },
    {
     "data": {
      "image/png": "[encoded data removed]",
      "text/plain": [
       "<Figure size 432x288 with 1 Axes>"
      ]
     },
     "metadata": {
      "needs_background": "light"
     },
     "output_type": "display_data"
    }
   ],
   "source": [
    "plt.plot(lol[1], lol[0])\n",
    "plt.xlabel('Weighted Enviroment score')\n",
    "plt.ylabel('Sharpe Ratio')"
   ]
  },
  {
   "cell_type": "markdown",
   "id": "70cc548b",
   "metadata": {},
   "source": [
    "#### Martin kode"
   ]
  },
  {
   "cell_type": "code",
   "execution_count": 14,
   "id": "308f2c3e",
   "metadata": {},
   "outputs": [],
   "source": [
    "def check_for_zeros(df):\n",
    "    # Check if any element in the DataFrame is equal to 0\n",
    "    if (df == 0).any().any():\n",
    "        print(\"There are 0's in the DataFrame.\")\n",
    "    else:\n",
    "        print(\"There are no 0's in the DataFrame.\")\n",
    "\n",
    "def has_infinite(df):\n",
    "    \"\"\"\n",
    "    Returns True if the DataFrame contains any infinite value, otherwise False.\n",
    "    \"\"\"\n",
    "    return not np.isfinite(df).all().all()"
   ]
  },
  {
   "cell_type": "code",
   "execution_count": 15,
   "id": "20de717e",
   "metadata": {},
   "outputs": [
    {
     "name": "stdout",
     "output_type": "stream",
     "text": [
      "There are no 0's in the DataFrame.\n"
     ]
    },
    {
     "data": {
      "text/plain": [
       "False"
      ]
     },
     "execution_count": 15,
     "metadata": {},
     "output_type": "execute_result"
    }
   ],
   "source": [
    "check_for_zeros(returns.cov())\n",
    "has_infinite(returns.cov())"
   ]
  },
  {
   "cell_type": "code",
   "execution_count": 60,
   "id": "70b0f081",
   "metadata": {},
   "outputs": [],
   "source": [
    "mean_matrix = np.array(returns.mean())\n",
    "cov_matrix = np.array(returns.cov())\n",
    "#print(cov_matrix )\n",
    "\n",
    "\n",
    "# Permanently changes the pandas settings\n",
    "#pd.set_option('display.max_rows', None)\n",
    "#pd.set_option('display.max_columns', None)\n",
    "#pd.set_option('display.width', None)\n",
    "#pd.set_option('display.max_colwidth', -1)\n",
    " \n",
    "# All dataframes hereafter reflect these changes.\n",
    "#display(returns.cov())\n",
    "#display(returns.mean())\n",
    " \n",
    "# Resets the options\n",
    "#pd.reset_option('all')\n"
   ]
  },
  {
   "cell_type": "code",
   "execution_count": 38,
   "id": "61c43668",
   "metadata": {},
   "outputs": [
    {
     "name": "stdout",
     "output_type": "stream",
     "text": [
      "-9.134123500122228e+17\n",
      "-5.6826066105643944e+16\n",
      "-3.621521852209375e+16\n",
      "2.985022606742882e+34\n"
     ]
    },
    {
     "name": "stderr",
     "output_type": "stream",
     "text": [
      "C:\\Users\\Bruger\\AppData\\Local\\Temp\\ipykernel_5324\\230930840.py:26: RuntimeWarning: invalid value encountered in sqrt\n",
      "  minstd = np.sqrt(minvar)\n"
     ]
    },
    {
     "data": {
      "image/png": "[encoded data removed]",
      "text/plain": [
       "<Figure size 432x288 with 1 Axes>"
      ]
     },
     "metadata": {
      "needs_background": "light"
     },
     "output_type": "display_data"
    }
   ],
   "source": [
    "#S = np.array([[185, 86.5, 80, 20],[86.5, 196, 76, 13.5],[80, 76, 411, -19],[20, 13.5, -19, 25]])*100\n",
    "S = cov_matrix\n",
    "#zbar = np.array([14, 12, 15, 7])\n",
    "zbar = mean_matrix\n",
    "unity = np.ones(len(zbar))\n",
    "\n",
    "# Calculate standard deviations of securities\n",
    "stdevs = np.sqrt(np.diag(S))\n",
    "\n",
    "# Calculate parameters A, B, C, and D for efficient frontier\n",
    "A = np.dot(unity.T, np.dot(np.linalg.inv(S), unity))\n",
    "print(A)\n",
    "B = np.dot(unity.T, np.dot(np.linalg.inv(S), zbar))\n",
    "print(B)\n",
    "C = np.dot(zbar.T, np.dot(np.linalg.inv(S), zbar))\n",
    "print(C)\n",
    "D = A*C - B**2\n",
    "print(D)\n",
    "\n",
    "# Define mu values for efficient frontier\n",
    "mu = np.linspace(np.min(zbar), np.max(zbar), 100)\n",
    "\n",
    "# Calculate minimum variance and standard deviation for each mu\n",
    "minvar = ((A * mu ** 2) - 2 * B * mu + C) / D\n",
    "# minvar[minvar < 0] = 0    # Ensure minvar is non-negative\n",
    "minstd = np.sqrt(minvar)\n",
    "\n",
    "# Repeat stdevs and zbar 300 times to match length of mu and minstd\n",
    "stdevs_ = np.repeat(stdevs[:, np.newaxis], 100, axis=1)\n",
    "zbar_ = np.repeat(zbar[:, np.newaxis], 100, axis=1)\n",
    "\n",
    "# Plot efficient frontier and individual securities\n",
    "plt.plot(minstd, mu, label='Efficient Frontier')\n",
    "plt.plot(stdevs_, zbar_, '*', label='Individual Securities')\n",
    "#plt.legend()\n",
    "plt.title('Efficient Frontier with Individual Securities', fontsize=18)\n",
    "plt.ylabel('Expected Return (%)', fontsize=18)\n",
    "plt.xlabel('Standard Deviation (%)', fontsize=18)\n",
    "plt.show()"
   ]
  },
  {
   "cell_type": "code",
   "execution_count": null,
   "id": "13982b2a",
   "metadata": {},
   "outputs": [],
   "source": [
    "np.linalg.inv(S)"
   ]
  },
  {
   "cell_type": "code",
   "execution_count": null,
   "id": "1c1ad3bc",
   "metadata": {},
   "outputs": [],
   "source": [
    "# Define the expected returns and covariance matrix of the assets\n",
    "mu = mean_matrix\n",
    "cov = cov_matrix\n",
    "\n",
    "# Define the objective function to minimize\n",
    "def objective(weights):\n",
    "    return np.dot(weights.T, np.dot(cov, weights))\n",
    "\n",
    "# Define the constraint that the sum of the weights equals 1\n",
    "def constraint(weights):\n",
    "    return np.sum(weights) - 1\n",
    "\n",
    "# Define the bounds for the weights\n",
    "bounds = [(0, 1) for _ in range(len(mu))]\n",
    "\n",
    "# Define the risk-free rate\n",
    "rf = 0\n",
    "\n",
    "# Define the range of returns to plot\n",
    "target = np.linspace(np.min(mu), np.max(mu), 100)\n",
    "\n",
    "#negative sharpe ratio calculator\n",
    "def negativeSR(w):\n",
    "    w = np.array(w)\n",
    "    V = np.sqrt(w.T @ cov @ w)\n",
    "    R = np.sum(mu *w)\n",
    "    SR = (R-rf)/V\n",
    "    return -1*SR\n",
    "\n",
    "# Define the initial guess for the weights\n",
    "x0 = np.ones(len(mu)) / len(mu)\n",
    "\n",
    "# Calculate the efficient frontier\n",
    "frontier = []\n",
    "portfolio_esg = []\n",
    "#weights_list = []\n",
    "for ret in target:\n",
    "    # Define the constraint that the expected return of the portfolio equals the desired return\n",
    "    def ret_constraint(weights):\n",
    "        return np.dot(weights, mu) - ret\n",
    "    # Use the minimize function to find the portfolio weights that minimize the objective function subject to the constraints\n",
    "    res = minimize(objective, x0, method='SLSQP', constraints=[{'type': 'eq', 'fun': constraint}, {'type': 'eq', 'fun': ret_constraint}], bounds=bounds)\n",
    "    # Calculate the volatility of the portfolio\n",
    "    #weights_list.append(res.x)\n",
    "    vol = np.sqrt(res.fun)\n",
    "    # Calculate the Sharpe ratio of the portfolio\n",
    "    sharpe = (ret - rf) / vol\n",
    "    # Append the results to the frontier\n",
    "    frontier.append((ret, vol, sharpe))\n",
    "\n",
    "# Convert the frontier to a numpy array\n",
    "frontier = np.array(frontier)\n",
    "\n",
    "#find sharpe ratio weights\n",
    "constraints = ({'type': 'eq', 'fun': constraint})\n",
    "w_opt = minimize(negativeSR,x0,method='SLSQP',bounds=bounds,constraints=constraints).x\n",
    "\n",
    "\n",
    "\n",
    "result = 0\n",
    "for count, col in enumerate(returns.columns):\n",
    "    #print(type(col))\n",
    "    first = esg[esg['Isin']==col]\n",
    "    env = first['environment_score']\n",
    "    env = env.to_numpy()[0]\n",
    "    result += w_opt[count] * env\n",
    "\n",
    "# Find the portfolio with the highest Sharpe ratio\n",
    "max_sharpe_idx = np.argmax(frontier[:,2])\n",
    "max_sharpe_ret, max_sharpe_vol, max_sharpe_sr = frontier[max_sharpe_idx]\n",
    "\n",
    "\n",
    "\n",
    "# Calculate standard deviations of securities\n",
    "stdevs = np.sqrt(np.diag(cov))\n",
    "stdevs_ = np.repeat(stdevs[:, np.newaxis], 100, axis=1)\n",
    "mu = np.repeat(mu[:, np.newaxis], 100, axis=1)\n",
    "\n",
    "# Plot the efficient frontier and Sharpe ratio\n",
    "plt.plot(frontier[:,1], frontier[:,0], label='Efficient Frontier')\n",
    "plt.plot(stdevs_, mu, '*', color='orange')#label='Individual Securities')\n",
    "#plt.scatter(frontier[:,1], frontier[:,0], c=frontier[:,2]), cmap='RdYlBu')\n",
    "plt.xlabel('Volatility')\n",
    "plt.ylabel('Expected Return')\n",
    "#plt.colorbar(label='Sharpe Ratio')\n",
    "plt.legend()\n",
    "\n",
    "# Plot a red dot at the portfolio with the highest Sharpe ratio\n",
    "plt.scatter(max_sharpe_vol, max_sharpe_ret, marker='o', color='g', s=50, label='Max Sharpe Ratio')\n",
    "\n",
    "plt.show()"
   ]
  },
  {
   "cell_type": "code",
   "execution_count": null,
   "id": "3dda14c9",
   "metadata": {},
   "outputs": [],
   "source": [
    " res"
   ]
  },
  {
   "cell_type": "code",
   "execution_count": null,
   "id": "755ff6d4",
   "metadata": {},
   "outputs": [],
   "source": [
    "test = esg[esg['Isin']=='SE0011337708']\n",
    "test = test['environment_score']\n",
    "test = test.to_numpy()[0]\n",
    "test\n"
   ]
  },
  {
   "cell_type": "markdown",
   "id": "78bd3bad",
   "metadata": {},
   "source": [
    "### TEST"
   ]
  },
  {
   "cell_type": "code",
   "execution_count": 61,
   "id": "755ad9dd",
   "metadata": {},
   "outputs": [],
   "source": [
    "from pypfopt import EfficientFrontier\n",
    "from pypfopt import risk_models\n",
    "from pypfopt import expected_returns"
   ]
  },
  {
   "cell_type": "code",
   "execution_count": 62,
   "id": "ebc86735",
   "metadata": {},
   "outputs": [
    {
     "name": "stdout",
     "output_type": "stream",
     "text": [
      "OrderedDict([(0, 0.0), (1, 0.0), (2, 0.0), (3, 0.08828), (4, 0.02994), (5, 0.0), (6, 0.0), (7, 0.0), (8, 0.0), (9, 0.0), (10, 0.17457), (11, 0.0), (12, 0.0), (13, 0.0), (14, 0.0), (15, 0.0), (16, 0.0), (17, 0.0), (18, 0.01219), (19, 0.0), (20, 0.0), (21, 0.01007), (22, 0.0), (23, 0.0), (24, 0.0), (25, 0.0), (26, 0.0), (27, 0.0), (28, 0.0), (29, 0.0), (30, 0.0), (31, 0.0), (32, 0.0), (33, 0.08833), (34, 0.0), (35, 0.0), (36, 0.0), (37, 0.0), (38, 0.0), (39, 0.0), (40, 0.0), (41, 0.0), (42, 0.0), (43, 0.0), (44, 0.0), (45, 0.0), (46, 0.0), (47, 0.0), (48, 0.0), (49, 0.0), (50, 0.0), (51, 0.0), (52, 0.0), (53, 0.0), (54, 0.0), (55, 0.0), (56, 0.0), (57, 0.09051), (58, 0.0), (59, 0.0), (60, 0.0), (61, 0.0), (62, 0.0), (63, 0.0), (64, 0.0), (65, 0.0), (66, 0.0), (67, 0.01969), (68, 0.0), (69, 0.0), (70, 0.0), (71, 0.0), (72, 0.0), (73, 0.0), (74, 0.0), (75, 0.0), (76, 0.0), (77, 0.0), (78, 0.0), (79, 0.0), (80, 0.0), (81, 0.08119), (82, 0.0), (83, 0.0), (84, 0.0), (85, 0.0), (86, 0.0), (87, 0.0), (88, 0.0), (89, 0.0), (90, 0.0), (91, 0.0), (92, 0.0), (93, 0.0), (94, 0.0), (95, 0.0), (96, 0.0), (97, 0.0), (98, 0.0), (99, 0.0), (100, 0.0), (101, 0.0), (102, 0.0), (103, 0.0), (104, 0.0), (105, 0.0), (106, 0.0), (107, 0.0), (108, 0.0), (109, 0.0), (110, 0.0), (111, 0.0), (112, 0.0), (113, 0.0), (114, 0.0), (115, 0.0), (116, 0.0), (117, 0.0), (118, 0.0), (119, 0.0), (120, 0.0), (121, 0.0), (122, 0.0), (123, 0.0), (124, 0.0), (125, 0.0), (126, 0.0), (127, 0.0), (128, 0.0), (129, 0.0), (130, 0.0), (131, 0.0), (132, 0.0), (133, 0.0), (134, 0.0), (135, 0.0), (136, 0.0), (137, 0.0), (138, 0.0), (139, 0.0), (140, 0.0), (141, 0.0), (142, 0.0), (143, 0.0), (144, 0.0), (145, 0.04366), (146, 0.0), (147, 0.0), (148, 0.0), (149, 0.0), (150, 0.0), (151, 0.0), (152, 0.0), (153, 0.0), (154, 0.0), (155, 0.0), (156, 0.0), (157, 0.0), (158, 0.0), (159, 0.0), (160, 0.0), (161, 0.0), (162, 0.0), (163, 0.0), (164, 0.0), (165, 0.0), (166, 0.0), (167, 0.0), (168, 0.0), (169, 0.0), (170, 0.0), (171, 0.0), (172, 0.01891), (173, 0.0), (174, 0.0), (175, 0.0), (176, 0.0), (177, 0.0), (178, 0.0), (179, 0.0), (180, 0.0), (181, 0.0), (182, 0.0), (183, 0.0), (184, 0.0), (185, 0.0), (186, 0.0), (187, 0.0), (188, 0.0), (189, 0.0), (190, 0.0), (191, 0.0), (192, 0.0), (193, 0.0), (194, 0.0), (195, 0.0), (196, 0.0), (197, 0.0), (198, 0.0), (199, 0.0), (200, 0.0), (201, 0.0), (202, 0.0), (203, 0.0), (204, 0.0), (205, 0.0), (206, 0.0), (207, 0.0), (208, 0.0), (209, 0.0), (210, 0.0), (211, 0.0), (212, 0.0), (213, 0.0), (214, 0.0), (215, 0.0), (216, 0.0), (217, 0.0), (218, 0.0), (219, 0.0), (220, 0.0), (221, 0.0), (222, 0.0), (223, 0.0), (224, 0.0), (225, 0.0), (226, 0.0), (227, 0.0), (228, 0.0), (229, 0.0), (230, 0.0), (231, 0.0), (232, 0.0), (233, 0.0), (234, 0.0), (235, 0.0), (236, 0.0), (237, 0.0), (238, 0.0), (239, 0.0), (240, 0.0), (241, 0.0), (242, 0.0), (243, 0.0), (244, 0.0), (245, 0.0), (246, 0.0), (247, 0.0), (248, 0.0), (249, 0.0), (250, 0.0), (251, 0.0), (252, 0.0), (253, 0.0), (254, 0.0), (255, 0.0), (256, 0.0), (257, 0.0), (258, 0.0), (259, 0.0), (260, 0.0), (261, 0.0), (262, 0.0), (263, 0.0), (264, 0.0), (265, 0.0), (266, 0.0), (267, 0.0), (268, 0.0), (269, 0.0), (270, 0.0), (271, 0.0), (272, 0.0), (273, 0.0), (274, 0.0), (275, 0.0), (276, 0.0), (277, 0.0), (278, 0.0), (279, 0.0), (280, 0.0), (281, 0.0), (282, 0.0), (283, 0.0), (284, 0.0), (285, 0.0), (286, 0.0), (287, 0.0), (288, 0.0), (289, 0.0), (290, 0.0), (291, 0.0), (292, 0.0), (293, 0.0), (294, 0.0), (295, 0.0), (296, 0.0), (297, 0.0), (298, 0.0), (299, 0.0), (300, 0.0), (301, 0.0), (302, 0.0), (303, 0.0), (304, 0.0), (305, 0.0), (306, 0.0), (307, 0.0), (308, 0.0), (309, 0.0), (310, 0.0), (311, 0.0), (312, 0.0), (313, 0.0), (314, 0.0), (315, 0.0), (316, 0.0), (317, 0.0), (318, 0.0), (319, 0.0), (320, 0.048), (321, 0.0), (322, 0.0), (323, 0.0), (324, 0.0), (325, 0.0837), (326, 0.0), (327, 0.0), (328, 0.12258), (329, 0.0), (330, 0.08838), (331, 0.0), (332, 0.0), (333, 0.0)])\n",
      "Expected annual return: 17.1%\n",
      "Annual volatility: 3.2%\n",
      "Sharpe Ratio: 4.66\n"
     ]
    },
    {
     "data": {
      "text/plain": [
       "(0.17080796833776715, 0.032385210624883407, 4.656692528097773)"
      ]
     },
     "execution_count": 62,
     "metadata": {},
     "output_type": "execute_result"
    }
   ],
   "source": [
    "# Calculate expected returns and sample covariance\n",
    "mu = np.array(returns.mean())\n",
    "S = np.array(returns.cov())\n",
    "\n",
    "# Optimize for maximal Sharpe ratio\n",
    "ef = EfficientFrontier(mu, S)\n",
    "raw_weights = ef.max_sharpe()\n",
    "cleaned_weights = ef.clean_weights()\n",
    "ef.save_weights_to_file(\"weights.csv\")  # saves to file\n",
    "print(cleaned_weights)\n",
    "ef.portfolio_performance(verbose=True)"
   ]
  },
  {
   "cell_type": "code",
   "execution_count": 4,
   "id": "47b600d1",
   "metadata": {},
   "outputs": [],
   "source": []
  },
  {
   "cell_type": "code",
   "execution_count": null,
   "id": "975faebd",
   "metadata": {},
   "outputs": [],
   "source": [
    "\"\"\"\n",
    "    A function that retrieves data from a GFS file based on certain parameters and calculates the efficient frontier\n",
    "    for different threshold values.\n",
    "\n",
    "    Parameters:\n",
    "    file_path (str): The path to the GFS file.\n",
    "    column_name (str): The name of the column to search for data.\n",
    "    column_value (str): The value to search for in the specified column.\n",
    "    prefixes (list): A list of prefixes to search for in the specified column.\n",
    "    start_date (str): The start date for the data retrieval (in the format YYYYMMDD).\n",
    "    end_date (str): The end date for the data retrieval (in the format YYYYMMDD).\n",
    "    time (str): The time period for the data retrieval. Default is 'y' (yearly).\n",
    "    bounds (list): A list of tuples specifying the minimum and maximum bounds for each asset (optional).\n",
    "    esg (DataFrame): A pandas DataFrame containing ESG scores for each asset (optional).\n",
    "    mu (ndarray): An array containing the expected returns for each asset (optional).\n",
    "    cov (ndarray): A covariance matrix for the assets (optional).\n",
    "    target (float): The target return for the efficient frontier (optional).\n",
    "    rf (float): The risk-free rate (optional).\n",
    "    returns (DataFrame): A pandas DataFrame containing the returns data (optional).\n",
    "    score (str): The name of the score to use for the efficient frontier (optional).\n",
    "\n",
    "    Returns:\n",
    "    The efficient frontier for different threshold values.\n",
    "    \"\"\""
   ]
  }
 ],
 "metadata": {
  "kernelspec": {
   "display_name": "Python 3 (ipykernel)",
   "language": "python",
   "name": "python3"
  },
  "language_info": {
   "codemirror_mode": {
    "name": "ipython",
    "version": 3
   },
   "file_extension": ".py",
   "mimetype": "text/x-python",
   "name": "python",
   "nbconvert_exporter": "python",
   "pygments_lexer": "ipython3",
   "version": "3.9.12"
  }
 },
 "nbformat": 4,
 "nbformat_minor": 5
}
